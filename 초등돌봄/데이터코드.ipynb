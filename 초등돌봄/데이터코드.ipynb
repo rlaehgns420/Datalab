{
  "nbformat": 4,
  "nbformat_minor": 0,
  "metadata": {
    "colab": {
      "name": "창업 아이디어분야_워킹맘(김도훈)_데이터코드.ipynb",
      "provenance": [],
      "collapsed_sections": [
        "KSBGHZnMo6Yy"
      ],
      "toc_visible": true
    },
    "kernelspec": {
      "name": "python3",
      "display_name": "Python 3"
    }
  },
  "cells": [
    {
      "cell_type": "code",
      "metadata": {
        "id": "ANoFK6BRAcrn",
        "colab_type": "code",
        "colab": {
          "base_uri": "https://localhost:8080/",
          "height": 34
        },
        "outputId": "e8b6e861-20bd-4190-ffc7-fc8b1f9821a7"
      },
      "source": [
        "from google.colab import drive\n",
        "drive.mount('/content/drive')"
      ],
      "execution_count": 1,
      "outputs": [
        {
          "output_type": "stream",
          "text": [
            "Drive already mounted at /content/drive; to attempt to forcibly remount, call drive.mount(\"/content/drive\", force_remount=True).\n"
          ],
          "name": "stdout"
        }
      ]
    },
    {
      "cell_type": "markdown",
      "metadata": {
        "id": "YsWXXJ1fpE2S",
        "colab_type": "text"
      },
      "source": [
        "# 지역별 수요분석과 예측을 통한 돌봄시설 우선 배치 필요지역 선정 및 서비스 구현"
      ]
    },
    {
      "cell_type": "markdown",
      "metadata": {
        "id": "Ar9koUMLpBHW",
        "colab_type": "text"
      },
      "source": [
        "## 패키지 데이터 불러오기"
      ]
    },
    {
      "cell_type": "markdown",
      "metadata": {
        "id": "KSBGHZnMo6Yy",
        "colab_type": "text"
      },
      "source": [
        "### R연동하기 "
      ]
    },
    {
      "cell_type": "code",
      "metadata": {
        "id": "kkweh9hzdojI",
        "colab_type": "code",
        "colab": {
          "base_uri": "https://localhost:8080/",
          "height": 52
        },
        "outputId": "33697817-d81e-46ad-e5f4-8e6153d1e74e"
      },
      "source": [
        "# activate R magic\n",
        "%load_ext rpy2.ipython"
      ],
      "execution_count": 3,
      "outputs": [
        {
          "output_type": "stream",
          "text": [
            "The rpy2.ipython extension is already loaded. To reload it, use:\n",
            "  %reload_ext rpy2.ipython\n"
          ],
          "name": "stdout"
        }
      ]
    },
    {
      "cell_type": "code",
      "metadata": {
        "id": "i7iM0o8CeBEU",
        "colab_type": "code",
        "colab": {}
      },
      "source": [
        "# R 패키지 설치 \n",
        "%%R\n",
        "install.packages(\"car\")\n",
        "install.packages(\"dplyr\")\n",
        "install.packages(\"MASS\")\n",
        "install.packages(\"leaps\")\n",
        "install.packages(\"corrgram\")"
      ],
      "execution_count": null,
      "outputs": []
    },
    {
      "cell_type": "code",
      "metadata": {
        "id": "tx2XbnQYeEaY",
        "colab_type": "code",
        "colab": {
          "base_uri": "https://localhost:8080/",
          "height": 615
        },
        "outputId": "2631f01c-f879-471f-ff88-dd171691d56c"
      },
      "source": [
        "# R 라이브러리  \n",
        "%%R\n",
        "library(car)\n",
        "library(dplyr)\n",
        "library(MASS)\n",
        "library(leaps)\n",
        "library(corrgram)"
      ],
      "execution_count": 5,
      "outputs": [
        {
          "output_type": "stream",
          "text": [
            "R[write to console]: Loading required package: carData\n",
            "\n",
            "R[write to console]: \n",
            "Attaching package: ‘dplyr’\n",
            "\n",
            "\n",
            "R[write to console]: The following object is masked from ‘package:car’:\n",
            "\n",
            "    recode\n",
            "\n",
            "\n",
            "R[write to console]: The following objects are masked from ‘package:stats’:\n",
            "\n",
            "    filter, lag\n",
            "\n",
            "\n",
            "R[write to console]: The following objects are masked from ‘package:base’:\n",
            "\n",
            "    intersect, setdiff, setequal, union\n",
            "\n",
            "\n",
            "R[write to console]: \n",
            "Attaching package: ‘MASS’\n",
            "\n",
            "\n",
            "R[write to console]: The following object is masked from ‘package:dplyr’:\n",
            "\n",
            "    select\n",
            "\n",
            "\n",
            "R[write to console]: Registered S3 method overwritten by 'seriation':\n",
            "  method         from \n",
            "  reorder.hclust gclus\n",
            "\n"
          ],
          "name": "stderr"
        }
      ]
    },
    {
      "cell_type": "markdown",
      "metadata": {
        "id": "ojtXEqw4pTYS",
        "colab_type": "text"
      },
      "source": [
        "### 판다스, 넘파이 "
      ]
    },
    {
      "cell_type": "code",
      "metadata": {
        "id": "Cd1ILjLpBT7C",
        "colab_type": "code",
        "colab": {}
      },
      "source": [
        "import io\n",
        "import pandas as pd"
      ],
      "execution_count": 6,
      "outputs": []
    },
    {
      "cell_type": "code",
      "metadata": {
        "id": "3bqwtC5yA4bT",
        "colab_type": "code",
        "colab": {}
      },
      "source": [
        "filename = '/content/drive/My Drive/교육데이터/전처리후.csv'"
      ],
      "execution_count": 7,
      "outputs": []
    },
    {
      "cell_type": "code",
      "metadata": {
        "id": "9FNKiBzZBBpB",
        "colab_type": "code",
        "colab": {}
      },
      "source": [
        "df = pd.read_csv(filename)"
      ],
      "execution_count": 8,
      "outputs": []
    },
    {
      "cell_type": "markdown",
      "metadata": {
        "id": "3DR4QUB2phF1",
        "colab_type": "text"
      },
      "source": [
        "### 한글 폰트 "
      ]
    },
    {
      "cell_type": "code",
      "metadata": {
        "id": "Ea9hL6s6pj8s",
        "colab_type": "code",
        "colab": {
          "base_uri": "https://localhost:8080/",
          "height": 125
        },
        "outputId": "eccd7546-44a5-40d5-a39b-75015cc19ab6"
      },
      "source": [
        "# 한글폰트 깨짐 해결 \n",
        "!apt -qq -y install fonts-nanum > /dev/null\n",
        "\n",
        "import seaborn as sns\n",
        "import matplotlib.pyplot as plt\n",
        "import matplotlib.font_manager as fm\n",
        "\n",
        "fontpath = '/usr/share/fonts/truetype/nanum/NanumBarunGothic.ttf'\n",
        "font = fm.FontProperties(fname = fontpath, size = 10)\n",
        "fm._rebuild()\n",
        "\n",
        "# 그래프에 retina display 적용\n",
        "%config lnlineBackend.figure_format = 'retina'\n",
        "\n",
        "# Colab 의 한글 폰트 설정\n",
        "plt.rc('font', family='NanumBarunGothic')"
      ],
      "execution_count": 9,
      "outputs": [
        {
          "output_type": "stream",
          "text": [
            "\n",
            "WARNING: apt does not have a stable CLI interface. Use with caution in scripts.\n",
            "\n"
          ],
          "name": "stdout"
        },
        {
          "output_type": "stream",
          "text": [
            "/usr/local/lib/python3.6/dist-packages/statsmodels/tools/_testing.py:19: FutureWarning: pandas.util.testing is deprecated. Use the functions in the public API at pandas.testing instead.\n",
            "  import pandas.util.testing as tm\n"
          ],
          "name": "stderr"
        }
      ]
    },
    {
      "cell_type": "code",
      "metadata": {
        "id": "NrmwdaSzBB5q",
        "colab_type": "code",
        "colab": {
          "base_uri": "https://localhost:8080/",
          "height": 296
        },
        "outputId": "ef8f4c28-0b4f-4f86-9e52-3502ac3a440a"
      },
      "source": [
        "df.head()"
      ],
      "execution_count": 10,
      "outputs": [
        {
          "output_type": "execute_result",
          "data": {
            "text/html": [
              "<div>\n",
              "<style scoped>\n",
              "    .dataframe tbody tr th:only-of-type {\n",
              "        vertical-align: middle;\n",
              "    }\n",
              "\n",
              "    .dataframe tbody tr th {\n",
              "        vertical-align: top;\n",
              "    }\n",
              "\n",
              "    .dataframe thead th {\n",
              "        text-align: right;\n",
              "    }\n",
              "</style>\n",
              "<table border=\"1\" class=\"dataframe\">\n",
              "  <thead>\n",
              "    <tr style=\"text-align: right;\">\n",
              "      <th></th>\n",
              "      <th>시군구별(1)</th>\n",
              "      <th>시군구별(2)</th>\n",
              "      <th>시도코드</th>\n",
              "      <th>시군구코드</th>\n",
              "      <th>초등돌봄교실</th>\n",
              "      <th>지역아동센터</th>\n",
              "      <th>다함께돌봄센터</th>\n",
              "      <th>청소년방과후아카데미</th>\n",
              "      <th>비만지수</th>\n",
              "      <th>음주율</th>\n",
              "      <th>학생수</th>\n",
              "      <th>교육경비보조금</th>\n",
              "      <th>도서관수</th>\n",
              "      <th>한부모가구수</th>\n",
              "    </tr>\n",
              "  </thead>\n",
              "  <tbody>\n",
              "    <tr>\n",
              "      <th>0</th>\n",
              "      <td>서울특별시</td>\n",
              "      <td>강남구</td>\n",
              "      <td>11</td>\n",
              "      <td>680.0</td>\n",
              "      <td>117</td>\n",
              "      <td>4</td>\n",
              "      <td>4</td>\n",
              "      <td>1</td>\n",
              "      <td>19.439200</td>\n",
              "      <td>64.4</td>\n",
              "      <td>25905</td>\n",
              "      <td>1.385158e+10</td>\n",
              "      <td>35</td>\n",
              "      <td>818</td>\n",
              "    </tr>\n",
              "    <tr>\n",
              "      <th>1</th>\n",
              "      <td>서울특별시</td>\n",
              "      <td>강동구</td>\n",
              "      <td>11</td>\n",
              "      <td>740.0</td>\n",
              "      <td>108</td>\n",
              "      <td>23</td>\n",
              "      <td>1</td>\n",
              "      <td>1</td>\n",
              "      <td>19.815217</td>\n",
              "      <td>60.7</td>\n",
              "      <td>21353</td>\n",
              "      <td>4.103795e+09</td>\n",
              "      <td>22</td>\n",
              "      <td>1108</td>\n",
              "    </tr>\n",
              "    <tr>\n",
              "      <th>2</th>\n",
              "      <td>서울특별시</td>\n",
              "      <td>강북구</td>\n",
              "      <td>11</td>\n",
              "      <td>305.0</td>\n",
              "      <td>43</td>\n",
              "      <td>22</td>\n",
              "      <td>0</td>\n",
              "      <td>1</td>\n",
              "      <td>20.107143</td>\n",
              "      <td>62.1</td>\n",
              "      <td>9913</td>\n",
              "      <td>3.276998e+09</td>\n",
              "      <td>14</td>\n",
              "      <td>1661</td>\n",
              "    </tr>\n",
              "    <tr>\n",
              "      <th>3</th>\n",
              "      <td>서울특별시</td>\n",
              "      <td>강서구</td>\n",
              "      <td>11</td>\n",
              "      <td>500.0</td>\n",
              "      <td>121</td>\n",
              "      <td>21</td>\n",
              "      <td>2</td>\n",
              "      <td>1</td>\n",
              "      <td>19.844444</td>\n",
              "      <td>61.5</td>\n",
              "      <td>26078</td>\n",
              "      <td>2.821710e+09</td>\n",
              "      <td>32</td>\n",
              "      <td>1885</td>\n",
              "    </tr>\n",
              "    <tr>\n",
              "      <th>4</th>\n",
              "      <td>서울특별시</td>\n",
              "      <td>관악구</td>\n",
              "      <td>11</td>\n",
              "      <td>620.0</td>\n",
              "      <td>89</td>\n",
              "      <td>30</td>\n",
              "      <td>0</td>\n",
              "      <td>0</td>\n",
              "      <td>19.887640</td>\n",
              "      <td>60.0</td>\n",
              "      <td>14410</td>\n",
              "      <td>3.764509e+09</td>\n",
              "      <td>21</td>\n",
              "      <td>1239</td>\n",
              "    </tr>\n",
              "  </tbody>\n",
              "</table>\n",
              "</div>"
            ],
            "text/plain": [
              "  시군구별(1) 시군구별(2)  시도코드  시군구코드  초등돌봄교실  ...   음주율    학생수       교육경비보조금  도서관수  한부모가구수\n",
              "0   서울특별시     강남구    11  680.0     117  ...  64.4  25905  1.385158e+10    35     818\n",
              "1   서울특별시     강동구    11  740.0     108  ...  60.7  21353  4.103795e+09    22    1108\n",
              "2   서울특별시     강북구    11  305.0      43  ...  62.1   9913  3.276998e+09    14    1661\n",
              "3   서울특별시     강서구    11  500.0     121  ...  61.5  26078  2.821710e+09    32    1885\n",
              "4   서울특별시     관악구    11  620.0      89  ...  60.0  14410  3.764509e+09    21    1239\n",
              "\n",
              "[5 rows x 14 columns]"
            ]
          },
          "metadata": {
            "tags": []
          },
          "execution_count": 10
        }
      ]
    },
    {
      "cell_type": "markdown",
      "metadata": {
        "id": "rYf9jeVbEqvI",
        "colab_type": "text"
      },
      "source": [
        "## 데이터 통계"
      ]
    },
    {
      "cell_type": "markdown",
      "metadata": {
        "id": "bWtp6J3IFAsJ",
        "colab_type": "text"
      },
      "source": [
        "### 학생수 대비 초등돌봄교실이 가장 적은 지역구 Top10"
      ]
    },
    {
      "cell_type": "code",
      "metadata": {
        "id": "AVq7tuqgFyY5",
        "colab_type": "code",
        "colab": {
          "base_uri": "https://localhost:8080/",
          "height": 545
        },
        "outputId": "c1a3a7a8-c48d-45c8-d8c9-d96b11a3c50a"
      },
      "source": [
        "df['학생수대비초등돌봄교실수'] = df['초등돌봄교실'] / df['학생수']\n",
        "df.sort_values(by='학생수대비초등돌봄교실수').head(10)"
      ],
      "execution_count": 11,
      "outputs": [
        {
          "output_type": "execute_result",
          "data": {
            "text/html": [
              "<div>\n",
              "<style scoped>\n",
              "    .dataframe tbody tr th:only-of-type {\n",
              "        vertical-align: middle;\n",
              "    }\n",
              "\n",
              "    .dataframe tbody tr th {\n",
              "        vertical-align: top;\n",
              "    }\n",
              "\n",
              "    .dataframe thead th {\n",
              "        text-align: right;\n",
              "    }\n",
              "</style>\n",
              "<table border=\"1\" class=\"dataframe\">\n",
              "  <thead>\n",
              "    <tr style=\"text-align: right;\">\n",
              "      <th></th>\n",
              "      <th>시군구별(1)</th>\n",
              "      <th>시군구별(2)</th>\n",
              "      <th>시도코드</th>\n",
              "      <th>시군구코드</th>\n",
              "      <th>초등돌봄교실</th>\n",
              "      <th>지역아동센터</th>\n",
              "      <th>다함께돌봄센터</th>\n",
              "      <th>청소년방과후아카데미</th>\n",
              "      <th>비만지수</th>\n",
              "      <th>음주율</th>\n",
              "      <th>학생수</th>\n",
              "      <th>교육경비보조금</th>\n",
              "      <th>도서관수</th>\n",
              "      <th>한부모가구수</th>\n",
              "      <th>학생수대비초등돌봄교실수</th>\n",
              "    </tr>\n",
              "  </thead>\n",
              "  <tbody>\n",
              "    <tr>\n",
              "      <th>214</th>\n",
              "      <td>경상남도</td>\n",
              "      <td>창원시</td>\n",
              "      <td>48</td>\n",
              "      <td>120.0</td>\n",
              "      <td>29</td>\n",
              "      <td>79</td>\n",
              "      <td>1</td>\n",
              "      <td>2</td>\n",
              "      <td>20.078615</td>\n",
              "      <td>65.3</td>\n",
              "      <td>58402</td>\n",
              "      <td>1.608931e+10</td>\n",
              "      <td>64</td>\n",
              "      <td>362</td>\n",
              "      <td>0.000497</td>\n",
              "    </tr>\n",
              "    <tr>\n",
              "      <th>58</th>\n",
              "      <td>인천광역시</td>\n",
              "      <td>중구</td>\n",
              "      <td>28</td>\n",
              "      <td>110.0</td>\n",
              "      <td>6</td>\n",
              "      <td>4</td>\n",
              "      <td>0</td>\n",
              "      <td>0</td>\n",
              "      <td>19.974510</td>\n",
              "      <td>61.6</td>\n",
              "      <td>8455</td>\n",
              "      <td>4.335007e+09</td>\n",
              "      <td>18</td>\n",
              "      <td>419</td>\n",
              "      <td>0.000710</td>\n",
              "    </tr>\n",
              "    <tr>\n",
              "      <th>218</th>\n",
              "      <td>경상남도</td>\n",
              "      <td>양산시</td>\n",
              "      <td>48</td>\n",
              "      <td>330.0</td>\n",
              "      <td>17</td>\n",
              "      <td>18</td>\n",
              "      <td>0</td>\n",
              "      <td>2</td>\n",
              "      <td>20.283893</td>\n",
              "      <td>59.9</td>\n",
              "      <td>22174</td>\n",
              "      <td>8.803169e+09</td>\n",
              "      <td>16</td>\n",
              "      <td>59</td>\n",
              "      <td>0.000767</td>\n",
              "    </tr>\n",
              "    <tr>\n",
              "      <th>53</th>\n",
              "      <td>인천광역시</td>\n",
              "      <td>동구</td>\n",
              "      <td>28</td>\n",
              "      <td>140.0</td>\n",
              "      <td>21</td>\n",
              "      <td>51</td>\n",
              "      <td>0</td>\n",
              "      <td>0</td>\n",
              "      <td>20.105882</td>\n",
              "      <td>59.9</td>\n",
              "      <td>17543</td>\n",
              "      <td>9.090000e+06</td>\n",
              "      <td>5</td>\n",
              "      <td>264</td>\n",
              "      <td>0.001197</td>\n",
              "    </tr>\n",
              "    <tr>\n",
              "      <th>220</th>\n",
              "      <td>경상남도</td>\n",
              "      <td>진주시</td>\n",
              "      <td>48</td>\n",
              "      <td>170.0</td>\n",
              "      <td>25</td>\n",
              "      <td>23</td>\n",
              "      <td>4</td>\n",
              "      <td>1</td>\n",
              "      <td>19.965896</td>\n",
              "      <td>62.4</td>\n",
              "      <td>20126</td>\n",
              "      <td>5.763600e+09</td>\n",
              "      <td>29</td>\n",
              "      <td>195</td>\n",
              "      <td>0.001242</td>\n",
              "    </tr>\n",
              "    <tr>\n",
              "      <th>60</th>\n",
              "      <td>광주광역시</td>\n",
              "      <td>남구</td>\n",
              "      <td>29</td>\n",
              "      <td>155.0</td>\n",
              "      <td>24</td>\n",
              "      <td>49</td>\n",
              "      <td>0</td>\n",
              "      <td>0</td>\n",
              "      <td>19.941860</td>\n",
              "      <td>55.8</td>\n",
              "      <td>13534</td>\n",
              "      <td>1.105860e+08</td>\n",
              "      <td>22</td>\n",
              "      <td>1212</td>\n",
              "      <td>0.001773</td>\n",
              "    </tr>\n",
              "    <tr>\n",
              "      <th>47</th>\n",
              "      <td>대구광역시</td>\n",
              "      <td>수성구</td>\n",
              "      <td>27</td>\n",
              "      <td>260.0</td>\n",
              "      <td>61</td>\n",
              "      <td>17</td>\n",
              "      <td>0</td>\n",
              "      <td>1</td>\n",
              "      <td>19.728676</td>\n",
              "      <td>56.9</td>\n",
              "      <td>23136</td>\n",
              "      <td>1.845905e+09</td>\n",
              "      <td>25</td>\n",
              "      <td>1722</td>\n",
              "      <td>0.002637</td>\n",
              "    </tr>\n",
              "    <tr>\n",
              "      <th>25</th>\n",
              "      <td>부산광역시</td>\n",
              "      <td>강서구</td>\n",
              "      <td>26</td>\n",
              "      <td>440.0</td>\n",
              "      <td>27</td>\n",
              "      <td>3</td>\n",
              "      <td>1</td>\n",
              "      <td>0</td>\n",
              "      <td>19.851667</td>\n",
              "      <td>63.4</td>\n",
              "      <td>10234</td>\n",
              "      <td>2.554530e+09</td>\n",
              "      <td>8</td>\n",
              "      <td>305</td>\n",
              "      <td>0.002638</td>\n",
              "    </tr>\n",
              "    <tr>\n",
              "      <th>77</th>\n",
              "      <td>경기도</td>\n",
              "      <td>과천시</td>\n",
              "      <td>41</td>\n",
              "      <td>290.0</td>\n",
              "      <td>8</td>\n",
              "      <td>5</td>\n",
              "      <td>1</td>\n",
              "      <td>0</td>\n",
              "      <td>18.812500</td>\n",
              "      <td>57.8</td>\n",
              "      <td>2882</td>\n",
              "      <td>5.407222e+09</td>\n",
              "      <td>7</td>\n",
              "      <td>61</td>\n",
              "      <td>0.002776</td>\n",
              "    </tr>\n",
              "    <tr>\n",
              "      <th>48</th>\n",
              "      <td>대구광역시</td>\n",
              "      <td>중구</td>\n",
              "      <td>27</td>\n",
              "      <td>110.0</td>\n",
              "      <td>12</td>\n",
              "      <td>5</td>\n",
              "      <td>0</td>\n",
              "      <td>1</td>\n",
              "      <td>19.855000</td>\n",
              "      <td>65.4</td>\n",
              "      <td>4254</td>\n",
              "      <td>2.412800e+08</td>\n",
              "      <td>6</td>\n",
              "      <td>298</td>\n",
              "      <td>0.002821</td>\n",
              "    </tr>\n",
              "  </tbody>\n",
              "</table>\n",
              "</div>"
            ],
            "text/plain": [
              "    시군구별(1) 시군구별(2)  시도코드  시군구코드  ...       교육경비보조금  도서관수  한부모가구수  학생수대비초등돌봄교실수\n",
              "214    경상남도     창원시    48  120.0  ...  1.608931e+10    64     362      0.000497\n",
              "58    인천광역시      중구    28  110.0  ...  4.335007e+09    18     419      0.000710\n",
              "218    경상남도     양산시    48  330.0  ...  8.803169e+09    16      59      0.000767\n",
              "53    인천광역시      동구    28  140.0  ...  9.090000e+06     5     264      0.001197\n",
              "220    경상남도     진주시    48  170.0  ...  5.763600e+09    29     195      0.001242\n",
              "60    광주광역시      남구    29  155.0  ...  1.105860e+08    22    1212      0.001773\n",
              "47    대구광역시     수성구    27  260.0  ...  1.845905e+09    25    1722      0.002637\n",
              "25    부산광역시     강서구    26  440.0  ...  2.554530e+09     8     305      0.002638\n",
              "77      경기도     과천시    41  290.0  ...  5.407222e+09     7      61      0.002776\n",
              "48    대구광역시      중구    27  110.0  ...  2.412800e+08     6     298      0.002821\n",
              "\n",
              "[10 rows x 15 columns]"
            ]
          },
          "metadata": {
            "tags": []
          },
          "execution_count": 11
        }
      ]
    },
    {
      "cell_type": "code",
      "metadata": {
        "id": "D3Ynm6h1NhD0",
        "colab_type": "code",
        "colab": {
          "base_uri": "https://localhost:8080/",
          "height": 343
        },
        "outputId": "883e611b-4bed-44ca-f2e0-02ce2e112253"
      },
      "source": [
        "df[['시군구별(1)','시군구별(2)','학생수대비초등돌봄교실수']].sort_values(by='학생수대비초등돌봄교실수').head(10)"
      ],
      "execution_count": 12,
      "outputs": [
        {
          "output_type": "execute_result",
          "data": {
            "text/html": [
              "<div>\n",
              "<style scoped>\n",
              "    .dataframe tbody tr th:only-of-type {\n",
              "        vertical-align: middle;\n",
              "    }\n",
              "\n",
              "    .dataframe tbody tr th {\n",
              "        vertical-align: top;\n",
              "    }\n",
              "\n",
              "    .dataframe thead th {\n",
              "        text-align: right;\n",
              "    }\n",
              "</style>\n",
              "<table border=\"1\" class=\"dataframe\">\n",
              "  <thead>\n",
              "    <tr style=\"text-align: right;\">\n",
              "      <th></th>\n",
              "      <th>시군구별(1)</th>\n",
              "      <th>시군구별(2)</th>\n",
              "      <th>학생수대비초등돌봄교실수</th>\n",
              "    </tr>\n",
              "  </thead>\n",
              "  <tbody>\n",
              "    <tr>\n",
              "      <th>214</th>\n",
              "      <td>경상남도</td>\n",
              "      <td>창원시</td>\n",
              "      <td>0.000497</td>\n",
              "    </tr>\n",
              "    <tr>\n",
              "      <th>58</th>\n",
              "      <td>인천광역시</td>\n",
              "      <td>중구</td>\n",
              "      <td>0.000710</td>\n",
              "    </tr>\n",
              "    <tr>\n",
              "      <th>218</th>\n",
              "      <td>경상남도</td>\n",
              "      <td>양산시</td>\n",
              "      <td>0.000767</td>\n",
              "    </tr>\n",
              "    <tr>\n",
              "      <th>53</th>\n",
              "      <td>인천광역시</td>\n",
              "      <td>동구</td>\n",
              "      <td>0.001197</td>\n",
              "    </tr>\n",
              "    <tr>\n",
              "      <th>220</th>\n",
              "      <td>경상남도</td>\n",
              "      <td>진주시</td>\n",
              "      <td>0.001242</td>\n",
              "    </tr>\n",
              "    <tr>\n",
              "      <th>60</th>\n",
              "      <td>광주광역시</td>\n",
              "      <td>남구</td>\n",
              "      <td>0.001773</td>\n",
              "    </tr>\n",
              "    <tr>\n",
              "      <th>47</th>\n",
              "      <td>대구광역시</td>\n",
              "      <td>수성구</td>\n",
              "      <td>0.002637</td>\n",
              "    </tr>\n",
              "    <tr>\n",
              "      <th>25</th>\n",
              "      <td>부산광역시</td>\n",
              "      <td>강서구</td>\n",
              "      <td>0.002638</td>\n",
              "    </tr>\n",
              "    <tr>\n",
              "      <th>77</th>\n",
              "      <td>경기도</td>\n",
              "      <td>과천시</td>\n",
              "      <td>0.002776</td>\n",
              "    </tr>\n",
              "    <tr>\n",
              "      <th>48</th>\n",
              "      <td>대구광역시</td>\n",
              "      <td>중구</td>\n",
              "      <td>0.002821</td>\n",
              "    </tr>\n",
              "  </tbody>\n",
              "</table>\n",
              "</div>"
            ],
            "text/plain": [
              "    시군구별(1) 시군구별(2)  학생수대비초등돌봄교실수\n",
              "214    경상남도     창원시      0.000497\n",
              "58    인천광역시      중구      0.000710\n",
              "218    경상남도     양산시      0.000767\n",
              "53    인천광역시      동구      0.001197\n",
              "220    경상남도     진주시      0.001242\n",
              "60    광주광역시      남구      0.001773\n",
              "47    대구광역시     수성구      0.002637\n",
              "25    부산광역시     강서구      0.002638\n",
              "77      경기도     과천시      0.002776\n",
              "48    대구광역시      중구      0.002821"
            ]
          },
          "metadata": {
            "tags": []
          },
          "execution_count": 12
        }
      ]
    },
    {
      "cell_type": "markdown",
      "metadata": {
        "id": "zBqTzLyUFV_J",
        "colab_type": "text"
      },
      "source": [
        "### 학생수 대비 지역아동센터가 가장 적은 지역구 Top10"
      ]
    },
    {
      "cell_type": "code",
      "metadata": {
        "id": "ufMlR7BUFy0g",
        "colab_type": "code",
        "colab": {
          "base_uri": "https://localhost:8080/",
          "height": 494
        },
        "outputId": "b0eb72bf-d1f7-48ac-f10e-bc8289ee524b"
      },
      "source": [
        "df['학생수대비지역아동센터수'] = df['지역아동센터'] / df['학생수']\n",
        "df.sort_values(by='학생수대비지역아동센터수').head(10)"
      ],
      "execution_count": 13,
      "outputs": [
        {
          "output_type": "execute_result",
          "data": {
            "text/html": [
              "<div>\n",
              "<style scoped>\n",
              "    .dataframe tbody tr th:only-of-type {\n",
              "        vertical-align: middle;\n",
              "    }\n",
              "\n",
              "    .dataframe tbody tr th {\n",
              "        vertical-align: top;\n",
              "    }\n",
              "\n",
              "    .dataframe thead th {\n",
              "        text-align: right;\n",
              "    }\n",
              "</style>\n",
              "<table border=\"1\" class=\"dataframe\">\n",
              "  <thead>\n",
              "    <tr style=\"text-align: right;\">\n",
              "      <th></th>\n",
              "      <th>시군구별(1)</th>\n",
              "      <th>시군구별(2)</th>\n",
              "      <th>시도코드</th>\n",
              "      <th>시군구코드</th>\n",
              "      <th>초등돌봄교실</th>\n",
              "      <th>지역아동센터</th>\n",
              "      <th>다함께돌봄센터</th>\n",
              "      <th>청소년방과후아카데미</th>\n",
              "      <th>비만지수</th>\n",
              "      <th>음주율</th>\n",
              "      <th>학생수</th>\n",
              "      <th>교육경비보조금</th>\n",
              "      <th>도서관수</th>\n",
              "      <th>한부모가구수</th>\n",
              "      <th>학생수대비초등돌봄교실수</th>\n",
              "      <th>학생수대비지역아동센터수</th>\n",
              "    </tr>\n",
              "  </thead>\n",
              "  <tbody>\n",
              "    <tr>\n",
              "      <th>0</th>\n",
              "      <td>서울특별시</td>\n",
              "      <td>강남구</td>\n",
              "      <td>11</td>\n",
              "      <td>680.0</td>\n",
              "      <td>117</td>\n",
              "      <td>4</td>\n",
              "      <td>4</td>\n",
              "      <td>1</td>\n",
              "      <td>19.439200</td>\n",
              "      <td>64.4</td>\n",
              "      <td>25905</td>\n",
              "      <td>1.385158e+10</td>\n",
              "      <td>35</td>\n",
              "      <td>818</td>\n",
              "      <td>0.004517</td>\n",
              "      <td>0.000154</td>\n",
              "    </tr>\n",
              "    <tr>\n",
              "      <th>25</th>\n",
              "      <td>부산광역시</td>\n",
              "      <td>강서구</td>\n",
              "      <td>26</td>\n",
              "      <td>440.0</td>\n",
              "      <td>27</td>\n",
              "      <td>3</td>\n",
              "      <td>1</td>\n",
              "      <td>0</td>\n",
              "      <td>19.851667</td>\n",
              "      <td>63.4</td>\n",
              "      <td>10234</td>\n",
              "      <td>2.554530e+09</td>\n",
              "      <td>8</td>\n",
              "      <td>305</td>\n",
              "      <td>0.002638</td>\n",
              "      <td>0.000293</td>\n",
              "    </tr>\n",
              "    <tr>\n",
              "      <th>74</th>\n",
              "      <td>세종특별자치시</td>\n",
              "      <td>세종시</td>\n",
              "      <td>36</td>\n",
              "      <td>110.0</td>\n",
              "      <td>176</td>\n",
              "      <td>13</td>\n",
              "      <td>3</td>\n",
              "      <td>1</td>\n",
              "      <td>19.786432</td>\n",
              "      <td>60.8</td>\n",
              "      <td>29487</td>\n",
              "      <td>9.551520e+08</td>\n",
              "      <td>29</td>\n",
              "      <td>679</td>\n",
              "      <td>0.005969</td>\n",
              "      <td>0.000441</td>\n",
              "    </tr>\n",
              "    <tr>\n",
              "      <th>14</th>\n",
              "      <td>서울특별시</td>\n",
              "      <td>서초구</td>\n",
              "      <td>11</td>\n",
              "      <td>650.0</td>\n",
              "      <td>84</td>\n",
              "      <td>10</td>\n",
              "      <td>1</td>\n",
              "      <td>0</td>\n",
              "      <td>19.420619</td>\n",
              "      <td>57.4</td>\n",
              "      <td>22668</td>\n",
              "      <td>8.265464e+09</td>\n",
              "      <td>18</td>\n",
              "      <td>469</td>\n",
              "      <td>0.003706</td>\n",
              "      <td>0.000441</td>\n",
              "    </tr>\n",
              "    <tr>\n",
              "      <th>58</th>\n",
              "      <td>인천광역시</td>\n",
              "      <td>중구</td>\n",
              "      <td>28</td>\n",
              "      <td>110.0</td>\n",
              "      <td>6</td>\n",
              "      <td>4</td>\n",
              "      <td>0</td>\n",
              "      <td>0</td>\n",
              "      <td>19.974510</td>\n",
              "      <td>61.6</td>\n",
              "      <td>8455</td>\n",
              "      <td>4.335007e+09</td>\n",
              "      <td>18</td>\n",
              "      <td>419</td>\n",
              "      <td>0.000710</td>\n",
              "      <td>0.000473</td>\n",
              "    </tr>\n",
              "    <tr>\n",
              "      <th>102</th>\n",
              "      <td>경기도</td>\n",
              "      <td>용인시</td>\n",
              "      <td>41</td>\n",
              "      <td>460.0</td>\n",
              "      <td>216</td>\n",
              "      <td>35</td>\n",
              "      <td>3</td>\n",
              "      <td>1</td>\n",
              "      <td>19.511352</td>\n",
              "      <td>62.3</td>\n",
              "      <td>68903</td>\n",
              "      <td>3.053549e+10</td>\n",
              "      <td>49</td>\n",
              "      <td>1456</td>\n",
              "      <td>0.003135</td>\n",
              "      <td>0.000508</td>\n",
              "    </tr>\n",
              "    <tr>\n",
              "      <th>51</th>\n",
              "      <td>인천광역시</td>\n",
              "      <td>미추홀구</td>\n",
              "      <td>28</td>\n",
              "      <td>177.0</td>\n",
              "      <td>87</td>\n",
              "      <td>15</td>\n",
              "      <td>0</td>\n",
              "      <td>0</td>\n",
              "      <td>20.269388</td>\n",
              "      <td>62.6</td>\n",
              "      <td>29286</td>\n",
              "      <td>3.421005e+09</td>\n",
              "      <td>25</td>\n",
              "      <td>2310</td>\n",
              "      <td>0.002971</td>\n",
              "      <td>0.000512</td>\n",
              "    </tr>\n",
              "    <tr>\n",
              "      <th>203</th>\n",
              "      <td>경상북도</td>\n",
              "      <td>울진군</td>\n",
              "      <td>47</td>\n",
              "      <td>930.0</td>\n",
              "      <td>21</td>\n",
              "      <td>1</td>\n",
              "      <td>0</td>\n",
              "      <td>2</td>\n",
              "      <td>20.728889</td>\n",
              "      <td>60.5</td>\n",
              "      <td>1859</td>\n",
              "      <td>1.591470e+09</td>\n",
              "      <td>8</td>\n",
              "      <td>144</td>\n",
              "      <td>0.011296</td>\n",
              "      <td>0.000538</td>\n",
              "    </tr>\n",
              "    <tr>\n",
              "      <th>105</th>\n",
              "      <td>경기도</td>\n",
              "      <td>화성시</td>\n",
              "      <td>41</td>\n",
              "      <td>590.0</td>\n",
              "      <td>236</td>\n",
              "      <td>37</td>\n",
              "      <td>2</td>\n",
              "      <td>1</td>\n",
              "      <td>19.937057</td>\n",
              "      <td>60.5</td>\n",
              "      <td>66535</td>\n",
              "      <td>2.308284e+10</td>\n",
              "      <td>41</td>\n",
              "      <td>1353</td>\n",
              "      <td>0.003547</td>\n",
              "      <td>0.000556</td>\n",
              "    </tr>\n",
              "    <tr>\n",
              "      <th>209</th>\n",
              "      <td>경상남도</td>\n",
              "      <td>거제시</td>\n",
              "      <td>48</td>\n",
              "      <td>310.0</td>\n",
              "      <td>72</td>\n",
              "      <td>11</td>\n",
              "      <td>1</td>\n",
              "      <td>2</td>\n",
              "      <td>20.309032</td>\n",
              "      <td>61.0</td>\n",
              "      <td>18620</td>\n",
              "      <td>3.603434e+09</td>\n",
              "      <td>16</td>\n",
              "      <td>753</td>\n",
              "      <td>0.003867</td>\n",
              "      <td>0.000591</td>\n",
              "    </tr>\n",
              "  </tbody>\n",
              "</table>\n",
              "</div>"
            ],
            "text/plain": [
              "     시군구별(1) 시군구별(2)  시도코드  시군구코드  ...  도서관수  한부모가구수  학생수대비초등돌봄교실수  학생수대비지역아동센터수\n",
              "0      서울특별시     강남구    11  680.0  ...    35     818      0.004517      0.000154\n",
              "25     부산광역시     강서구    26  440.0  ...     8     305      0.002638      0.000293\n",
              "74   세종특별자치시     세종시    36  110.0  ...    29     679      0.005969      0.000441\n",
              "14     서울특별시     서초구    11  650.0  ...    18     469      0.003706      0.000441\n",
              "58     인천광역시      중구    28  110.0  ...    18     419      0.000710      0.000473\n",
              "102      경기도     용인시    41  460.0  ...    49    1456      0.003135      0.000508\n",
              "51     인천광역시    미추홀구    28  177.0  ...    25    2310      0.002971      0.000512\n",
              "203     경상북도     울진군    47  930.0  ...     8     144      0.011296      0.000538\n",
              "105      경기도     화성시    41  590.0  ...    41    1353      0.003547      0.000556\n",
              "209     경상남도     거제시    48  310.0  ...    16     753      0.003867      0.000591\n",
              "\n",
              "[10 rows x 16 columns]"
            ]
          },
          "metadata": {
            "tags": []
          },
          "execution_count": 13
        }
      ]
    },
    {
      "cell_type": "code",
      "metadata": {
        "id": "9Sga1dDuOHyH",
        "colab_type": "code",
        "colab": {
          "base_uri": "https://localhost:8080/",
          "height": 343
        },
        "outputId": "b91d818e-b4d6-4160-8bf3-908aa47ed753"
      },
      "source": [
        "df[['시군구별(1)','시군구별(2)','학생수대비지역아동센터수']].sort_values(by='학생수대비지역아동센터수').head(10)"
      ],
      "execution_count": 17,
      "outputs": [
        {
          "output_type": "execute_result",
          "data": {
            "text/html": [
              "<div>\n",
              "<style scoped>\n",
              "    .dataframe tbody tr th:only-of-type {\n",
              "        vertical-align: middle;\n",
              "    }\n",
              "\n",
              "    .dataframe tbody tr th {\n",
              "        vertical-align: top;\n",
              "    }\n",
              "\n",
              "    .dataframe thead th {\n",
              "        text-align: right;\n",
              "    }\n",
              "</style>\n",
              "<table border=\"1\" class=\"dataframe\">\n",
              "  <thead>\n",
              "    <tr style=\"text-align: right;\">\n",
              "      <th></th>\n",
              "      <th>시군구별(1)</th>\n",
              "      <th>시군구별(2)</th>\n",
              "      <th>학생수대비지역아동센터수</th>\n",
              "    </tr>\n",
              "  </thead>\n",
              "  <tbody>\n",
              "    <tr>\n",
              "      <th>0</th>\n",
              "      <td>서울특별시</td>\n",
              "      <td>강남구</td>\n",
              "      <td>0.000154</td>\n",
              "    </tr>\n",
              "    <tr>\n",
              "      <th>25</th>\n",
              "      <td>부산광역시</td>\n",
              "      <td>강서구</td>\n",
              "      <td>0.000293</td>\n",
              "    </tr>\n",
              "    <tr>\n",
              "      <th>74</th>\n",
              "      <td>세종특별자치시</td>\n",
              "      <td>세종시</td>\n",
              "      <td>0.000441</td>\n",
              "    </tr>\n",
              "    <tr>\n",
              "      <th>14</th>\n",
              "      <td>서울특별시</td>\n",
              "      <td>서초구</td>\n",
              "      <td>0.000441</td>\n",
              "    </tr>\n",
              "    <tr>\n",
              "      <th>58</th>\n",
              "      <td>인천광역시</td>\n",
              "      <td>중구</td>\n",
              "      <td>0.000473</td>\n",
              "    </tr>\n",
              "    <tr>\n",
              "      <th>102</th>\n",
              "      <td>경기도</td>\n",
              "      <td>용인시</td>\n",
              "      <td>0.000508</td>\n",
              "    </tr>\n",
              "    <tr>\n",
              "      <th>51</th>\n",
              "      <td>인천광역시</td>\n",
              "      <td>미추홀구</td>\n",
              "      <td>0.000512</td>\n",
              "    </tr>\n",
              "    <tr>\n",
              "      <th>203</th>\n",
              "      <td>경상북도</td>\n",
              "      <td>울진군</td>\n",
              "      <td>0.000538</td>\n",
              "    </tr>\n",
              "    <tr>\n",
              "      <th>105</th>\n",
              "      <td>경기도</td>\n",
              "      <td>화성시</td>\n",
              "      <td>0.000556</td>\n",
              "    </tr>\n",
              "    <tr>\n",
              "      <th>209</th>\n",
              "      <td>경상남도</td>\n",
              "      <td>거제시</td>\n",
              "      <td>0.000591</td>\n",
              "    </tr>\n",
              "  </tbody>\n",
              "</table>\n",
              "</div>"
            ],
            "text/plain": [
              "     시군구별(1) 시군구별(2)  학생수대비지역아동센터수\n",
              "0      서울특별시     강남구      0.000154\n",
              "25     부산광역시     강서구      0.000293\n",
              "74   세종특별자치시     세종시      0.000441\n",
              "14     서울특별시     서초구      0.000441\n",
              "58     인천광역시      중구      0.000473\n",
              "102      경기도     용인시      0.000508\n",
              "51     인천광역시    미추홀구      0.000512\n",
              "203     경상북도     울진군      0.000538\n",
              "105      경기도     화성시      0.000556\n",
              "209     경상남도     거제시      0.000591"
            ]
          },
          "metadata": {
            "tags": []
          },
          "execution_count": 17
        }
      ]
    },
    {
      "cell_type": "markdown",
      "metadata": {
        "id": "RF4hevOcFwHD",
        "colab_type": "text"
      },
      "source": [
        "### 학생수 대비 다함께 돌봄센터가 가장 많은 지역구 Top5"
      ]
    },
    {
      "cell_type": "code",
      "metadata": {
        "id": "Y5LkMpPsFzIn",
        "colab_type": "code",
        "colab": {
          "base_uri": "https://localhost:8080/",
          "height": 346
        },
        "outputId": "6a251495-afaf-498d-f50d-455526b5f080"
      },
      "source": [
        "df['학생수대비다함께돌봄센터수'] = df['다함께돌봄센터'] / df['학생수']\n",
        "df.sort_values(by='학생수대비다함께돌봄센터수',ascending=False).head(5)"
      ],
      "execution_count": 18,
      "outputs": [
        {
          "output_type": "execute_result",
          "data": {
            "text/html": [
              "<div>\n",
              "<style scoped>\n",
              "    .dataframe tbody tr th:only-of-type {\n",
              "        vertical-align: middle;\n",
              "    }\n",
              "\n",
              "    .dataframe tbody tr th {\n",
              "        vertical-align: top;\n",
              "    }\n",
              "\n",
              "    .dataframe thead th {\n",
              "        text-align: right;\n",
              "    }\n",
              "</style>\n",
              "<table border=\"1\" class=\"dataframe\">\n",
              "  <thead>\n",
              "    <tr style=\"text-align: right;\">\n",
              "      <th></th>\n",
              "      <th>시군구별(1)</th>\n",
              "      <th>시군구별(2)</th>\n",
              "      <th>시도코드</th>\n",
              "      <th>시군구코드</th>\n",
              "      <th>초등돌봄교실</th>\n",
              "      <th>지역아동센터</th>\n",
              "      <th>다함께돌봄센터</th>\n",
              "      <th>청소년방과후아카데미</th>\n",
              "      <th>비만지수</th>\n",
              "      <th>음주율</th>\n",
              "      <th>학생수</th>\n",
              "      <th>교육경비보조금</th>\n",
              "      <th>도서관수</th>\n",
              "      <th>한부모가구수</th>\n",
              "      <th>학생수대비초등돌봄교실수</th>\n",
              "      <th>학생수대비지역아동센터수</th>\n",
              "      <th>학생수대비다함께돌봄센터수</th>\n",
              "    </tr>\n",
              "  </thead>\n",
              "  <tbody>\n",
              "    <tr>\n",
              "      <th>115</th>\n",
              "      <td>강원도</td>\n",
              "      <td>인제군</td>\n",
              "      <td>42</td>\n",
              "      <td>810.0</td>\n",
              "      <td>12</td>\n",
              "      <td>2</td>\n",
              "      <td>4</td>\n",
              "      <td>0</td>\n",
              "      <td>21.101923</td>\n",
              "      <td>62.6</td>\n",
              "      <td>1461</td>\n",
              "      <td>6.436510e+08</td>\n",
              "      <td>6</td>\n",
              "      <td>71</td>\n",
              "      <td>0.008214</td>\n",
              "      <td>0.001369</td>\n",
              "      <td>0.002738</td>\n",
              "    </tr>\n",
              "    <tr>\n",
              "      <th>198</th>\n",
              "      <td>경상북도</td>\n",
              "      <td>영양군</td>\n",
              "      <td>47</td>\n",
              "      <td>760.0</td>\n",
              "      <td>9</td>\n",
              "      <td>3</td>\n",
              "      <td>1</td>\n",
              "      <td>0</td>\n",
              "      <td>20.542105</td>\n",
              "      <td>55.2</td>\n",
              "      <td>490</td>\n",
              "      <td>4.250700e+07</td>\n",
              "      <td>4</td>\n",
              "      <td>51</td>\n",
              "      <td>0.018367</td>\n",
              "      <td>0.006122</td>\n",
              "      <td>0.002041</td>\n",
              "    </tr>\n",
              "    <tr>\n",
              "      <th>143</th>\n",
              "      <td>충청남도</td>\n",
              "      <td>서천군</td>\n",
              "      <td>44</td>\n",
              "      <td>770.0</td>\n",
              "      <td>22</td>\n",
              "      <td>12</td>\n",
              "      <td>2</td>\n",
              "      <td>0</td>\n",
              "      <td>20.985915</td>\n",
              "      <td>57.5</td>\n",
              "      <td>1735</td>\n",
              "      <td>1.390220e+08</td>\n",
              "      <td>9</td>\n",
              "      <td>163</td>\n",
              "      <td>0.012680</td>\n",
              "      <td>0.006916</td>\n",
              "      <td>0.001153</td>\n",
              "    </tr>\n",
              "    <tr>\n",
              "      <th>193</th>\n",
              "      <td>경상북도</td>\n",
              "      <td>봉화군</td>\n",
              "      <td>47</td>\n",
              "      <td>920.0</td>\n",
              "      <td>16</td>\n",
              "      <td>3</td>\n",
              "      <td>1</td>\n",
              "      <td>0</td>\n",
              "      <td>19.656863</td>\n",
              "      <td>57.4</td>\n",
              "      <td>896</td>\n",
              "      <td>4.321400e+07</td>\n",
              "      <td>4</td>\n",
              "      <td>68</td>\n",
              "      <td>0.017857</td>\n",
              "      <td>0.003348</td>\n",
              "      <td>0.001116</td>\n",
              "    </tr>\n",
              "    <tr>\n",
              "      <th>23</th>\n",
              "      <td>서울특별시</td>\n",
              "      <td>중구</td>\n",
              "      <td>11</td>\n",
              "      <td>140.0</td>\n",
              "      <td>31</td>\n",
              "      <td>4</td>\n",
              "      <td>5</td>\n",
              "      <td>2</td>\n",
              "      <td>19.816327</td>\n",
              "      <td>58.0</td>\n",
              "      <td>4990</td>\n",
              "      <td>8.135701e+09</td>\n",
              "      <td>16</td>\n",
              "      <td>307</td>\n",
              "      <td>0.006212</td>\n",
              "      <td>0.000802</td>\n",
              "      <td>0.001002</td>\n",
              "    </tr>\n",
              "  </tbody>\n",
              "</table>\n",
              "</div>"
            ],
            "text/plain": [
              "    시군구별(1) 시군구별(2)  시도코드  ...  학생수대비초등돌봄교실수  학생수대비지역아동센터수  학생수대비다함께돌봄센터수\n",
              "115     강원도     인제군    42  ...      0.008214      0.001369       0.002738\n",
              "198    경상북도     영양군    47  ...      0.018367      0.006122       0.002041\n",
              "143    충청남도     서천군    44  ...      0.012680      0.006916       0.001153\n",
              "193    경상북도     봉화군    47  ...      0.017857      0.003348       0.001116\n",
              "23    서울특별시      중구    11  ...      0.006212      0.000802       0.001002\n",
              "\n",
              "[5 rows x 17 columns]"
            ]
          },
          "metadata": {
            "tags": []
          },
          "execution_count": 18
        }
      ]
    },
    {
      "cell_type": "markdown",
      "metadata": {
        "id": "B23-H9YOFhEt",
        "colab_type": "text"
      },
      "source": [
        "### 학생수 대비 방과후아카데미가 가장 많은 지역구 Top5"
      ]
    },
    {
      "cell_type": "code",
      "metadata": {
        "id": "RoOpK2T3Fu6f",
        "colab_type": "code",
        "colab": {
          "base_uri": "https://localhost:8080/",
          "height": 346
        },
        "outputId": "227099ba-36d1-4b4b-996d-03be28c5af39"
      },
      "source": [
        "df['학생수대비청소년방과후아카데미수'] = df['청소년방과후아카데미'] / df['학생수']\n",
        "df.sort_values(by='학생수대비청소년방과후아카데미수',ascending=False).head(5)"
      ],
      "execution_count": 19,
      "outputs": [
        {
          "output_type": "execute_result",
          "data": {
            "text/html": [
              "<div>\n",
              "<style scoped>\n",
              "    .dataframe tbody tr th:only-of-type {\n",
              "        vertical-align: middle;\n",
              "    }\n",
              "\n",
              "    .dataframe tbody tr th {\n",
              "        vertical-align: top;\n",
              "    }\n",
              "\n",
              "    .dataframe thead th {\n",
              "        text-align: right;\n",
              "    }\n",
              "</style>\n",
              "<table border=\"1\" class=\"dataframe\">\n",
              "  <thead>\n",
              "    <tr style=\"text-align: right;\">\n",
              "      <th></th>\n",
              "      <th>시군구별(1)</th>\n",
              "      <th>시군구별(2)</th>\n",
              "      <th>시도코드</th>\n",
              "      <th>시군구코드</th>\n",
              "      <th>초등돌봄교실</th>\n",
              "      <th>지역아동센터</th>\n",
              "      <th>다함께돌봄센터</th>\n",
              "      <th>청소년방과후아카데미</th>\n",
              "      <th>비만지수</th>\n",
              "      <th>음주율</th>\n",
              "      <th>학생수</th>\n",
              "      <th>교육경비보조금</th>\n",
              "      <th>도서관수</th>\n",
              "      <th>한부모가구수</th>\n",
              "      <th>학생수대비초등돌봄교실수</th>\n",
              "      <th>학생수대비지역아동센터수</th>\n",
              "      <th>학생수대비다함께돌봄센터수</th>\n",
              "      <th>학생수대비청소년방과후아카데미수</th>\n",
              "    </tr>\n",
              "  </thead>\n",
              "  <tbody>\n",
              "    <tr>\n",
              "      <th>116</th>\n",
              "      <td>강원도</td>\n",
              "      <td>정선군</td>\n",
              "      <td>42</td>\n",
              "      <td>770.0</td>\n",
              "      <td>13</td>\n",
              "      <td>7</td>\n",
              "      <td>1</td>\n",
              "      <td>4</td>\n",
              "      <td>20.666667</td>\n",
              "      <td>60.8</td>\n",
              "      <td>1366</td>\n",
              "      <td>3.946719e+09</td>\n",
              "      <td>9</td>\n",
              "      <td>85</td>\n",
              "      <td>0.009517</td>\n",
              "      <td>0.005124</td>\n",
              "      <td>0.000732</td>\n",
              "      <td>0.002928</td>\n",
              "    </tr>\n",
              "    <tr>\n",
              "      <th>57</th>\n",
              "      <td>인천광역시</td>\n",
              "      <td>옹진군</td>\n",
              "      <td>28</td>\n",
              "      <td>720.0</td>\n",
              "      <td>86</td>\n",
              "      <td>1</td>\n",
              "      <td>0</td>\n",
              "      <td>1</td>\n",
              "      <td>21.365217</td>\n",
              "      <td>62.2</td>\n",
              "      <td>555</td>\n",
              "      <td>8.029000e+06</td>\n",
              "      <td>6</td>\n",
              "      <td>40</td>\n",
              "      <td>0.154955</td>\n",
              "      <td>0.001802</td>\n",
              "      <td>0.000000</td>\n",
              "      <td>0.001802</td>\n",
              "    </tr>\n",
              "    <tr>\n",
              "      <th>206</th>\n",
              "      <td>경상북도</td>\n",
              "      <td>청송군</td>\n",
              "      <td>47</td>\n",
              "      <td>750.0</td>\n",
              "      <td>9</td>\n",
              "      <td>2</td>\n",
              "      <td>0</td>\n",
              "      <td>1</td>\n",
              "      <td>20.825000</td>\n",
              "      <td>57.1</td>\n",
              "      <td>611</td>\n",
              "      <td>5.837100e+07</td>\n",
              "      <td>7</td>\n",
              "      <td>52</td>\n",
              "      <td>0.014730</td>\n",
              "      <td>0.003273</td>\n",
              "      <td>0.000000</td>\n",
              "      <td>0.001637</td>\n",
              "    </tr>\n",
              "    <tr>\n",
              "      <th>219</th>\n",
              "      <td>경상남도</td>\n",
              "      <td>의령군</td>\n",
              "      <td>48</td>\n",
              "      <td>720.0</td>\n",
              "      <td>86</td>\n",
              "      <td>3</td>\n",
              "      <td>0</td>\n",
              "      <td>1</td>\n",
              "      <td>21.030769</td>\n",
              "      <td>56.5</td>\n",
              "      <td>723</td>\n",
              "      <td>1.409310e+08</td>\n",
              "      <td>4</td>\n",
              "      <td>1337</td>\n",
              "      <td>0.118949</td>\n",
              "      <td>0.004149</td>\n",
              "      <td>0.000000</td>\n",
              "      <td>0.001383</td>\n",
              "    </tr>\n",
              "    <tr>\n",
              "      <th>163</th>\n",
              "      <td>전라북도</td>\n",
              "      <td>진안군</td>\n",
              "      <td>45</td>\n",
              "      <td>720.0</td>\n",
              "      <td>20</td>\n",
              "      <td>12</td>\n",
              "      <td>0</td>\n",
              "      <td>1</td>\n",
              "      <td>19.427273</td>\n",
              "      <td>47.9</td>\n",
              "      <td>843</td>\n",
              "      <td>1.711189e+09</td>\n",
              "      <td>6</td>\n",
              "      <td>54</td>\n",
              "      <td>0.023725</td>\n",
              "      <td>0.014235</td>\n",
              "      <td>0.000000</td>\n",
              "      <td>0.001186</td>\n",
              "    </tr>\n",
              "  </tbody>\n",
              "</table>\n",
              "</div>"
            ],
            "text/plain": [
              "    시군구별(1) 시군구별(2)  시도코드  ...  학생수대비지역아동센터수  학생수대비다함께돌봄센터수  학생수대비청소년방과후아카데미수\n",
              "116     강원도     정선군    42  ...      0.005124       0.000732          0.002928\n",
              "57    인천광역시     옹진군    28  ...      0.001802       0.000000          0.001802\n",
              "206    경상북도     청송군    47  ...      0.003273       0.000000          0.001637\n",
              "219    경상남도     의령군    48  ...      0.004149       0.000000          0.001383\n",
              "163    전라북도     진안군    45  ...      0.014235       0.000000          0.001186\n",
              "\n",
              "[5 rows x 18 columns]"
            ]
          },
          "metadata": {
            "tags": []
          },
          "execution_count": 19
        }
      ]
    },
    {
      "cell_type": "markdown",
      "metadata": {
        "id": "HpkGHaLEbMwU",
        "colab_type": "text"
      },
      "source": [
        "## 전국 비교\n",
        "\n",
        "\n",
        "\n"
      ]
    },
    {
      "cell_type": "code",
      "metadata": {
        "id": "Jn7kImjjaZpU",
        "colab_type": "code",
        "colab": {
          "base_uri": "https://localhost:8080/",
          "height": 455
        },
        "outputId": "d80be424-f686-4bf5-c643-21525e19c46b"
      },
      "source": [
        "plt.figure(figsize=(16, 6))\n",
        "sns.barplot(x=df.groupby('시군구별(1)')['학생수'].sum().index, y=df.groupby('시군구별(1)')['학생수'].sum())\n",
        "plt.title('시도별 학생수')\n",
        "plt.xticks(rotation=90)\n",
        "plt.show()"
      ],
      "execution_count": 20,
      "outputs": [
        {
          "output_type": "display_data",
          "data": {
            "image/png": "[encoded data removed]",
            "text/plain": [
              "<Figure size 1152x432 with 1 Axes>"
            ]
          },
          "metadata": {
            "tags": [],
            "needs_background": "light"
          }
        }
      ]
    },
    {
      "cell_type": "code",
      "metadata": {
        "id": "sgW2rPdhWZjo",
        "colab_type": "code",
        "colab": {
          "base_uri": "https://localhost:8080/",
          "height": 455
        },
        "outputId": "3bd904e8-77dc-4914-c67c-ca20ef7f29db"
      },
      "source": [
        "plt.figure(figsize=(16, 6))\n",
        "sns.barplot(x=df.groupby('시군구별(1)')['초등돌봄교실'].sum().index, y=df.groupby('시군구별(1)')['초등돌봄교실'].sum())\n",
        "plt.title('시도별 초등돌봄교실')\n",
        "plt.xticks(rotation=90)\n",
        "plt.show()"
      ],
      "execution_count": 21,
      "outputs": [
        {
          "output_type": "display_data",
          "data": {
            "image/png": "[encoded data removed]",
            "text/plain": [
              "<Figure size 1152x432 with 1 Axes>"
            ]
          },
          "metadata": {
            "tags": [],
            "needs_background": "light"
          }
        }
      ]
    },
    {
      "cell_type": "code",
      "metadata": {
        "id": "fnRnK0qCauB2",
        "colab_type": "code",
        "colab": {
          "base_uri": "https://localhost:8080/",
          "height": 455
        },
        "outputId": "4e8bdd34-f72b-4bd2-f38b-e751eeb3f567"
      },
      "source": [
        "plt.figure(figsize=(16, 6))\n",
        "sns.barplot(x=df.groupby('시군구별(1)')['지역아동센터'].sum().index, y=df.groupby('시군구별(1)')['지역아동센터'].sum())\n",
        "plt.title('시도별 지역아동센터')\n",
        "plt.xticks(rotation=90)\n",
        "plt.show()"
      ],
      "execution_count": 22,
      "outputs": [
        {
          "output_type": "display_data",
          "data": {
            "image/png": "[encoded data removed]",
            "text/plain": [
              "<Figure size 1152x432 with 1 Axes>"
            ]
          },
          "metadata": {
            "tags": [],
            "needs_background": "light"
          }
        }
      ]
    },
    {
      "cell_type": "code",
      "metadata": {
        "id": "CSo9VQEoOiNP",
        "colab_type": "code",
        "colab": {
          "base_uri": "https://localhost:8080/",
          "height": 455
        },
        "outputId": "37b43e9f-d5a7-4714-e2b7-6413b749916b"
      },
      "source": [
        "plt.figure(figsize=(16, 6))\n",
        "sns.barplot(x=df.groupby('시군구별(1)')['학생수대비초등돌봄교실수'].sum().index, y=df.groupby('시군구별(1)')['학생수대비초등돌봄교실수'].sum())\n",
        "plt.title('시도별 학생수대비초등돌봄교실수')\n",
        "plt.xticks(rotation=90)\n",
        "plt.show()"
      ],
      "execution_count": 23,
      "outputs": [
        {
          "output_type": "display_data",
          "data": {
            "image/png": "[encoded data removed]",
            "text/plain": [
              "<Figure size 1152x432 with 1 Axes>"
            ]
          },
          "metadata": {
            "tags": [],
            "needs_background": "light"
          }
        }
      ]
    },
    {
      "cell_type": "code",
      "metadata": {
        "id": "6ofPUMB-O2aQ",
        "colab_type": "code",
        "colab": {
          "base_uri": "https://localhost:8080/",
          "height": 455
        },
        "outputId": "753598c5-2598-4faf-a0c5-2371447eb8d5"
      },
      "source": [
        "plt.figure(figsize=(16, 6))\n",
        "sns.barplot(x=df.groupby('시군구별(1)')['학생수대비지역아동센터수'].sum().index, y=df.groupby('시군구별(1)')['학생수대비지역아동센터수'].sum())\n",
        "plt.title('시도별 학생수대비지역아동센터수')\n",
        "plt.xticks(rotation=90)\n",
        "plt.show()"
      ],
      "execution_count": 24,
      "outputs": [
        {
          "output_type": "display_data",
          "data": {
            "image/png": "[encoded data removed]",
            "text/plain": [
              "<Figure size 1152x432 with 1 Axes>"
            ]
          },
          "metadata": {
            "tags": [],
            "needs_background": "light"
          }
        }
      ]
    },
    {
      "cell_type": "markdown",
      "metadata": {
        "id": "IyNbJqajNzyG",
        "colab_type": "text"
      },
      "source": [
        "## 돌봄수요 추정 "
      ]
    },
    {
      "cell_type": "markdown",
      "metadata": {
        "id": "dQYD6V9ErGos",
        "colab_type": "text"
      },
      "source": [
        "### 돌봄수요 추정을 위한 파생변수 "
      ]
    },
    {
      "cell_type": "markdown",
      "metadata": {
        "id": "vF6Dc8mdN7r6",
        "colab_type": "text"
      },
      "source": [
        "전체적인 돌봄수요를 파악하기 위해 학교돌봄시설과 마을돌봄시설을 합한 **돌봄시설합계**라는 파생변수를 생성한다."
      ]
    },
    {
      "cell_type": "code",
      "metadata": {
        "id": "Ya5FSMvPN_9F",
        "colab_type": "code",
        "colab": {
          "base_uri": "https://localhost:8080/",
          "height": 122
        },
        "outputId": "ad1a2e8b-a582-4fe4-f978-2fe6029ee6f1"
      },
      "source": [
        "(df['초등돌봄교실'] + df['지역아동센터']+ df['다함께돌봄센터']+ df['청소년방과후아카데미']).head()"
      ],
      "execution_count": 26,
      "outputs": [
        {
          "output_type": "execute_result",
          "data": {
            "text/plain": [
              "0    126\n",
              "1    133\n",
              "2     66\n",
              "3    145\n",
              "4    119\n",
              "dtype: int64"
            ]
          },
          "metadata": {
            "tags": []
          },
          "execution_count": 26
        }
      ]
    },
    {
      "cell_type": "code",
      "metadata": {
        "id": "XapJNWB7OGW3",
        "colab_type": "code",
        "colab": {}
      },
      "source": [
        "df['돌봄시설합계']= (df['초등돌봄교실'] + df['지역아동센터']+ df['다함께돌봄센터']+ df['청소년방과후아카데미'])"
      ],
      "execution_count": 27,
      "outputs": []
    },
    {
      "cell_type": "code",
      "metadata": {
        "id": "NE_KKrQpS14E",
        "colab_type": "code",
        "colab": {
          "base_uri": "https://localhost:8080/",
          "height": 122
        },
        "outputId": "a203a5db-46a8-41c4-af8f-6b9420f49e70"
      },
      "source": [
        "df['돌봄시설합계'].head()"
      ],
      "execution_count": 28,
      "outputs": [
        {
          "output_type": "execute_result",
          "data": {
            "text/plain": [
              "0    126\n",
              "1    133\n",
              "2     66\n",
              "3    145\n",
              "4    119\n",
              "Name: 돌봄시설합계, dtype: int64"
            ]
          },
          "metadata": {
            "tags": []
          },
          "execution_count": 28
        }
      ]
    },
    {
      "cell_type": "code",
      "metadata": {
        "id": "ylJ3M-fxOGjM",
        "colab_type": "code",
        "colab": {
          "base_uri": "https://localhost:8080/",
          "height": 195
        },
        "outputId": "b0accc16-933c-4f1a-c5d6-48df49850d1a"
      },
      "source": [
        "df[['시군구별(1)','시군구별(2)','돌봄시설합계']].head()"
      ],
      "execution_count": 29,
      "outputs": [
        {
          "output_type": "execute_result",
          "data": {
            "text/html": [
              "<div>\n",
              "<style scoped>\n",
              "    .dataframe tbody tr th:only-of-type {\n",
              "        vertical-align: middle;\n",
              "    }\n",
              "\n",
              "    .dataframe tbody tr th {\n",
              "        vertical-align: top;\n",
              "    }\n",
              "\n",
              "    .dataframe thead th {\n",
              "        text-align: right;\n",
              "    }\n",
              "</style>\n",
              "<table border=\"1\" class=\"dataframe\">\n",
              "  <thead>\n",
              "    <tr style=\"text-align: right;\">\n",
              "      <th></th>\n",
              "      <th>시군구별(1)</th>\n",
              "      <th>시군구별(2)</th>\n",
              "      <th>돌봄시설합계</th>\n",
              "    </tr>\n",
              "  </thead>\n",
              "  <tbody>\n",
              "    <tr>\n",
              "      <th>0</th>\n",
              "      <td>서울특별시</td>\n",
              "      <td>강남구</td>\n",
              "      <td>126</td>\n",
              "    </tr>\n",
              "    <tr>\n",
              "      <th>1</th>\n",
              "      <td>서울특별시</td>\n",
              "      <td>강동구</td>\n",
              "      <td>133</td>\n",
              "    </tr>\n",
              "    <tr>\n",
              "      <th>2</th>\n",
              "      <td>서울특별시</td>\n",
              "      <td>강북구</td>\n",
              "      <td>66</td>\n",
              "    </tr>\n",
              "    <tr>\n",
              "      <th>3</th>\n",
              "      <td>서울특별시</td>\n",
              "      <td>강서구</td>\n",
              "      <td>145</td>\n",
              "    </tr>\n",
              "    <tr>\n",
              "      <th>4</th>\n",
              "      <td>서울특별시</td>\n",
              "      <td>관악구</td>\n",
              "      <td>119</td>\n",
              "    </tr>\n",
              "  </tbody>\n",
              "</table>\n",
              "</div>"
            ],
            "text/plain": [
              "  시군구별(1) 시군구별(2)  돌봄시설합계\n",
              "0   서울특별시     강남구     126\n",
              "1   서울특별시     강동구     133\n",
              "2   서울특별시     강북구      66\n",
              "3   서울특별시     강서구     145\n",
              "4   서울특별시     관악구     119"
            ]
          },
          "metadata": {
            "tags": []
          },
          "execution_count": 29
        }
      ]
    },
    {
      "cell_type": "markdown",
      "metadata": {
        "colab_type": "text",
        "id": "I8Qs0ujlHwVg"
      },
      "source": [
        "### 다항선형회귀 모델링(sklearn)"
      ]
    },
    {
      "cell_type": "code",
      "metadata": {
        "id": "35x2F8YRVZ3c",
        "colab_type": "code",
        "colab": {
          "base_uri": "https://localhost:8080/",
          "height": 369
        },
        "outputId": "437b05b6-6a66-4f9d-fd1a-30ae79d191cd"
      },
      "source": [
        "print(df.dtypes)"
      ],
      "execution_count": 30,
      "outputs": [
        {
          "output_type": "stream",
          "text": [
            "시군구별(1)              object\n",
            "시군구별(2)              object\n",
            "시도코드                  int64\n",
            "시군구코드               float64\n",
            "초등돌봄교실                int64\n",
            "지역아동센터                int64\n",
            "다함께돌봄센터               int64\n",
            "청소년방과후아카데미            int64\n",
            "비만지수                float64\n",
            "음주율                 float64\n",
            "학생수                   int64\n",
            "교육경비보조금             float64\n",
            "도서관수                  int64\n",
            "한부모가구수                int64\n",
            "학생수대비초등돌봄교실수        float64\n",
            "학생수대비지역아동센터수        float64\n",
            "학생수대비다함께돌봄센터수       float64\n",
            "학생수대비청소년방과후아카데미수    float64\n",
            "돌봄시설합계                int64\n",
            "dtype: object\n"
          ],
          "name": "stdout"
        }
      ]
    },
    {
      "cell_type": "markdown",
      "metadata": {
        "id": "T5weChbNE-VH",
        "colab_type": "text"
      },
      "source": [
        "#### Test & Train 데이터 분리하기"
      ]
    },
    {
      "cell_type": "code",
      "metadata": {
        "id": "ZJurcQGYIVUq",
        "colab_type": "code",
        "colab": {}
      },
      "source": [
        "from sklearn.model_selection import train_test_split\n",
        "\n",
        "x = df[['학생수', '비만지수', '음주율', '교육경비보조금','도서관수','한부모가구수']]\n",
        "y = df[['돌봄시설합계']]\n",
        "\n",
        "x_train, x_test, y_train, y_test = train_test_split(x, y, train_size=0.8, test_size=0.2)"
      ],
      "execution_count": 31,
      "outputs": []
    },
    {
      "cell_type": "code",
      "metadata": {
        "id": "S6L97MJ4TzW5",
        "colab_type": "code",
        "colab": {}
      },
      "source": [
        "from sklearn.linear_model import LinearRegression"
      ],
      "execution_count": 32,
      "outputs": []
    },
    {
      "cell_type": "code",
      "metadata": {
        "id": "1Re8vWsRWwal",
        "colab_type": "code",
        "colab": {
          "base_uri": "https://localhost:8080/",
          "height": 34
        },
        "outputId": "2e391cca-db21-400a-a459-7e37862bb819"
      },
      "source": [
        "mlr = LinearRegression()\n",
        "mlr.fit(x_train, y_train) "
      ],
      "execution_count": 33,
      "outputs": [
        {
          "output_type": "execute_result",
          "data": {
            "text/plain": [
              "LinearRegression(copy_X=True, fit_intercept=True, n_jobs=None, normalize=False)"
            ]
          },
          "metadata": {
            "tags": []
          },
          "execution_count": 33
        }
      ]
    },
    {
      "cell_type": "markdown",
      "metadata": {
        "id": "1typ92AwuP3W",
        "colab_type": "text"
      },
      "source": [
        "앞서 데이터를 통해 살펴본 현재 강남구의 총 돌봄시설합계는 126곳이다. "
      ]
    },
    {
      "cell_type": "code",
      "metadata": {
        "id": "n5lhH2H0xU26",
        "colab_type": "code",
        "colab": {
          "base_uri": "https://localhost:8080/",
          "height": 34
        },
        "outputId": "eac48c22-d95e-4720-d8e2-150026aade81"
      },
      "source": [
        "gangnam = [[25905,19.4392,64.4,13851585000,35,818]]\n",
        "gangnam_predict = mlr.predict(gangnam)\n",
        "print(gangnam_predict)"
      ],
      "execution_count": 34,
      "outputs": [
        {
          "output_type": "stream",
          "text": [
            "[[109.50050189]]\n"
          ],
          "name": "stdout"
        }
      ]
    },
    {
      "cell_type": "code",
      "metadata": {
        "id": "EaTrnjZVzn6c",
        "colab_type": "code",
        "colab": {}
      },
      "source": [
        "y_predict = mlr.predict(x_test)"
      ],
      "execution_count": 35,
      "outputs": []
    },
    {
      "cell_type": "code",
      "metadata": {
        "id": "IG82QMYhzsv1",
        "colab_type": "code",
        "colab": {
          "base_uri": "https://localhost:8080/",
          "height": 294
        },
        "outputId": "876cf062-fec4-4157-9b41-4ded63310317"
      },
      "source": [
        "plt.scatter(y_test, y_predict, alpha=0.4)\n",
        "plt.xlabel(\"실제 돌봄시설합계\")\n",
        "plt.ylabel(\"예측된 돌봄시설합계\")\n",
        "plt.title(\"MULTIPLE LINEAR REGRESSION\")\n",
        "plt.show()"
      ],
      "execution_count": 36,
      "outputs": [
        {
          "output_type": "display_data",
          "data": {
            "image/png": "[encoded data removed]",
            "text/plain": [
              "<Figure size 432x288 with 1 Axes>"
            ]
          },
          "metadata": {
            "tags": [],
            "needs_background": "light"
          }
        }
      ]
    },
    {
      "cell_type": "code",
      "metadata": {
        "id": "Uwvb7ywn0OZc",
        "colab_type": "code",
        "colab": {
          "base_uri": "https://localhost:8080/",
          "height": 52
        },
        "outputId": "3fae173a-4807-46b8-d248-31291489e7e7"
      },
      "source": [
        "print(mlr.coef_)"
      ],
      "execution_count": 37,
      "outputs": [
        {
          "output_type": "stream",
          "text": [
            "[[ 1.81998944e-03  5.93883273e+00 -8.76232570e-01  1.44054635e-09\n",
            "   9.28406312e-02  4.19284723e-02]]\n"
          ],
          "name": "stdout"
        }
      ]
    },
    {
      "cell_type": "code",
      "metadata": {
        "id": "lmXhGA4A1nBN",
        "colab_type": "code",
        "colab": {
          "base_uri": "https://localhost:8080/",
          "height": 265
        },
        "outputId": "66d1bcd5-ad87-46c7-9745-e95860fee8ba"
      },
      "source": [
        "# 학생수와 돌봄시설합계\n",
        "plt.scatter(df[['학생수']], df[['돌봄시설합계']], alpha=0.4)\n",
        "plt.show()"
      ],
      "execution_count": 38,
      "outputs": [
        {
          "output_type": "display_data",
          "data": {
            "image/png": "[encoded data removed]",
            "text/plain": [
              "<Figure size 432x288 with 1 Axes>"
            ]
          },
          "metadata": {
            "tags": [],
            "needs_background": "light"
          }
        }
      ]
    },
    {
      "cell_type": "code",
      "metadata": {
        "id": "dJuIaDVe1ntk",
        "colab_type": "code",
        "colab": {
          "base_uri": "https://localhost:8080/",
          "height": 265
        },
        "outputId": "a2e6ede2-ff22-4254-97ed-bc1e532614fb"
      },
      "source": [
        "# 비만지수와 돌봄시설합계\n",
        "plt.scatter(df[['비만지수']], df[['돌봄시설합계']], alpha=0.4)\n",
        "plt.show()"
      ],
      "execution_count": 39,
      "outputs": [
        {
          "output_type": "display_data",
          "data": {
            "image/png": "[encoded data removed]",
            "text/plain": [
              "<Figure size 432x288 with 1 Axes>"
            ]
          },
          "metadata": {
            "tags": [],
            "needs_background": "light"
          }
        }
      ]
    },
    {
      "cell_type": "code",
      "metadata": {
        "id": "VvnlV-Qh1n9B",
        "colab_type": "code",
        "colab": {
          "base_uri": "https://localhost:8080/",
          "height": 265
        },
        "outputId": "0b9dd2a3-7900-4d59-dbd4-067bad2a0aca"
      },
      "source": [
        "# 음주율과 돌봄시설합계\n",
        "plt.scatter(df[['음주율']], df[['돌봄시설합계']], alpha=0.4)\n",
        "plt.show()"
      ],
      "execution_count": 40,
      "outputs": [
        {
          "output_type": "display_data",
          "data": {
            "image/png": "[encoded data removed]",
            "text/plain": [
              "<Figure size 432x288 with 1 Axes>"
            ]
          },
          "metadata": {
            "tags": [],
            "needs_background": "light"
          }
        }
      ]
    },
    {
      "cell_type": "code",
      "metadata": {
        "id": "3yHCU4am1nbg",
        "colab_type": "code",
        "colab": {
          "base_uri": "https://localhost:8080/",
          "height": 278
        },
        "outputId": "0b467dde-363a-429b-97bf-3b17f3a26077"
      },
      "source": [
        "# 교육경비보조금과 돌봄시설합계\n",
        "plt.scatter(df[['교육경비보조금']], df[['돌봄시설합계']], alpha=0.4)\n",
        "plt.show()"
      ],
      "execution_count": 41,
      "outputs": [
        {
          "output_type": "display_data",
          "data": {
            "image/png": "[encoded data removed]",
            "text/plain": [
              "<Figure size 432x288 with 1 Axes>"
            ]
          },
          "metadata": {
            "tags": [],
            "needs_background": "light"
          }
        }
      ]
    },
    {
      "cell_type": "code",
      "metadata": {
        "id": "gd9NB1hT1hKK",
        "colab_type": "code",
        "colab": {
          "base_uri": "https://localhost:8080/",
          "height": 265
        },
        "outputId": "3e4ee635-aaef-47ad-a9cb-2f158ef82ac0"
      },
      "source": [
        "# 도서관과 돌봄시설합계\n",
        "plt.scatter(df[['도서관수']], df[['돌봄시설합계']], alpha=0.4)\n",
        "plt.show()"
      ],
      "execution_count": 42,
      "outputs": [
        {
          "output_type": "display_data",
          "data": {
            "image/png": "[encoded data removed]",
            "text/plain": [
              "<Figure size 432x288 with 1 Axes>"
            ]
          },
          "metadata": {
            "tags": [],
            "needs_background": "light"
          }
        }
      ]
    },
    {
      "cell_type": "code",
      "metadata": {
        "id": "zKdvPzKssrYc",
        "colab_type": "code",
        "colab": {
          "base_uri": "https://localhost:8080/",
          "height": 265
        },
        "outputId": "546cfd44-4773-4b39-b3ce-c8ca64dec61f"
      },
      "source": [
        "# 한부모가구수와 돌봄시설합계\n",
        "plt.scatter(df[['한부모가구수']], df[['돌봄시설합계']], alpha=0.4)\n",
        "plt.show()"
      ],
      "execution_count": 43,
      "outputs": [
        {
          "output_type": "display_data",
          "data": {
            "image/png": "[encoded data removed]",
            "text/plain": [
              "<Figure size 432x288 with 1 Axes>"
            ]
          },
          "metadata": {
            "tags": [],
            "needs_background": "light"
          }
        }
      ]
    },
    {
      "cell_type": "code",
      "metadata": {
        "id": "her0G0CC2NGL",
        "colab_type": "code",
        "colab": {
          "base_uri": "https://localhost:8080/",
          "height": 34
        },
        "outputId": "3192e384-6a18-4bfd-b543-b6d6bf85d042"
      },
      "source": [
        "print(mlr.score(x_train, y_train))"
      ],
      "execution_count": 44,
      "outputs": [
        {
          "output_type": "stream",
          "text": [
            "0.8765181673703732\n"
          ],
          "name": "stdout"
        }
      ]
    },
    {
      "cell_type": "markdown",
      "metadata": {
        "id": "McltcWg7s3xu",
        "colab_type": "text"
      },
      "source": [
        "### 다항선형회귀 모델링(R)"
      ]
    },
    {
      "cell_type": "markdown",
      "metadata": {
        "id": "_X9cgNKNtCLU",
        "colab_type": "text"
      },
      "source": [
        "판다스로 만든 파일을 저장 R을 통해 모델링을 해본다."
      ]
    },
    {
      "cell_type": "code",
      "metadata": {
        "id": "uwLyOAJCkK1W",
        "colab_type": "code",
        "colab": {}
      },
      "source": [
        "df.to_csv('df.csv')"
      ],
      "execution_count": 45,
      "outputs": []
    },
    {
      "cell_type": "code",
      "metadata": {
        "id": "rFxSfpFoktpq",
        "colab_type": "code",
        "colab": {
          "base_uri": "https://localhost:8080/",
          "height": 879
        },
        "outputId": "51226b5f-3857-4b61-a27b-4c8d1f2f073b"
      },
      "source": [
        "%%R\n",
        "df <- read.csv(file.choose())\n",
        "summary(df)"
      ],
      "execution_count": 46,
      "outputs": [
        {
          "output_type": "stream",
          "text": [
            "Enter file name:df.csv\n",
            "       X              시군구별.1.  시군구별.2.     시도코드       시군구코드   \n",
            " Min.   :  0.00   경기도    :31   동구   :  6   Min.   :11.00   Min.   : 50.0  \n",
            " 1st Qu.: 56.75   서울특별시:25   중구   :  6   1st Qu.:28.00   1st Qu.:200.0  \n",
            " Median :113.50   경상북도  :23   서구   :  5   Median :42.00   Median :390.0  \n",
            " Mean   :113.50   전라남도  :22   남구   :  4   Mean   :37.15   Mean   :462.4  \n",
            " 3rd Qu.:170.25   강원도    :18   북구   :  4   3rd Qu.:46.00   3rd Qu.:750.0  \n",
            " Max.   :227.00   경상남도  :18   강서구 :  2   Max.   :50.00   Max.   :940.0  \n",
            "                  (Other)   :91   (Other):201                   NA's   :1      \n",
            "  초등돌봄교실     지역아동센터    다함께돌봄센터   청소년방과후아카데미\n",
            " Min.   :  5.00   Min.   :  1.00   Min.   : 0.000   Min.   :0.0000      \n",
            " 1st Qu.: 20.00   1st Qu.:  7.00   1st Qu.: 0.000   1st Qu.:0.0000      \n",
            " Median : 41.00   Median : 13.00   Median : 1.000   Median :1.0000      \n",
            " Mean   : 55.57   Mean   : 19.81   Mean   : 1.215   Mean   :0.8772      \n",
            " 3rd Qu.: 76.25   3rd Qu.: 26.00   3rd Qu.: 1.000   3rd Qu.:1.0000      \n",
            " Max.   :236.00   Max.   :123.00   Max.   :21.000   Max.   :8.0000      \n",
            "                                                                        \n",
            "    비만지수         음주율          학생수      교육경비보조금     \n",
            " Min.   :18.81   Min.   :44.80   Min.   :  281   Min.   :8.029e+06  \n",
            " 1st Qu.:19.91   1st Qu.:55.88   1st Qu.: 2097   1st Qu.:5.802e+08  \n",
            " Median :20.16   Median :59.65   Median : 6800   Median :2.550e+09  \n",
            " Mean   :20.21   Mean   :58.98   Mean   :11815   Mean   :4.054e+09  \n",
            " 3rd Qu.:20.49   3rd Qu.:62.12   3rd Qu.:16484   3rd Qu.:5.208e+09  \n",
            " Max.   :21.57   Max.   :71.00   Max.   :68903   Max.   :3.564e+10  \n",
            "                                                                    \n",
            "    도서관수      한부모가구수    학생수대비초등돌봄교실수\n",
            " Min.   : 2.00   Min.   :  16.0   Min.   :0.0004966       \n",
            " 1st Qu.: 7.75   1st Qu.: 162.8   1st Qu.:0.0039276       \n",
            " Median :12.00   Median : 520.0   Median :0.0056369       \n",
            " Mean   :15.25   Mean   : 792.9   Mean   :0.0092943       \n",
            " 3rd Qu.:18.25   3rd Qu.:1174.8   3rd Qu.:0.0104163       \n",
            " Max.   :71.00   Max.   :3525.0   Max.   :0.1549550       \n",
            "                                                          \n",
            " 학생수대비지역아동센터수 학생수대비다함께돌봄센터수\n",
            " Min.   :0.0001544        Min.   :0.000e+00         \n",
            " 1st Qu.:0.0012878        1st Qu.:0.000e+00         \n",
            " Median :0.0020443        Median :4.429e-05         \n",
            " Mean   :0.0030462        Mean   :1.761e-04         \n",
            " 3rd Qu.:0.0037881        3rd Qu.:2.088e-04         \n",
            " Max.   :0.0143443        Max.   :2.738e-03         \n",
            "                                                    \n",
            " 학생수대비청소년방과후아카데미수  돌봄시설합계   \n",
            " Min.   :0.000e+00                Min.   :  6.00  \n",
            " 1st Qu.:0.000e+00                1st Qu.: 31.00  \n",
            " Median :5.059e-05                Median : 58.00  \n",
            " Mean   :1.947e-04                Mean   : 77.46  \n",
            " 3rd Qu.:2.064e-04                3rd Qu.:103.75  \n",
            " Max.   :2.928e-03                Max.   :293.00  \n",
            "                                                  \n"
          ],
          "name": "stdout"
        }
      ]
    },
    {
      "cell_type": "markdown",
      "metadata": {
        "id": "fQ39l9mHvonm",
        "colab_type": "text"
      },
      "source": [
        "모델링 전 단계로 산포도 행렬을 통한 각 변수의 관계와 기초적인 통계 탐색(EDA)을 해본다."
      ]
    },
    {
      "cell_type": "code",
      "metadata": {
        "id": "_mgAabGVvmRF",
        "colab_type": "code",
        "colab": {}
      },
      "source": [
        "%%R\n",
        "install.packages(\"psych\")"
      ],
      "execution_count": null,
      "outputs": []
    },
    {
      "cell_type": "code",
      "metadata": {
        "id": "NcA09GL8veZP",
        "colab_type": "code",
        "colab": {
          "base_uri": "https://localhost:8080/",
          "height": 175
        },
        "outputId": "3f596cec-c0cc-48d3-8efd-445c0da75b45"
      },
      "source": [
        "%%R\n",
        "library(psych)"
      ],
      "execution_count": 48,
      "outputs": [
        {
          "output_type": "stream",
          "text": [
            "R[write to console]: \n",
            "Attaching package: ‘psych’\n",
            "\n",
            "\n",
            "R[write to console]: The following object is masked from ‘package:car’:\n",
            "\n",
            "    logit\n",
            "\n",
            "\n"
          ],
          "name": "stderr"
        }
      ]
    },
    {
      "cell_type": "code",
      "metadata": {
        "id": "MJeGcX3VyPTY",
        "colab_type": "code",
        "colab": {
          "base_uri": "https://localhost:8080/",
          "height": 497
        },
        "outputId": "0f3c0847-690a-4251-c27e-781a2036998e"
      },
      "source": [
        "%%R\n",
        "pairs.panels(df[c('학생수','비만지수','음주율','교육경비보조금','도서관수','한부모가구수')])"
      ],
      "execution_count": 49,
      "outputs": [
        {
          "output_type": "display_data",
          "data": {
            "image/png": "[encoded data removed]"
          },
          "metadata": {
            "tags": []
          }
        }
      ]
    },
    {
      "cell_type": "markdown",
      "metadata": {
        "id": "UxwbCEGj-PY8",
        "colab_type": "text"
      },
      "source": [
        "#### 모델링"
      ]
    },
    {
      "cell_type": "code",
      "metadata": {
        "id": "nVnFk8aA-Oel",
        "colab_type": "code",
        "colab": {}
      },
      "source": [
        "%%R\n",
        "df_model <- lm(돌봄시설합계 ~학생수+비만지수+음주율+교육경비보조금+도서관수+한부모가구수, data = df)"
      ],
      "execution_count": 50,
      "outputs": []
    },
    {
      "cell_type": "markdown",
      "metadata": {
        "id": "wdMItUE1GGR9",
        "colab_type": "text"
      },
      "source": [
        "표준화한 변수로 회귀분석을 통해 각 변수 간 영향력을 비교해본다."
      ]
    },
    {
      "cell_type": "code",
      "metadata": {
        "id": "Myby66eFGJGL",
        "colab_type": "code",
        "colab": {
          "base_uri": "https://localhost:8080/",
          "height": 633
        },
        "outputId": "c3b8aeca-4225-4128-c239-dca83d880d83"
      },
      "source": [
        "%%R\n",
        "df_norm <- transform(df, \n",
        "                        z.학생수 = scale(학생수),\n",
        "                        z.비만지수 = scale(비만지수),\n",
        "                        z.음주율 = scale(음주율),\n",
        "                        z.교육경비보조금 = scale(교육경비보조금),\n",
        "                        z.도서관수 = scale(도서관수),\n",
        "                        z.한부모가구수 = scale(한부모가구수))\n",
        "head(df_norm)"
      ],
      "execution_count": 51,
      "outputs": [
        {
          "output_type": "stream",
          "text": [
            "  X 시군구별.1. 시군구별.2. 시도코드 시군구코드 초등돌봄교실 지역아동센터\n",
            "1 0  서울특별시      강남구       11        680          117            4\n",
            "2 1  서울특별시      강동구       11        740          108           23\n",
            "3 2  서울특별시      강북구       11        305           43           22\n",
            "4 3  서울특별시      강서구       11        500          121           21\n",
            "5 4  서울특별시      관악구       11        620           89           30\n",
            "6 5  서울특별시      광진구       11        215           69           16\n",
            "  다함께돌봄센터 청소년방과후아카데미 비만지수 음주율 학생수 교육경비보조금\n",
            "1              4                    1 19.43920   64.4  25905    13851585000\n",
            "2              1                    1 19.81522   60.7  21353     4103795000\n",
            "3              0                    1 20.10714   62.1   9913     3276998000\n",
            "4              2                    1 19.84444   61.5  26078     2821710000\n",
            "5              0                    0 19.88764   60.0  14410     3764509000\n",
            "6              2                    0 19.83933   61.6  14257     3743149000\n",
            "  도서관수 한부모가구수 학생수대비초등돌봄교실수 학생수대비지역아동센터수\n",
            "1       35          818              0.004516503             0.0001544103\n",
            "2       22         1108              0.005057837             0.0010771320\n",
            "3       14         1661              0.004337738             0.0022193080\n",
            "4       32         1885              0.004639926             0.0008052765\n",
            "5       21         1239              0.006176266             0.0020818876\n",
            "6       12         1106              0.004839728             0.0011222557\n",
            "  학생수대비다함께돌봄센터수 학생수대비청소년방과후아카데미수 돌봄시설합계\n",
            "1               1.544103e-04                     3.860259e-05          126\n",
            "2               4.683183e-05                     4.683183e-05          133\n",
            "3               0.000000e+00                     1.008776e-04           66\n",
            "4               7.669300e-05                     3.834650e-05          145\n",
            "5               0.000000e+00                     0.000000e+00          119\n",
            "6               1.402820e-04                     0.000000e+00           87\n",
            "    z.학생수 z.비만지수  z.음주율 z.교육경비보조금 z.도서관수 z.한부모가구수\n",
            "1  1.0736947 -1.7952203 1.2335470      1.775702895  1.7427276     0.03223909\n",
            "2  0.7268316 -0.9245320 0.3918596      0.009005792  0.5953610     0.40412470\n",
            "3 -0.1448979 -0.2485630 0.7103359     -0.140843545 -0.1107108     1.11327209\n",
            "4  1.0868773 -0.8568552 0.5738460     -0.223360299  1.4779507     1.40052167\n",
            "5  0.1977741 -0.7568326 0.2326214     -0.052486669  0.5071020     0.57211441\n",
            "6  0.1861155 -0.8687076 0.5965943     -0.056357972 -0.2872288     0.40155997\n"
          ],
          "name": "stdout"
        }
      ]
    },
    {
      "cell_type": "code",
      "metadata": {
        "id": "0hfj3r1TGmDU",
        "colab_type": "code",
        "colab": {
          "base_uri": "https://localhost:8080/",
          "height": 474
        },
        "outputId": "6c76a2a9-07d5-45d1-f653-581072e120d0"
      },
      "source": [
        "%%R\n",
        "df_norm_lm <- lm(돌봄시설합계 ~z.학생수+z.비만지수+z.음주율+z.교육경비보조금+z.도서관수+z.한부모가구수, data = df_norm)   \n",
        "summary(df_norm_lm)"
      ],
      "execution_count": 52,
      "outputs": [
        {
          "output_type": "stream",
          "text": [
            "\n",
            "Call:\n",
            "lm(formula = 돌봄시설합계 ~ z.학생수 + z.비만지수 + \n",
            "    z.음주율 + z.교육경비보조금 + z.도서관수 + \n",
            "    z.한부모가구수, data = df_norm)\n",
            "\n",
            "Residuals:\n",
            "    Min      1Q  Median      3Q     Max \n",
            "-71.997 -10.228  -1.138   8.986  83.947 \n",
            "\n",
            "Coefficients:\n",
            "                 Estimate Std. Error t value Pr(>|t|)    \n",
            "(Intercept)        77.465      1.437  53.919  < 2e-16 ***\n",
            "z.학생수           25.898      4.077   6.352  1.2e-09 ***\n",
            "z.비만지수          3.484      1.607   2.168  0.03122 *  \n",
            "z.음주율           -4.125      1.545  -2.669  0.00816 ** \n",
            "z.교육경비보조금    3.261      2.237   1.458  0.14634    \n",
            "z.도서관수          6.743      4.085   1.651  0.10024    \n",
            "z.한부모가구수     30.626      2.282  13.423  < 2e-16 ***\n",
            "---\n",
            "Signif. codes:  0 ‘***’ 0.001 ‘**’ 0.01 ‘*’ 0.05 ‘.’ 0.1 ‘ ’ 1\n",
            "\n",
            "Residual standard error: 21.69 on 221 degrees of freedom\n",
            "Multiple R-squared:  0.8807,\tAdjusted R-squared:  0.8775 \n",
            "F-statistic:   272 on 6 and 221 DF,  p-value: < 2.2e-16\n",
            "\n"
          ],
          "name": "stdout"
        }
      ]
    },
    {
      "cell_type": "markdown",
      "metadata": {
        "id": "u7ki-Q_M8xOJ",
        "colab_type": "text"
      },
      "source": [
        "각 변수간 **상대적 중요도**를 확인해본다."
      ]
    },
    {
      "cell_type": "code",
      "metadata": {
        "id": "WNiCsC4W9FFv",
        "colab_type": "code",
        "colab": {}
      },
      "source": [
        "%%R\n",
        "install.packages(\"ggplot2\")"
      ],
      "execution_count": null,
      "outputs": []
    },
    {
      "cell_type": "code",
      "metadata": {
        "id": "-4qZdDWq9Ju2",
        "colab_type": "code",
        "colab": {
          "base_uri": "https://localhost:8080/",
          "height": 175
        },
        "outputId": "42e9e4d5-c578-496d-abb0-a53faca57a8d"
      },
      "source": [
        "%%R\n",
        "library(ggplot2)"
      ],
      "execution_count": 54,
      "outputs": [
        {
          "output_type": "stream",
          "text": [
            "R[write to console]: \n",
            "Attaching package: ‘ggplot2’\n",
            "\n",
            "\n",
            "R[write to console]: The following objects are masked from ‘package:psych’:\n",
            "\n",
            "    %+%, alpha\n",
            "\n",
            "\n"
          ],
          "name": "stderr"
        }
      ]
    },
    {
      "cell_type": "code",
      "metadata": {
        "id": "69jFzMos82SX",
        "colab_type": "code",
        "colab": {}
      },
      "source": [
        "%%R\n",
        "relweights <- function(fit,...){\n",
        "  \n",
        "  R <- cor(fit$model)\n",
        "  nvar <- ncol(R)\n",
        "  rxx <- R[2:nvar, 2:nvar]\n",
        "  rxy <- R[2:nvar, 1]\n",
        "  svd <- eigen(rxx)\n",
        "  evec <- svd$vectors\n",
        "  ev <- svd$values\n",
        "  delta <- diag(sqrt(ev))\n",
        "  lambda <- evec %*% delta %*% t(evec)\n",
        "  lambdasq <- lambda ^ 2\n",
        "  beta <- solve(lambda) %*% rxy\n",
        "  rsquare <- colSums(beta ^ 2)\n",
        "  rawwgt <- lambdasq %*% beta ^ 2\n",
        "  import <- (rawwgt / rsquare) * 100\n",
        "  import <- as.data.frame(import)\n",
        "  row.names(import) <- names(fit$model[2:nvar])\n",
        "  names(import) <- \"Weights\"\n",
        "  import <- import[order(import),1, drop=FALSE]\n",
        "  dotchart(import$Weights, labels=row.names(import),\n",
        "           xlab=\"% of R-Square\", pch=19,\n",
        "           main=\"Relative Importance of Predictor Variables\",\n",
        "           sub=paste(\"Total R-Square=\", round(rsquare, digits=3)),\n",
        "           ...)\n",
        "  return(import)\n",
        "}"
      ],
      "execution_count": 55,
      "outputs": []
    },
    {
      "cell_type": "code",
      "metadata": {
        "id": "5ni4OZ9X9jCr",
        "colab_type": "code",
        "colab": {
          "base_uri": "https://localhost:8080/",
          "height": 977
        },
        "outputId": "ae2f05bc-ec5f-4913-9316-b5a8c5d91257"
      },
      "source": [
        "%%R\n",
        "plotRelWeights=function(fit){\n",
        "  data<-relweights(fit)\n",
        "  data$Predictors<-rownames(data)\n",
        "  p <-ggplot(data=data,aes(x=reorder(Predictors,Weights),y=Weights,fill=Predictors))+ \n",
        "       geom_bar(stat=\"identity\",width=0.5)+\n",
        "       ggtitle(\"Relative Importance of Predictor Variables\")+\n",
        "       ylab(paste0(\"% of R-square \\n(Total R-Square=\",attr(data,\"R-square\"),\")\"))+\n",
        "       geom_text(aes(y=Weights-0.1,label=paste(round(Weights,1),\"%\")),hjust=1)+\n",
        "       guides(fill=FALSE)+\n",
        "       coord_flip()+\n",
        "       theme_classic()\n",
        "  p\n",
        "}\n",
        "\n",
        "plotRelWeights(df_model)"
      ],
      "execution_count": 56,
      "outputs": [
        {
          "output_type": "display_data",
          "data": {
            "image/png": "[encoded data removed]"
          },
          "metadata": {
            "tags": []
          }
        },
        {
          "output_type": "display_data",
          "data": {
            "image/png": "[encoded data removed]"
          },
          "metadata": {
            "tags": []
          }
        }
      ]
    },
    {
      "cell_type": "markdown",
      "metadata": {
        "id": "6R9ntqa90Qgf",
        "colab_type": "text"
      },
      "source": [
        "#### 모델링 성능평가"
      ]
    },
    {
      "cell_type": "code",
      "metadata": {
        "id": "Bb-3-SPJ0PhS",
        "colab_type": "code",
        "colab": {
          "base_uri": "https://localhost:8080/",
          "height": 474
        },
        "outputId": "805ab41b-60b5-4eb7-91fc-ec68479b9a02"
      },
      "source": [
        "%%R\n",
        "summary(df_model)"
      ],
      "execution_count": 57,
      "outputs": [
        {
          "output_type": "stream",
          "text": [
            "\n",
            "Call:\n",
            "lm(formula = 돌봄시설합계 ~ 학생수 + 비만지수 + \n",
            "    음주율 + 교육경비보조금 + 도서관수 + 한부모가구수, \n",
            "    data = df)\n",
            "\n",
            "Residuals:\n",
            "    Min      1Q  Median      3Q     Max \n",
            "-71.997 -10.228  -1.138   8.986  83.947 \n",
            "\n",
            "Coefficients:\n",
            "                 Estimate Std. Error t value Pr(>|t|)    \n",
            "(Intercept)    -9.622e+01  8.051e+01  -1.195  0.23333    \n",
            "학생수          1.973e-03  3.107e-04   6.352  1.2e-09 ***\n",
            "비만지수        8.068e+00  3.721e+00   2.168  0.03122 *  \n",
            "음주율         -9.383e-01  3.515e-01  -2.669  0.00816 ** \n",
            "교육경비보조금  5.910e-10  4.054e-10   1.458  0.14634    \n",
            "도서관수        5.951e-01  3.605e-01   1.651  0.10024    \n",
            "한부모가구수    3.927e-02  2.926e-03  13.423  < 2e-16 ***\n",
            "---\n",
            "Signif. codes:  0 ‘***’ 0.001 ‘**’ 0.01 ‘*’ 0.05 ‘.’ 0.1 ‘ ’ 1\n",
            "\n",
            "Residual standard error: 21.69 on 221 degrees of freedom\n",
            "Multiple R-squared:  0.8807,\tAdjusted R-squared:  0.8775 \n",
            "F-statistic:   272 on 6 and 221 DF,  p-value: < 2.2e-16\n",
            "\n"
          ],
          "name": "stdout"
        }
      ]
    },
    {
      "cell_type": "markdown",
      "metadata": {
        "id": "JRHe7e8f0Gi1",
        "colab_type": "text"
      },
      "source": [
        "#### 모델링 개선"
      ]
    },
    {
      "cell_type": "markdown",
      "metadata": {
        "id": "y7bQCm1jAF9_",
        "colab_type": "text"
      },
      "source": [
        "첫번째로, VIF분석을 우선 진행하여 각 독립변수들간의 다중공선성을 확인 및 제거해 모델을 개선해본다."
      ]
    },
    {
      "cell_type": "code",
      "metadata": {
        "id": "rlySyN2sACfl",
        "colab_type": "code",
        "colab": {
          "base_uri": "https://localhost:8080/",
          "height": 87
        },
        "outputId": "c75e4344-9631-4d02-b93d-5159d4a52f52"
      },
      "source": [
        "%%R\n",
        "vif(df_model)"
      ],
      "execution_count": 58,
      "outputs": [
        {
          "output_type": "stream",
          "text": [
            "        학생수       비만지수         음주율 교육경비보조금       도서관수 \n",
            "      8.018192       1.245816       1.151672       2.413730       8.048535 \n",
            "  한부모가구수 \n",
            "      2.511077 \n"
          ],
          "name": "stdout"
        }
      ]
    },
    {
      "cell_type": "code",
      "metadata": {
        "id": "-HMWyQEOApyR",
        "colab_type": "code",
        "colab": {}
      },
      "source": [
        "%%R\n",
        "df_model2 <- lm(돌봄시설합계 ~학생수+비만지수+음주율+교육경비보조금+한부모가구수, data = df)"
      ],
      "execution_count": 59,
      "outputs": []
    },
    {
      "cell_type": "code",
      "metadata": {
        "id": "_UO-DRtAAxGV",
        "colab_type": "code",
        "colab": {
          "base_uri": "https://localhost:8080/",
          "height": 439
        },
        "outputId": "c7a2b62a-c303-4bb0-b0c3-3ce7f63a43ca"
      },
      "source": [
        "%%R\n",
        "summary(df_model2)"
      ],
      "execution_count": 60,
      "outputs": [
        {
          "output_type": "stream",
          "text": [
            "\n",
            "Call:\n",
            "lm(formula = 돌봄시설합계 ~ 학생수 + 비만지수 + \n",
            "    음주율 + 교육경비보조금 + 한부모가구수, data = df)\n",
            "\n",
            "Residuals:\n",
            "    Min      1Q  Median      3Q     Max \n",
            "-74.728 -10.414  -0.865   8.841  86.887 \n",
            "\n",
            "Coefficients:\n",
            "                 Estimate Std. Error t value Pr(>|t|)    \n",
            "(Intercept)    -1.017e+02  8.076e+01  -1.259  0.20933    \n",
            "학생수          2.328e-03  2.255e-04  10.320  < 2e-16 ***\n",
            "비만지수        8.541e+00  3.725e+00   2.293  0.02277 *  \n",
            "음주율         -9.603e-01  3.526e-01  -2.723  0.00698 ** \n",
            "교육경비보조금  7.809e-10  3.903e-10   2.001  0.04663 *  \n",
            "한부모가구수    4.093e-02  2.759e-03  14.838  < 2e-16 ***\n",
            "---\n",
            "Signif. codes:  0 ‘***’ 0.001 ‘**’ 0.01 ‘*’ 0.05 ‘.’ 0.1 ‘ ’ 1\n",
            "\n",
            "Residual standard error: 21.78 on 222 degrees of freedom\n",
            "Multiple R-squared:  0.8792,\tAdjusted R-squared:  0.8765 \n",
            "F-statistic: 323.3 on 5 and 222 DF,  p-value: < 2.2e-16\n",
            "\n"
          ],
          "name": "stdout"
        }
      ]
    },
    {
      "cell_type": "markdown",
      "metadata": {
        "id": "29s_miEi4poT",
        "colab_type": "text"
      },
      "source": [
        "두번째로, 2가지 변수선택 방법을 통해 모델링을 개선하도록 한다."
      ]
    },
    {
      "cell_type": "markdown",
      "metadata": {
        "id": "TBBc57m54OxG",
        "colab_type": "text"
      },
      "source": [
        "**1. Stepwise regression(단계적 변수선택)**"
      ]
    },
    {
      "cell_type": "markdown",
      "metadata": {
        "id": "LANGbCEz0aFV",
        "colab_type": "text"
      },
      "source": [
        "성능개선을 위해 STEP 함수를 이용하여 무의미한 독립변수 제거하여 모델을 최적화 한다. STEP 함수는 'Stepwise Algorithm의 AIC'를 통해 모델을 적합화 할 수 있는데, 간단히 말하면 여러 변수들이 들어간 회귀식의 AIC를 확인해보며 가장 적절한 모델을 찾아주는 함수이다.즉, **최적화 된 회귀모델은 'AIC가 가장 작은 값'**을 말한다.\n",
        "\n",
        "**AIC**란 **A**kaike **i**nformation **c**riterion의 줄임말로 동일한 데이터셋을 사용해 만들어진 모델 중 상대적으로 Quality가 좋은 모델을 선정해주는 함수이며 값이 작을수록 좋다."
      ]
    },
    {
      "cell_type": "code",
      "metadata": {
        "id": "d9qy_aBrnr3S",
        "colab_type": "code",
        "colab": {}
      },
      "source": [
        "%%R\n",
        "df.null <- lm(돌봄시설합계 ~ 1,   data = df)      \n",
        "df.full <- lm(돌봄시설합계 ~ 학생수+비만지수+음주율+교육경비보조금+도서관수+한부모가구수 ,  data = df)"
      ],
      "execution_count": 62,
      "outputs": []
    },
    {
      "cell_type": "code",
      "metadata": {
        "id": "kC-GTy82_Fcm",
        "colab_type": "code",
        "colab": {
          "base_uri": "https://localhost:8080/",
          "height": 439
        },
        "outputId": "4c9faf76-7c16-4918-8d4a-ef2ccd18fc41"
      },
      "source": [
        "%%R\n",
        "step(df.full, data = df, direction = \"backward\")"
      ],
      "execution_count": 63,
      "outputs": [
        {
          "output_type": "stream",
          "text": [
            "Start:  AIC=1410.01\n",
            "돌봄시설합계 ~ 학생수 + 비만지수 + 음주율 + 교육경비보조금 + \n",
            "    도서관수 + 한부모가구수\n",
            "\n",
            "                 Df Sum of Sq    RSS    AIC\n",
            "<none>                        104005 1410.0\n",
            "- 교육경비보조금  1      1000 105005 1410.2\n",
            "- 도서관수        1      1282 105287 1410.8\n",
            "- 비만지수        1      2212 106217 1412.8\n",
            "- 음주율          1      3353 107359 1415.2\n",
            "- 학생수          1     18988 122993 1446.2\n",
            "- 한부모가구수    1     84792 188798 1544.0\n",
            "\n",
            "Call:\n",
            "lm(formula = 돌봄시설합계 ~ 학생수 + 비만지수 + \n",
            "    음주율 + 교육경비보조금 + 도서관수 + 한부모가구수, \n",
            "    data = df)\n",
            "\n",
            "Coefficients:\n",
            "   (Intercept)          학생수        비만지수          음주율  교육경비보조금  \n",
            "    -9.622e+01       1.973e-03       8.068e+00      -9.383e-01       5.910e-10  \n",
            "      도서관수    한부모가구수  \n",
            "     5.951e-01       3.927e-02  \n",
            "\n"
          ],
          "name": "stdout"
        }
      ]
    },
    {
      "cell_type": "code",
      "metadata": {
        "id": "cKn25wJbnkbj",
        "colab_type": "code",
        "colab": {
          "base_uri": "https://localhost:8080/",
          "height": 1000
        },
        "outputId": "143a33ff-fc0b-4967-a6fe-bad8a1c40b08"
      },
      "source": [
        "%%R\n",
        "step(df.null, scope = list(upper = df.full) ,  data = df, direction = \"both\")"
      ],
      "execution_count": 64,
      "outputs": [
        {
          "output_type": "stream",
          "text": [
            "Start:  AIC=1882.79\n",
            "돌봄시설합계 ~ 1\n",
            "\n",
            "                 Df Sum of Sq    RSS    AIC\n",
            "+ 학생수          1    656873 215039 1565.6\n",
            "+ 한부모가구수    1    648294 223619 1574.5\n",
            "+ 도서관수        1    643666 228247 1579.2\n",
            "+ 교육경비보조금  1    326315 545598 1777.9\n",
            "+ 비만지수        1     90086 781826 1859.9\n",
            "+ 음주율          1     48427 823486 1871.8\n",
            "<none>                        871913 1882.8\n",
            "\n",
            "Step:  AIC=1565.62\n",
            "돌봄시설합계 ~ 학생수\n",
            "\n",
            "                 Df Sum of Sq    RSS    AIC\n",
            "+ 한부모가구수    1    100317 114723 1424.4\n",
            "+ 도서관수        1     19882 195158 1545.5\n",
            "+ 음주율          1      3604 211436 1563.8\n",
            "<none>                        215039 1565.6\n",
            "+ 비만지수        1      1486 213554 1566.0\n",
            "+ 교육경비보조금  1       393 214646 1567.2\n",
            "- 학생수          1    656873 871913 1882.8\n",
            "\n",
            "Step:  AIC=1424.37\n",
            "돌봄시설합계 ~ 학생수 + 한부모가구수\n",
            "\n",
            "                 Df Sum of Sq    RSS    AIC\n",
            "+ 음주율          1      4626 110097 1417.0\n",
            "+ 비만지수        1      3774 110949 1418.8\n",
            "+ 도서관수        1      3117 111606 1420.1\n",
            "+ 교육경비보조금  1      2686 112037 1421.0\n",
            "<none>                        114723 1424.4\n",
            "- 한부모가구수    1    100317 215039 1565.6\n",
            "- 학생수          1    108896 223619 1574.5\n",
            "\n",
            "Step:  AIC=1416.99\n",
            "돌봄시설합계 ~ 학생수 + 한부모가구수 + 음주율\n",
            "\n",
            "                 Df Sum of Sq    RSS    AIC\n",
            "+ 비만지수        1      2911 107186 1412.9\n",
            "+ 도서관수        1      2683 107414 1413.4\n",
            "+ 교육경비보조금  1      2316 107781 1414.1\n",
            "<none>                        110097 1417.0\n",
            "- 음주율          1      4626 114723 1424.4\n",
            "- 한부모가구수    1    101339 211436 1563.8\n",
            "- 학생수          1    113451 223548 1576.5\n",
            "\n",
            "Step:  AIC=1412.88\n",
            "돌봄시설합계 ~ 학생수 + 한부모가구수 + 음주율 + \n",
            "    비만지수\n",
            "\n",
            "                 Df Sum of Sq    RSS    AIC\n",
            "+ 도서관수        1      2181 105005 1410.2\n",
            "+ 교육경비보조금  1      1899 105287 1410.8\n",
            "<none>                        107186 1412.9\n",
            "- 비만지수        1      2911 110097 1417.0\n",
            "- 음주율          1      3763 110949 1418.8\n",
            "- 한부모가구수    1    103241 210427 1564.7\n",
            "- 학생수          1    115824 223010 1577.9\n",
            "\n",
            "Step:  AIC=1410.19\n",
            "돌봄시설합계 ~ 학생수 + 한부모가구수 + 음주율 + \n",
            "    비만지수 + 도서관수\n",
            "\n",
            "                 Df Sum of Sq    RSS    AIC\n",
            "+ 교육경비보조금  1      1000 104005 1410.0\n",
            "<none>                        105005 1410.2\n",
            "- 도서관수        1      2181 107186 1412.9\n",
            "- 비만지수        1      2409 107414 1413.4\n",
            "- 음주율          1      3478 108483 1415.6\n",
            "- 학생수          1     23008 128013 1453.4\n",
            "- 한부모가구수    1     86901 191906 1545.7\n",
            "\n",
            "Step:  AIC=1410.01\n",
            "돌봄시설합계 ~ 학생수 + 한부모가구수 + 음주율 + \n",
            "    비만지수 + 도서관수 + 교육경비보조금\n",
            "\n",
            "                 Df Sum of Sq    RSS    AIC\n",
            "<none>                        104005 1410.0\n",
            "- 교육경비보조금  1      1000 105005 1410.2\n",
            "- 도서관수        1      1282 105287 1410.8\n",
            "- 비만지수        1      2212 106217 1412.8\n",
            "- 음주율          1      3353 107359 1415.2\n",
            "- 학생수          1     18988 122993 1446.2\n",
            "- 한부모가구수    1     84792 188798 1544.0\n",
            "\n",
            "Call:\n",
            "lm(formula = 돌봄시설합계 ~ 학생수 + 한부모가구수 + \n",
            "    음주율 + 비만지수 + 도서관수 + 교육경비보조금, \n",
            "    data = df)\n",
            "\n",
            "Coefficients:\n",
            "   (Intercept)          학생수    한부모가구수          음주율        비만지수  \n",
            "    -9.622e+01       1.973e-03       3.927e-02      -9.383e-01       8.068e+00  \n",
            "      도서관수  교육경비보조금  \n",
            "     5.951e-01       5.910e-10  \n",
            "\n"
          ],
          "name": "stdout"
        }
      ]
    },
    {
      "cell_type": "markdown",
      "metadata": {
        "id": "cgXUyakT4DOu",
        "colab_type": "text"
      },
      "source": [
        "STEP 함수를 이용하여 예측된 변수는 기존 변수의 개수와 동일하다."
      ]
    },
    {
      "cell_type": "markdown",
      "metadata": {
        "id": "MBUOCBpe4yDK",
        "colab_type": "text"
      },
      "source": [
        "**2. All subset regression(부분집합회귀분석)**"
      ]
    },
    {
      "cell_type": "markdown",
      "metadata": {
        "id": "XX3jHR-05fOV",
        "colab_type": "text"
      },
      "source": [
        "Stepwise와 달리 변수의 모든 조합으로 구성된 회귀모델을 전부 만들어 비교해본다."
      ]
    },
    {
      "cell_type": "code",
      "metadata": {
        "id": "TyWCVNtPmUpS",
        "colab_type": "code",
        "colab": {
          "base_uri": "https://localhost:8080/",
          "height": 386
        },
        "outputId": "2fe2fc1b-9d67-4676-f600-02c1dd524fdb"
      },
      "source": [
        "%%R\n",
        "df_allsubset<- regsubsets(돌봄시설합계 ~학생수+비만지수+음주율+교육경비보조금+도서관수+한부모가구수, data = df)\n",
        "summary(df_allsubset)"
      ],
      "execution_count": 66,
      "outputs": [
        {
          "output_type": "stream",
          "text": [
            "Subset selection object\n",
            "Call: regsubsets.formula(돌봄시설합계 ~ 학생수 + 비만지수 + \n",
            "    음주율 + 교육경비보조금 + 도서관수 + 한부모가구수, \n",
            "    data = df)\n",
            "6 Variables  (and intercept)\n",
            "               Forced in Forced out\n",
            "학생수             FALSE      FALSE\n",
            "비만지수           FALSE      FALSE\n",
            "음주율             FALSE      FALSE\n",
            "교육경비보조금     FALSE      FALSE\n",
            "도서관수           FALSE      FALSE\n",
            "한부모가구수       FALSE      FALSE\n",
            "1 subsets of each size up to 6\n",
            "Selection Algorithm: exhaustive\n",
            "         학생수 비만지수 음주율 교육경비보조금 도서관수 한부모가구수\n",
            "1  ( 1 ) \"*\"    \" \"      \" \"    \" \"            \" \"      \" \"         \n",
            "2  ( 1 ) \"*\"    \" \"      \" \"    \" \"            \" \"      \"*\"         \n",
            "3  ( 1 ) \"*\"    \" \"      \"*\"    \" \"            \" \"      \"*\"         \n",
            "4  ( 1 ) \"*\"    \"*\"      \"*\"    \" \"            \" \"      \"*\"         \n",
            "5  ( 1 ) \"*\"    \"*\"      \"*\"    \" \"            \"*\"      \"*\"         \n",
            "6  ( 1 ) \"*\"    \"*\"      \"*\"    \"*\"            \"*\"      \"*\"         \n"
          ],
          "name": "stdout"
        }
      ]
    },
    {
      "cell_type": "code",
      "metadata": {
        "id": "pHWkBVhrmifv",
        "colab_type": "code",
        "colab": {
          "base_uri": "https://localhost:8080/",
          "height": 34
        },
        "outputId": "dede9730-a25a-42c9-bb81-c72406e445b3"
      },
      "source": [
        "%%R\n",
        "summary(df_allsubset)$bic"
      ],
      "execution_count": 67,
      "outputs": [
        {
          "output_type": "stream",
          "text": [
            "[1] -308.3111 -446.1345 -450.0891 -450.7696 -450.0268 -446.7793\n"
          ],
          "name": "stdout"
        }
      ]
    },
    {
      "cell_type": "code",
      "metadata": {
        "id": "ZjMjhM11msu1",
        "colab_type": "code",
        "colab": {}
      },
      "source": [
        "%%R\n",
        "df_model3 <- lm(돌봄시설합계 ~학생수+비만지수+음주율+한부모가구수, data = df)"
      ],
      "execution_count": 68,
      "outputs": []
    },
    {
      "cell_type": "code",
      "metadata": {
        "id": "wotnBmtYnO0T",
        "colab_type": "code",
        "colab": {
          "base_uri": "https://localhost:8080/",
          "height": 422
        },
        "outputId": "e463d630-d1fe-4a80-bd5b-dccd3d97cfe3"
      },
      "source": [
        "%%R\n",
        "summary(df_model3)"
      ],
      "execution_count": 69,
      "outputs": [
        {
          "output_type": "stream",
          "text": [
            "\n",
            "Call:\n",
            "lm(formula = 돌봄시설합계 ~ 학생수 + 비만지수 + \n",
            "    음주율 + 한부모가구수, data = df)\n",
            "\n",
            "Residuals:\n",
            "    Min      1Q  Median      3Q     Max \n",
            "-78.590 -11.817  -0.796   9.117  79.355 \n",
            "\n",
            "Coefficients:\n",
            "               Estimate Std. Error t value Pr(>|t|)    \n",
            "(Intercept)  -1.124e+02  8.112e+01  -1.386  0.16724    \n",
            "학생수        2.628e-03  1.693e-04  15.523  < 2e-16 ***\n",
            "비만지수      9.193e+00  3.735e+00   2.461  0.01461 *  \n",
            "음주율       -9.922e-01  3.546e-01  -2.798  0.00559 ** \n",
            "한부모가구수  3.974e-02  2.712e-03  14.656  < 2e-16 ***\n",
            "---\n",
            "Signif. codes:  0 ‘***’ 0.001 ‘**’ 0.01 ‘*’ 0.05 ‘.’ 0.1 ‘ ’ 1\n",
            "\n",
            "Residual standard error: 21.92 on 223 degrees of freedom\n",
            "Multiple R-squared:  0.8771,\tAdjusted R-squared:  0.8749 \n",
            "F-statistic: 397.8 on 4 and 223 DF,  p-value: < 2.2e-16\n",
            "\n"
          ],
          "name": "stdout"
        }
      ]
    },
    {
      "cell_type": "markdown",
      "metadata": {
        "id": "OZmQyeFnxcWx",
        "colab_type": "text"
      },
      "source": [
        "### 다중선형회귀 모델 예측\n"
      ]
    },
    {
      "cell_type": "markdown",
      "metadata": {
        "id": "uDCN4ZhkBJ9A",
        "colab_type": "text"
      },
      "source": [
        "만든 모델3개를 통해 서울특별시 강남구에 대한 해당 모델적용해 예측해본다. 현재 강남구의 돌봄시설합계는 총 126곳이다."
      ]
    },
    {
      "cell_type": "code",
      "metadata": {
        "id": "twTOKVvtBhpw",
        "colab_type": "code",
        "colab": {
          "base_uri": "https://localhost:8080/",
          "height": 34
        },
        "outputId": "9f81014e-6dbc-47ac-a3b2-c35eef554ea6"
      },
      "source": [
        "#예측변수 6개의 df_model\n",
        "-9.622e+01+(1.973e-03*25905)+(8.068e+00*19.439200)+(-9.383e-01*64.4)+(5.910e-10*1.385158e+10)+(5.951e-01*35)+(3.927e-02*818)"
      ],
      "execution_count": 70,
      "outputs": [
        {
          "output_type": "execute_result",
          "data": {
            "text/plain": [
              "112.43715438000001"
            ]
          },
          "metadata": {
            "tags": []
          },
          "execution_count": 70
        }
      ]
    },
    {
      "cell_type": "code",
      "metadata": {
        "id": "pWjStQoWBiOh",
        "colab_type": "code",
        "colab": {
          "base_uri": "https://localhost:8080/",
          "height": 34
        },
        "outputId": "b59b6e25-2c0a-4105-934c-90c12c93c80a"
      },
      "source": [
        "#예측변수 5개의 df_model2\n",
        "-1.017e+02+(2.328e-03*25905)+(8.541e+00*19.439200)+(-9.603e-01*64.4) +(7.809e-10*1.385158e+10)+(4.093e-02*818)"
      ],
      "execution_count": 71,
      "outputs": [
        {
          "output_type": "execute_result",
          "data": {
            "text/plain": [
              "107.09116602200001"
            ]
          },
          "metadata": {
            "tags": []
          },
          "execution_count": 71
        }
      ]
    },
    {
      "cell_type": "code",
      "metadata": {
        "id": "5J6bk7OwBh_f",
        "colab_type": "code",
        "colab": {
          "base_uri": "https://localhost:8080/",
          "height": 34
        },
        "outputId": "f5fff6ea-6d5c-4295-bbf1-1a1d2213d84e"
      },
      "source": [
        "#예측변수 4개의 df_model3\n",
        "-1.124e+02+(2.628e-03*25905)+(9.193e+00*19.439200)+(-9.922e-01*64.4)+(3.974e-02*818)"
      ],
      "execution_count": 72,
      "outputs": [
        {
          "output_type": "execute_result",
          "data": {
            "text/plain": [
              "102.99254559999997"
            ]
          },
          "metadata": {
            "tags": []
          },
          "execution_count": 72
        }
      ]
    },
    {
      "cell_type": "code",
      "metadata": {
        "id": "Y7oqpYg0M0Kj",
        "colab_type": "code",
        "colab": {}
      },
      "source": [
        "df['돌봄시설합계']= (df['초등돌봄교실'] + df['지역아동센터']+ df['다함께돌봄센터']+ df['청소년방과후아카데미'])\n",
        "\n",
        "df['예측값'] = (-9.622e+01 + (1.973e-03*df['학생수'])+(8.068e+00*df['비만지수'])+(-9.383e-01*df['음주율'])+(5.910e-10*df['교육경비보조금'])+(5.951e-01*df['도서관수'])+(3.927e-02*df['한부모가구수']))\n",
        "df['차이값'] = (df['예측값'] - df['돌봄시설합계'])"
      ],
      "execution_count": 73,
      "outputs": []
    },
    {
      "cell_type": "markdown",
      "metadata": {
        "id": "ktYhLavDPMHH",
        "colab_type": "text"
      },
      "source": [
        "### 핵심데이터 column 추출 "
      ]
    },
    {
      "cell_type": "code",
      "metadata": {
        "id": "If0xma8dOg6I",
        "colab_type": "code",
        "colab": {}
      },
      "source": [
        "df_main = df[['시군구별(1)','시군구별(2)','돌봄시설합계','예측값','차이값']]"
      ],
      "execution_count": 74,
      "outputs": []
    },
    {
      "cell_type": "markdown",
      "metadata": {
        "id": "rJuy_JtGPoMz",
        "colab_type": "text"
      },
      "source": [
        "### 돌봄시설 우선공급 지역 Top20"
      ]
    },
    {
      "cell_type": "code",
      "metadata": {
        "id": "Zx8jxz7tPYpj",
        "colab_type": "code",
        "colab": {
          "base_uri": "https://localhost:8080/",
          "height": 639
        },
        "outputId": "68c49f57-5d05-45b7-dfaa-1dd6e01f28d1"
      },
      "source": [
        "df_main.sort_values(by='차이값', ascending=False).head(20)"
      ],
      "execution_count": 75,
      "outputs": [
        {
          "output_type": "execute_result",
          "data": {
            "text/html": [
              "<div>\n",
              "<style scoped>\n",
              "    .dataframe tbody tr th:only-of-type {\n",
              "        vertical-align: middle;\n",
              "    }\n",
              "\n",
              "    .dataframe tbody tr th {\n",
              "        vertical-align: top;\n",
              "    }\n",
              "\n",
              "    .dataframe thead th {\n",
              "        text-align: right;\n",
              "    }\n",
              "</style>\n",
              "<table border=\"1\" class=\"dataframe\">\n",
              "  <thead>\n",
              "    <tr style=\"text-align: right;\">\n",
              "      <th></th>\n",
              "      <th>시군구별(1)</th>\n",
              "      <th>시군구별(2)</th>\n",
              "      <th>돌봄시설합계</th>\n",
              "      <th>예측값</th>\n",
              "      <th>차이값</th>\n",
              "    </tr>\n",
              "  </thead>\n",
              "  <tbody>\n",
              "    <tr>\n",
              "      <th>51</th>\n",
              "      <td>인천광역시</td>\n",
              "      <td>미추홀구</td>\n",
              "      <td>102</td>\n",
              "      <td>173.970132</td>\n",
              "      <td>71.970132</td>\n",
              "    </tr>\n",
              "    <tr>\n",
              "      <th>214</th>\n",
              "      <td>경상남도</td>\n",
              "      <td>창원시</td>\n",
              "      <td>111</td>\n",
              "      <td>181.541345</td>\n",
              "      <td>70.541345</td>\n",
              "    </tr>\n",
              "    <tr>\n",
              "      <th>47</th>\n",
              "      <td>대구광역시</td>\n",
              "      <td>수성구</td>\n",
              "      <td>79</td>\n",
              "      <td>138.800390</td>\n",
              "      <td>59.800390</td>\n",
              "    </tr>\n",
              "    <tr>\n",
              "      <th>95</th>\n",
              "      <td>경기도</td>\n",
              "      <td>성남시</td>\n",
              "      <td>198</td>\n",
              "      <td>247.163089</td>\n",
              "      <td>49.163089</td>\n",
              "    </tr>\n",
              "    <tr>\n",
              "      <th>212</th>\n",
              "      <td>경상남도</td>\n",
              "      <td>김해시</td>\n",
              "      <td>153</td>\n",
              "      <td>198.354644</td>\n",
              "      <td>45.354644</td>\n",
              "    </tr>\n",
              "    <tr>\n",
              "      <th>58</th>\n",
              "      <td>인천광역시</td>\n",
              "      <td>중구</td>\n",
              "      <td>10</td>\n",
              "      <td>53.544699</td>\n",
              "      <td>43.544699</td>\n",
              "    </tr>\n",
              "    <tr>\n",
              "      <th>41</th>\n",
              "      <td>대구광역시</td>\n",
              "      <td>남구</td>\n",
              "      <td>34</td>\n",
              "      <td>76.443746</td>\n",
              "      <td>42.443746</td>\n",
              "    </tr>\n",
              "    <tr>\n",
              "      <th>54</th>\n",
              "      <td>인천광역시</td>\n",
              "      <td>부평구</td>\n",
              "      <td>125</td>\n",
              "      <td>165.990727</td>\n",
              "      <td>40.990727</td>\n",
              "    </tr>\n",
              "    <tr>\n",
              "      <th>55</th>\n",
              "      <td>인천광역시</td>\n",
              "      <td>서구</td>\n",
              "      <td>140</td>\n",
              "      <td>178.657168</td>\n",
              "      <td>38.657168</td>\n",
              "    </tr>\n",
              "    <tr>\n",
              "      <th>42</th>\n",
              "      <td>대구광역시</td>\n",
              "      <td>달서구</td>\n",
              "      <td>151</td>\n",
              "      <td>188.350926</td>\n",
              "      <td>37.350926</td>\n",
              "    </tr>\n",
              "    <tr>\n",
              "      <th>2</th>\n",
              "      <td>서울특별시</td>\n",
              "      <td>강북구</td>\n",
              "      <td>66</td>\n",
              "      <td>102.789923</td>\n",
              "      <td>36.789923</td>\n",
              "    </tr>\n",
              "    <tr>\n",
              "      <th>34</th>\n",
              "      <td>부산광역시</td>\n",
              "      <td>사하구</td>\n",
              "      <td>71</td>\n",
              "      <td>107.227165</td>\n",
              "      <td>36.227165</td>\n",
              "    </tr>\n",
              "    <tr>\n",
              "      <th>87</th>\n",
              "      <td>경기도</td>\n",
              "      <td>의정부시</td>\n",
              "      <td>118</td>\n",
              "      <td>153.922118</td>\n",
              "      <td>35.922118</td>\n",
              "    </tr>\n",
              "    <tr>\n",
              "      <th>218</th>\n",
              "      <td>경상남도</td>\n",
              "      <td>양산시</td>\n",
              "      <td>37</td>\n",
              "      <td>72.016781</td>\n",
              "      <td>35.016781</td>\n",
              "    </tr>\n",
              "    <tr>\n",
              "      <th>208</th>\n",
              "      <td>경상북도</td>\n",
              "      <td>포항시</td>\n",
              "      <td>148</td>\n",
              "      <td>181.350746</td>\n",
              "      <td>33.350746</td>\n",
              "    </tr>\n",
              "    <tr>\n",
              "      <th>40</th>\n",
              "      <td>부산광역시</td>\n",
              "      <td>해운대구</td>\n",
              "      <td>93</td>\n",
              "      <td>125.622620</td>\n",
              "      <td>32.622620</td>\n",
              "    </tr>\n",
              "    <tr>\n",
              "      <th>60</th>\n",
              "      <td>광주광역시</td>\n",
              "      <td>남구</td>\n",
              "      <td>73</td>\n",
              "      <td>99.769169</td>\n",
              "      <td>26.769169</td>\n",
              "    </tr>\n",
              "    <tr>\n",
              "      <th>27</th>\n",
              "      <td>부산광역시</td>\n",
              "      <td>기장군</td>\n",
              "      <td>54</td>\n",
              "      <td>79.505257</td>\n",
              "      <td>25.505257</td>\n",
              "    </tr>\n",
              "    <tr>\n",
              "      <th>31</th>\n",
              "      <td>부산광역시</td>\n",
              "      <td>부산진구</td>\n",
              "      <td>81</td>\n",
              "      <td>106.416932</td>\n",
              "      <td>25.416932</td>\n",
              "    </tr>\n",
              "    <tr>\n",
              "      <th>186</th>\n",
              "      <td>경상북도</td>\n",
              "      <td>경산시</td>\n",
              "      <td>66</td>\n",
              "      <td>89.670426</td>\n",
              "      <td>23.670426</td>\n",
              "    </tr>\n",
              "  </tbody>\n",
              "</table>\n",
              "</div>"
            ],
            "text/plain": [
              "    시군구별(1) 시군구별(2)  돌봄시설합계         예측값        차이값\n",
              "51    인천광역시    미추홀구     102  173.970132  71.970132\n",
              "214    경상남도     창원시     111  181.541345  70.541345\n",
              "47    대구광역시     수성구      79  138.800390  59.800390\n",
              "95      경기도     성남시     198  247.163089  49.163089\n",
              "212    경상남도     김해시     153  198.354644  45.354644\n",
              "58    인천광역시      중구      10   53.544699  43.544699\n",
              "41    대구광역시      남구      34   76.443746  42.443746\n",
              "54    인천광역시     부평구     125  165.990727  40.990727\n",
              "55    인천광역시      서구     140  178.657168  38.657168\n",
              "42    대구광역시     달서구     151  188.350926  37.350926\n",
              "2     서울특별시     강북구      66  102.789923  36.789923\n",
              "34    부산광역시     사하구      71  107.227165  36.227165\n",
              "87      경기도    의정부시     118  153.922118  35.922118\n",
              "218    경상남도     양산시      37   72.016781  35.016781\n",
              "208    경상북도     포항시     148  181.350746  33.350746\n",
              "40    부산광역시    해운대구      93  125.622620  32.622620\n",
              "60    광주광역시      남구      73   99.769169  26.769169\n",
              "27    부산광역시     기장군      54   79.505257  25.505257\n",
              "31    부산광역시    부산진구      81  106.416932  25.416932\n",
              "186    경상북도     경산시      66   89.670426  23.670426"
            ]
          },
          "metadata": {
            "tags": []
          },
          "execution_count": 75
        }
      ]
    },
    {
      "cell_type": "code",
      "metadata": {
        "id": "N8j4KTcCz8tR",
        "colab_type": "code",
        "colab": {
          "base_uri": "https://localhost:8080/",
          "height": 346
        },
        "outputId": "2efa3f95-fec5-4cc2-b36a-16371208edea"
      },
      "source": [
        "df[df['시군구별(2)'] == '미추홀구']"
      ],
      "execution_count": 79,
      "outputs": [
        {
          "output_type": "execute_result",
          "data": {
            "text/html": [
              "<div>\n",
              "<style scoped>\n",
              "    .dataframe tbody tr th:only-of-type {\n",
              "        vertical-align: middle;\n",
              "    }\n",
              "\n",
              "    .dataframe tbody tr th {\n",
              "        vertical-align: top;\n",
              "    }\n",
              "\n",
              "    .dataframe thead th {\n",
              "        text-align: right;\n",
              "    }\n",
              "</style>\n",
              "<table border=\"1\" class=\"dataframe\">\n",
              "  <thead>\n",
              "    <tr style=\"text-align: right;\">\n",
              "      <th></th>\n",
              "      <th>시군구별(1)</th>\n",
              "      <th>시군구별(2)</th>\n",
              "      <th>시도코드</th>\n",
              "      <th>시군구코드</th>\n",
              "      <th>초등돌봄교실</th>\n",
              "      <th>지역아동센터</th>\n",
              "      <th>다함께돌봄센터</th>\n",
              "      <th>청소년방과후아카데미</th>\n",
              "      <th>비만지수</th>\n",
              "      <th>음주율</th>\n",
              "      <th>학생수</th>\n",
              "      <th>교육경비보조금</th>\n",
              "      <th>도서관수</th>\n",
              "      <th>한부모가구수</th>\n",
              "      <th>학생수대비초등돌봄교실수</th>\n",
              "      <th>학생수대비지역아동센터수</th>\n",
              "      <th>학생수대비다함께돌봄센터수</th>\n",
              "      <th>학생수대비청소년방과후아카데미수</th>\n",
              "      <th>돌봄시설합계</th>\n",
              "      <th>예측값</th>\n",
              "      <th>차이값</th>\n",
              "    </tr>\n",
              "  </thead>\n",
              "  <tbody>\n",
              "    <tr>\n",
              "      <th>51</th>\n",
              "      <td>인천광역시</td>\n",
              "      <td>미추홀구</td>\n",
              "      <td>28</td>\n",
              "      <td>177.0</td>\n",
              "      <td>87</td>\n",
              "      <td>15</td>\n",
              "      <td>0</td>\n",
              "      <td>0</td>\n",
              "      <td>20.269388</td>\n",
              "      <td>62.6</td>\n",
              "      <td>29286</td>\n",
              "      <td>3.421005e+09</td>\n",
              "      <td>25</td>\n",
              "      <td>2310</td>\n",
              "      <td>0.002971</td>\n",
              "      <td>0.000512</td>\n",
              "      <td>0.0</td>\n",
              "      <td>0.0</td>\n",
              "      <td>102</td>\n",
              "      <td>173.970132</td>\n",
              "      <td>71.970132</td>\n",
              "    </tr>\n",
              "  </tbody>\n",
              "</table>\n",
              "</div>"
            ],
            "text/plain": [
              "   시군구별(1) 시군구별(2)  시도코드  ...  돌봄시설합계         예측값        차이값\n",
              "51   인천광역시    미추홀구    28  ...     102  173.970132  71.970132\n",
              "\n",
              "[1 rows x 21 columns]"
            ]
          },
          "metadata": {
            "tags": []
          },
          "execution_count": 79
        }
      ]
    },
    {
      "cell_type": "markdown",
      "metadata": {
        "id": "VhmUxrPJrkJ2",
        "colab_type": "text"
      },
      "source": [
        "[인천 '라면 형제' 비극](https://news.joins.com/article/23874431) (출처 : 중앙일보)\n",
        "\n",
        "실제 돌봄시설이 가장 부족한 지역인 **인천 미추홀구**는 최근 라면화재로 전국민을 가슴아프게한, 온몸에 화상을 입고 여전히 의식이 불분명한 형제들이 사는 곳이다. 현재 인천의 경우 이 사건을 계기로 대대적인 돌봄서비스에 대한 전수조사가 이루어 지고 있다. \n"
      ]
    },
    {
      "cell_type": "markdown",
      "metadata": {
        "id": "leoNCgvdP8yw",
        "colab_type": "text"
      },
      "source": [
        "### 돌봄시설 공급과잉 지역 Top20"
      ]
    },
    {
      "cell_type": "code",
      "metadata": {
        "id": "Sgcmu6t0P2_c",
        "colab_type": "code",
        "colab": {
          "base_uri": "https://localhost:8080/",
          "height": 639
        },
        "outputId": "44eabcc9-7e8f-4fa3-9a93-6d730be55d57"
      },
      "source": [
        "df_main.sort_values(by='차이값', ascending=True).head(20)"
      ],
      "execution_count": 80,
      "outputs": [
        {
          "output_type": "execute_result",
          "data": {
            "text/html": [
              "<div>\n",
              "<style scoped>\n",
              "    .dataframe tbody tr th:only-of-type {\n",
              "        vertical-align: middle;\n",
              "    }\n",
              "\n",
              "    .dataframe tbody tr th {\n",
              "        vertical-align: top;\n",
              "    }\n",
              "\n",
              "    .dataframe thead th {\n",
              "        text-align: right;\n",
              "    }\n",
              "</style>\n",
              "<table border=\"1\" class=\"dataframe\">\n",
              "  <thead>\n",
              "    <tr style=\"text-align: right;\">\n",
              "      <th></th>\n",
              "      <th>시군구별(1)</th>\n",
              "      <th>시군구별(2)</th>\n",
              "      <th>돌봄시설합계</th>\n",
              "      <th>예측값</th>\n",
              "      <th>차이값</th>\n",
              "    </tr>\n",
              "  </thead>\n",
              "  <tbody>\n",
              "    <tr>\n",
              "      <th>74</th>\n",
              "      <td>세종특별자치시</td>\n",
              "      <td>세종시</td>\n",
              "      <td>193</td>\n",
              "      <td>109.032870</td>\n",
              "      <td>-83.967130</td>\n",
              "    </tr>\n",
              "    <tr>\n",
              "      <th>221</th>\n",
              "      <td>경상남도</td>\n",
              "      <td>창녕군</td>\n",
              "      <td>235</td>\n",
              "      <td>165.306376</td>\n",
              "      <td>-69.693624</td>\n",
              "    </tr>\n",
              "    <tr>\n",
              "      <th>57</th>\n",
              "      <td>인천광역시</td>\n",
              "      <td>옹진군</td>\n",
              "      <td>88</td>\n",
              "      <td>24.033474</td>\n",
              "      <td>-63.966526</td>\n",
              "    </tr>\n",
              "    <tr>\n",
              "      <th>83</th>\n",
              "      <td>경기도</td>\n",
              "      <td>양주시</td>\n",
              "      <td>157</td>\n",
              "      <td>95.580665</td>\n",
              "      <td>-61.419335</td>\n",
              "    </tr>\n",
              "    <tr>\n",
              "      <th>62</th>\n",
              "      <td>광주광역시</td>\n",
              "      <td>북구</td>\n",
              "      <td>213</td>\n",
              "      <td>156.054305</td>\n",
              "      <td>-56.945695</td>\n",
              "    </tr>\n",
              "    <tr>\n",
              "      <th>174</th>\n",
              "      <td>전라남도</td>\n",
              "      <td>순천시</td>\n",
              "      <td>141</td>\n",
              "      <td>95.230050</td>\n",
              "      <td>-45.769950</td>\n",
              "    </tr>\n",
              "    <tr>\n",
              "      <th>105</th>\n",
              "      <td>경기도</td>\n",
              "      <td>화성시</td>\n",
              "      <td>276</td>\n",
              "      <td>230.311953</td>\n",
              "      <td>-45.688047</td>\n",
              "    </tr>\n",
              "    <tr>\n",
              "      <th>161</th>\n",
              "      <td>전라북도</td>\n",
              "      <td>전주시</td>\n",
              "      <td>283</td>\n",
              "      <td>243.213735</td>\n",
              "      <td>-39.786265</td>\n",
              "    </tr>\n",
              "    <tr>\n",
              "      <th>19</th>\n",
              "      <td>서울특별시</td>\n",
              "      <td>영등포구</td>\n",
              "      <td>103</td>\n",
              "      <td>64.669111</td>\n",
              "      <td>-38.330889</td>\n",
              "    </tr>\n",
              "    <tr>\n",
              "      <th>153</th>\n",
              "      <td>전라북도</td>\n",
              "      <td>남원시</td>\n",
              "      <td>81</td>\n",
              "      <td>43.006048</td>\n",
              "      <td>-37.993952</td>\n",
              "    </tr>\n",
              "    <tr>\n",
              "      <th>56</th>\n",
              "      <td>인천광역시</td>\n",
              "      <td>연수구</td>\n",
              "      <td>152</td>\n",
              "      <td>114.231426</td>\n",
              "      <td>-37.768574</td>\n",
              "    </tr>\n",
              "    <tr>\n",
              "      <th>158</th>\n",
              "      <td>전라북도</td>\n",
              "      <td>익산시</td>\n",
              "      <td>163</td>\n",
              "      <td>126.548517</td>\n",
              "      <td>-36.451483</td>\n",
              "    </tr>\n",
              "    <tr>\n",
              "      <th>99</th>\n",
              "      <td>경기도</td>\n",
              "      <td>안성시</td>\n",
              "      <td>103</td>\n",
              "      <td>66.859874</td>\n",
              "      <td>-36.140126</td>\n",
              "    </tr>\n",
              "    <tr>\n",
              "      <th>227</th>\n",
              "      <td>제주특별자치도</td>\n",
              "      <td>제주</td>\n",
              "      <td>293</td>\n",
              "      <td>257.077718</td>\n",
              "      <td>-35.922282</td>\n",
              "    </tr>\n",
              "    <tr>\n",
              "      <th>6</th>\n",
              "      <td>서울특별시</td>\n",
              "      <td>구로구</td>\n",
              "      <td>140</td>\n",
              "      <td>104.873579</td>\n",
              "      <td>-35.126421</td>\n",
              "    </tr>\n",
              "    <tr>\n",
              "      <th>17</th>\n",
              "      <td>서울특별시</td>\n",
              "      <td>송파구</td>\n",
              "      <td>172</td>\n",
              "      <td>138.553930</td>\n",
              "      <td>-33.446070</td>\n",
              "    </tr>\n",
              "    <tr>\n",
              "      <th>67</th>\n",
              "      <td>대전광역시</td>\n",
              "      <td>유성구</td>\n",
              "      <td>136</td>\n",
              "      <td>102.930919</td>\n",
              "      <td>-33.069081</td>\n",
              "    </tr>\n",
              "    <tr>\n",
              "      <th>15</th>\n",
              "      <td>서울특별시</td>\n",
              "      <td>성동구</td>\n",
              "      <td>98</td>\n",
              "      <td>66.893206</td>\n",
              "      <td>-31.106794</td>\n",
              "    </tr>\n",
              "    <tr>\n",
              "      <th>89</th>\n",
              "      <td>경기도</td>\n",
              "      <td>파주시</td>\n",
              "      <td>199</td>\n",
              "      <td>168.705721</td>\n",
              "      <td>-30.294279</td>\n",
              "    </tr>\n",
              "    <tr>\n",
              "      <th>133</th>\n",
              "      <td>충청북도</td>\n",
              "      <td>청주시</td>\n",
              "      <td>289</td>\n",
              "      <td>259.136091</td>\n",
              "      <td>-29.863909</td>\n",
              "    </tr>\n",
              "  </tbody>\n",
              "</table>\n",
              "</div>"
            ],
            "text/plain": [
              "     시군구별(1) 시군구별(2)  돌봄시설합계         예측값        차이값\n",
              "74   세종특별자치시     세종시     193  109.032870 -83.967130\n",
              "221     경상남도     창녕군     235  165.306376 -69.693624\n",
              "57     인천광역시     옹진군      88   24.033474 -63.966526\n",
              "83       경기도     양주시     157   95.580665 -61.419335\n",
              "62     광주광역시      북구     213  156.054305 -56.945695\n",
              "174     전라남도     순천시     141   95.230050 -45.769950\n",
              "105      경기도     화성시     276  230.311953 -45.688047\n",
              "161     전라북도     전주시     283  243.213735 -39.786265\n",
              "19     서울특별시    영등포구     103   64.669111 -38.330889\n",
              "153     전라북도     남원시      81   43.006048 -37.993952\n",
              "56     인천광역시     연수구     152  114.231426 -37.768574\n",
              "158     전라북도     익산시     163  126.548517 -36.451483\n",
              "99       경기도     안성시     103   66.859874 -36.140126\n",
              "227  제주특별자치도      제주     293  257.077718 -35.922282\n",
              "6      서울특별시     구로구     140  104.873579 -35.126421\n",
              "17     서울특별시     송파구     172  138.553930 -33.446070\n",
              "67     대전광역시     유성구     136  102.930919 -33.069081\n",
              "15     서울특별시     성동구      98   66.893206 -31.106794\n",
              "89       경기도     파주시     199  168.705721 -30.294279\n",
              "133     충청북도     청주시     289  259.136091 -29.863909"
            ]
          },
          "metadata": {
            "tags": []
          },
          "execution_count": 80
        }
      ]
    },
    {
      "cell_type": "code",
      "metadata": {
        "id": "2S4Rvl0fw9SV",
        "colab_type": "code",
        "colab": {
          "base_uri": "https://localhost:8080/",
          "height": 526
        },
        "outputId": "4c627c23-89e5-402a-f598-b54a57089d03"
      },
      "source": [
        "plt.figure(figsize=(16, 6))\n",
        "sns.barplot(x=df.groupby('시군구별(1)')['차이값'].sum().index, y=df.groupby('시군구별(1)')['차이값'].sum())\n",
        "plt.title('지역별 돌봄수요')\n",
        "plt.xticks(rotation=90)\n",
        "plt.show()"
      ],
      "execution_count": 81,
      "outputs": [
        {
          "output_type": "stream",
          "text": [
            "/usr/local/lib/python3.6/dist-packages/matplotlib/backends/backend_agg.py:214: RuntimeWarning: Glyph 8722 missing from current font.\n",
            "  font.set_text(s, 0.0, flags=flags)\n",
            "/usr/local/lib/python3.6/dist-packages/matplotlib/backends/backend_agg.py:183: RuntimeWarning: Glyph 8722 missing from current font.\n",
            "  font.set_text(s, 0, flags=flags)\n"
          ],
          "name": "stderr"
        },
        {
          "output_type": "display_data",
          "data": {
            "image/png": "[encoded data removed]",
            "text/plain": [
              "<Figure size 1152x432 with 1 Axes>"
            ]
          },
          "metadata": {
            "tags": [],
            "needs_background": "light"
          }
        }
      ]
    },
    {
      "cell_type": "code",
      "metadata": {
        "id": "OuJhKJnCxStT",
        "colab_type": "code",
        "colab": {
          "base_uri": "https://localhost:8080/",
          "height": 499
        },
        "outputId": "1e9f2c7d-859a-4d24-e9fe-e14e974e444b"
      },
      "source": [
        "plt.figure(figsize=(16, 6))\n",
        "sns.barplot(x=df.groupby('시군구별(2)')['차이값'].sum().index, y=df.groupby('시군구별(2)')['차이값'].sum())\n",
        "plt.title('행정구별 돌봄수요')\n",
        "plt.xticks(rotation=90)\n",
        "plt.show()"
      ],
      "execution_count": 82,
      "outputs": [
        {
          "output_type": "stream",
          "text": [
            "/usr/local/lib/python3.6/dist-packages/matplotlib/backends/backend_agg.py:214: RuntimeWarning: Glyph 8722 missing from current font.\n",
            "  font.set_text(s, 0.0, flags=flags)\n",
            "/usr/local/lib/python3.6/dist-packages/matplotlib/backends/backend_agg.py:183: RuntimeWarning: Glyph 8722 missing from current font.\n",
            "  font.set_text(s, 0, flags=flags)\n"
          ],
          "name": "stderr"
        },
        {
          "output_type": "display_data",
          "data": {
            "image/png": "[encoded data removed]",
            "text/plain": [
              "<Figure size 1152x432 with 1 Axes>"
            ]
          },
          "metadata": {
            "tags": [],
            "needs_background": "light"
          }
        }
      ]
    },
    {
      "cell_type": "code",
      "metadata": {
        "id": "LE9-gEvvRiA9",
        "colab_type": "code",
        "colab": {}
      },
      "source": [
        "df.to_excel('df.xlsx')"
      ],
      "execution_count": null,
      "outputs": []
    },
    {
      "cell_type": "code",
      "metadata": {
        "id": "up1716qdHcJQ",
        "colab_type": "code",
        "colab": {}
      },
      "source": [
        "df_main.to_excel('df_main.xlsx')"
      ],
      "execution_count": null,
      "outputs": []
    },
    {
      "cell_type": "markdown",
      "metadata": {
        "id": "yYaAAg6oJgo5",
        "colab_type": "text"
      },
      "source": [
        "## 최종 : 웹서비스 구현(프로토타입)"
      ]
    },
    {
      "cell_type": "markdown",
      "metadata": {
        "id": "wcLu7CN2pq7L",
        "colab_type": "text"
      },
      "source": [
        "현재 학교돌봄과 마을돌봄에 대한 공시정보를 **한꺼번에 확인이 가능한 서비스**가 존재하지 않는다. **지자체별 마을 돌봄과 학교돌봄에 대한 통합적인 현황을 보여주고 모델링한 결과를 통해 지자체별 필요한 돌봄수요까지 시각화해 나타낼수 있는 서비스**를 구현한다. "
      ]
    },
    {
      "cell_type": "markdown",
      "metadata": {
        "id": "w39qSVvLJuni",
        "colab_type": "text"
      },
      "source": [
        "최종적으로 구현할 웹서비스에 앞서 구글 데이터 스튜디오(https://datastudio.google.com/) 를 활용하여 구상한 서비스에 대한 프로토타입을 제작해보고 아이디어에 대한 실현가능성 및 개선사항에 대해 검토해본다."
      ]
    },
    {
      "cell_type": "markdown",
      "metadata": {
        "id": "wCKzZ79wHgkW",
        "colab_type": "text"
      },
      "source": [
        "[서비스명 : 온종일돌봄24](https://datastudio.google.com/reporting/673c2e63-a815-4720-9ec6-5ec301d04a5a)"
      ]
    }
  ]
}