{
  "nbformat": 4,
  "nbformat_minor": 0,
  "metadata": {
    "colab": {
      "name": "education.ipynb",
      "provenance": [],
      "collapsed_sections": [
        "625Br7ojS74s",
        "eefwIwQBFTxF",
        "1eftzaWXfzSZ",
        "WWkcPnKotbQA",
        "lwVXCyJIuJao",
        "li5BbJgYCvHn",
        "4_UTU5qbGPCj",
        "OJMygeHTSm92"
      ],
      "toc_visible": true,
      "authorship_tag": "ABX9TyPEu9SiYITDP9pSzCPo92pF",
      "include_colab_link": true
    },
    "kernelspec": {
      "name": "python3",
      "display_name": "Python 3"
    }
  },
  "cells": [
    {
      "cell_type": "markdown",
      "metadata": {
        "id": "view-in-github",
        "colab_type": "text"
      },
      "source": [
        "<a href=\"https://colab.research.google.com/github/rlaehgns420/Datalab/blob/master/education.ipynb\" target=\"_parent\"><img src=\"https://colab.research.google.com/assets/colab-badge.svg\" alt=\"Open In Colab\"/></a>"
      ]
    },
    {
      "cell_type": "markdown",
      "metadata": {
        "id": "625Br7ojS74s",
        "colab_type": "text"
      },
      "source": [
        "##분석목적"
      ]
    },
    {
      "cell_type": "markdown",
      "metadata": {
        "id": "8A0r8FRUS_P0",
        "colab_type": "text"
      },
      "source": [
        "지역별 수요분석과 예측을 통한 돌봄센터수 우선 배치 지역 선정"
      ]
    },
    {
      "cell_type": "markdown",
      "metadata": {
        "id": "eefwIwQBFTxF",
        "colab_type": "text"
      },
      "source": [
        "##R 연동하기"
      ]
    },
    {
      "cell_type": "code",
      "metadata": {
        "id": "gONJ2Xa7eQZm",
        "colab_type": "code",
        "colab": {
          "base_uri": "https://localhost:8080/",
          "height": 107
        },
        "outputId": "5510114a-729e-43d2-ac06-ac2f165ffdbc"
      },
      "source": [
        "# activate R magic\n",
        "%load_ext rpy2.ipython"
      ],
      "execution_count": 1,
      "outputs": [
        {
          "output_type": "stream",
          "text": [
            "/usr/local/lib/python3.6/dist-packages/rpy2/robjects/pandas2ri.py:14: FutureWarning: pandas.core.index is deprecated and will be removed in a future version.  The public classes are available in the top-level namespace.\n",
            "  from pandas.core.index import Index as PandasIndex\n",
            "/usr/local/lib/python3.6/dist-packages/rpy2/robjects/pandas2ri.py:34: UserWarning: pandas >= 1.0 is not supported.\n",
            "  warnings.warn('pandas >= 1.0 is not supported.')\n"
          ],
          "name": "stderr"
        }
      ]
    },
    {
      "cell_type": "markdown",
      "metadata": {
        "id": "1eftzaWXfzSZ",
        "colab_type": "text"
      },
      "source": [
        "## 패키지 불러오기 "
      ]
    },
    {
      "cell_type": "code",
      "metadata": {
        "id": "EALuDV4Sf4Zi",
        "colab_type": "code",
        "colab": {}
      },
      "source": [
        "%%R\n",
        "install.packages(\"readxl\")"
      ],
      "execution_count": null,
      "outputs": []
    },
    {
      "cell_type": "code",
      "metadata": {
        "id": "8VR4TisPmZ2F",
        "colab_type": "code",
        "colab": {}
      },
      "source": [
        "%%R\n",
        "install.packages(\"car\")\n",
        "install.packages(\"dplyr\")\n",
        "install.packages(\"MASS\")\n",
        "install.packages(\"leaps\")\n",
        "install.packages(\"corrgram\")\n",
        "install.packages(\"RColorBrewer\")\n",
        "install.packages(\"ggplot2\")\n",
        "install.packages(\"ggmap\")"
      ],
      "execution_count": null,
      "outputs": []
    },
    {
      "cell_type": "code",
      "metadata": {
        "id": "gOEOF9aFtk8I",
        "colab_type": "code",
        "colab": {}
      },
      "source": [
        "%%R\n",
        "library(readxl)"
      ],
      "execution_count": null,
      "outputs": []
    },
    {
      "cell_type": "code",
      "metadata": {
        "id": "_B-9MsRetkv6",
        "colab_type": "code",
        "colab": {
          "base_uri": "https://localhost:8080/",
          "height": 686
        },
        "outputId": "8f7cda26-87f4-4e82-919f-0868038fcd01"
      },
      "source": [
        "%%R\n",
        "library(car)\n",
        "library(dplyr)\n",
        "library(MASS)\n",
        "library(leaps)\n",
        "library(corrgram)\n",
        "library(RColorBrewer)\n",
        "library(ggplot2)\n",
        "library(ggmap)"
      ],
      "execution_count": 58,
      "outputs": [
        {
          "output_type": "stream",
          "text": [
            "R[write to console]: Loading required package: carData\n",
            "\n",
            "R[write to console]: \n",
            "Attaching package: ‘dplyr’\n",
            "\n",
            "\n",
            "R[write to console]: The following object is masked from ‘package:car’:\n",
            "\n",
            "    recode\n",
            "\n",
            "\n",
            "R[write to console]: The following objects are masked from ‘package:stats’:\n",
            "\n",
            "    filter, lag\n",
            "\n",
            "\n",
            "R[write to console]: The following objects are masked from ‘package:base’:\n",
            "\n",
            "    intersect, setdiff, setequal, union\n",
            "\n",
            "\n",
            "R[write to console]: \n",
            "Attaching package: ‘MASS’\n",
            "\n",
            "\n",
            "R[write to console]: The following object is masked from ‘package:dplyr’:\n",
            "\n",
            "    select\n",
            "\n",
            "\n",
            "R[write to console]: Registered S3 method overwritten by 'seriation':\n",
            "  method         from \n",
            "  reorder.hclust gclus\n",
            "\n",
            "R[write to console]: Google's Terms of Service: https://cloud.google.com/maps-platform/terms/.\n",
            "\n",
            "R[write to console]: Please cite ggmap if you use it! See citation(\"ggmap\") for details.\n",
            "\n"
          ],
          "name": "stderr"
        }
      ]
    },
    {
      "cell_type": "markdown",
      "metadata": {
        "id": "WWkcPnKotbQA",
        "colab_type": "text"
      },
      "source": [
        "## 파일 불러오기"
      ]
    },
    {
      "cell_type": "code",
      "metadata": {
        "id": "mGFhEOD46a2a",
        "colab_type": "code",
        "colab": {
          "base_uri": "https://localhost:8080/",
          "height": 34
        },
        "outputId": "4c240620-e224-4799-f487-804d9a76bbfe"
      },
      "source": [
        "#서울_학교돌봄현황.xlsx\n",
        "%%R\n",
        "seoul_total_raw              <- read_xlsx(file.choose())\n",
        "head(seoul_total_raw)"
      ],
      "execution_count": 96,
      "outputs": [
        {
          "output_type": "stream",
          "text": [
            "Enter file name:서울_학교돌봄현황.xlsx\n"
          ],
          "name": "stdout"
        }
      ]
    },
    {
      "cell_type": "code",
      "metadata": {
        "id": "wdq921cqkbZz",
        "colab_type": "code",
        "colab": {
          "base_uri": "https://localhost:8080/",
          "height": 34
        },
        "outputId": "31cf08a8-6d6c-4980-d7ef-c6cedea7647c"
      },
      "source": [
        "#서울_마을돌봄현황.xlsx\n",
        "%%R\n",
        "seoul_vil_dolbom_raw         <- read_xlsx(file.choose())\n",
        "head(seoul_vil_dolbom_raw)"
      ],
      "execution_count": 97,
      "outputs": [
        {
          "output_type": "stream",
          "text": [
            "Enter file name:서울_마을돌봄현황.xlsx\n"
          ],
          "name": "stdout"
        }
      ]
    },
    {
      "cell_type": "code",
      "metadata": {
        "id": "kKjq6be-kb_T",
        "colab_type": "code",
        "colab": {
          "base_uri": "https://localhost:8080/",
          "height": 175
        },
        "outputId": "6a4ad7d6-e34a-4661-9f65-cf24661b4c95"
      },
      "source": [
        "#학생체력증진현황.xlsx\n",
        "%%R\n",
        "bmi_raw                      <- read_xlsx(file.choose())  \n",
        "head(bmi_raw)"
      ],
      "execution_count": 98,
      "outputs": [
        {
          "output_type": "stream",
          "text": [
            "Enter file name:학생체력증진현황.xlsx\n"
          ],
          "name": "stdout"
        },
        {
          "output_type": "stream",
          "text": [
            "R[write to console]: New names:\n",
            "* 인원 -> 인원...24\n",
            "* `%` -> `%...25`\n",
            "* 인원 -> 인원...26\n",
            "* `%` -> `%...27`\n",
            "* 인원 -> 인원...28\n",
            "* ...\n",
            "\n"
          ],
          "name": "stderr"
        }
      ]
    },
    {
      "cell_type": "code",
      "metadata": {
        "id": "jJXWUQ3ikcth",
        "colab_type": "code",
        "colab": {
          "base_uri": "https://localhost:8080/",
          "height": 404
        },
        "outputId": "9a0aba54-9a31-4aa4-fd32-e54acd3eb066"
      },
      "source": [
        "#서울_저소득및한부모가구수.txt\n",
        "%%R\n",
        "hanbumo_base_raw             <- read.table(file.choose(), sep='\\t', header=T)\n",
        "head(hanbumo_base_raw)"
      ],
      "execution_count": 94,
      "outputs": [
        {
          "output_type": "stream",
          "text": [
            "Enter file name:서울_저소득및한부모가구수.txt\n",
            "  구군별.1. 합계_가구수..가구. 합계_가구원수..명.\n",
            "1      합계             34,824             81,703\n",
            "2    강남구              1,058              2,563\n",
            "3    강동구              1,354              3,235\n",
            "4    강북구              2,161              5,087\n",
            "5    강서구              2,356              5,595\n",
            "6    관악구              1,573              3,687\n",
            "  국민기초생활보장법_가구수..가구. 국민기초생활보장법_가구원수..명.\n",
            "1                           25,234                           48,949\n",
            "2                              804                            1,691\n",
            "3                              947                            1,888\n",
            "4                            1,610                            3,140\n",
            "5                            1,556                            3,062\n",
            "6                            1,065                            2,090\n",
            "  한부모가족지원법_가구수..가구. 한부모가족지원법_가구원수..명.\n",
            "1                          9,590                         32,754\n",
            "2                            254                            872\n",
            "3                            407                          1,347\n",
            "4                            551                          1,947\n",
            "5                            800                          2,533\n",
            "6                            508                          1,597\n"
          ],
          "name": "stdout"
        }
      ]
    },
    {
      "cell_type": "code",
      "metadata": {
        "id": "1KilF7MVkdAr",
        "colab_type": "code",
        "colab": {
          "base_uri": "https://localhost:8080/",
          "height": 439
        },
        "outputId": "73780a69-70ab-4482-93d4-e4abc3e9cb26"
      },
      "source": [
        "#행정구역별주요교육통계자료.xlsx\n",
        "%%R\n",
        "students_raw                 <- read_xlsx(file.choose())\n",
        "head(students_raw) "
      ],
      "execution_count": 86,
      "outputs": [
        {
          "output_type": "stream",
          "text": [
            "Enter file name:행정구역별주요교육통계자료.xlsx\n"
          ],
          "name": "stdout"
        },
        {
          "output_type": "stream",
          "text": [
            "R[write to console]: New names:\n",
            "* `` -> ...1\n",
            "* `` -> ...2\n",
            "* `` -> ...4\n",
            "* `` -> ...5\n",
            "* `` -> ...6\n",
            "* ...\n",
            "\n"
          ],
          "name": "stderr"
        },
        {
          "output_type": "stream",
          "text": [
            "# A tibble: 6 x 37\n",
            "  ...1  ...2  `행정구역별 주요 교육통계`… ...4  ...5  ...6  ...7  ...8  ...9  ...10 ...11\n",
            "  <chr> <chr> <chr>            <chr> <chr> <chr> <chr> <chr> <chr> <chr> <chr>\n",
            "1 <NA>  <NA>  <NA>             <NA>  <NA>  <NA>  <NA>  <NA>  <NA>  <NA>  <NA> \n",
            "2 조사기준… 시도  행정구역         학제  학교수… 학급수… <NA>  <NA>  <NA>  <NA>  <NA> \n",
            "3 <NA>  <NA>  <NA>             <NA>  <NA>  학급수계… 1학년 2학년 3학년 4학년 5학년\n",
            "4 <NA>  <NA>  <NA>             <NA>  <NA>  <NA>  <NA>  <NA>  <NA>  <NA>  <NA> \n",
            "5 2019… 서울  종로구           유치원… 17    66    0     0     0     0     0    \n",
            "6 2019… 서울  종로구           초등학교… 13    274   45    42    45    42    48   \n",
            "# … with 26 more variables: ...12 <chr>, ...13 <chr>, ...14 <chr>, ...15 <chr>,\n",
            "#   ...16 <chr>, ...17 <chr>, ...18 <chr>, ...19 <chr>, ...20 <chr>,\n",
            "#   ...21 <chr>, ...22 <chr>, ...23 <chr>, ...24 <chr>, ...25 <chr>,\n",
            "#   ...26 <chr>, ...27 <chr>, ...28 <chr>, ...29 <chr>, ...30 <chr>,\n",
            "#   ...31 <chr>, ...32 <chr>, ...33 <chr>, ...34 <chr>, ...35 <chr>,\n",
            "#   ...36 <chr>, ...37 <chr>\n"
          ],
          "name": "stdout"
        }
      ]
    },
    {
      "cell_type": "code",
      "metadata": {
        "id": "yj3-9qPGkceJ",
        "colab_type": "code",
        "colab": {
          "base_uri": "https://localhost:8080/",
          "height": 281
        },
        "outputId": "cd50eee0-2401-4542-daa9-ca40820f56fc"
      },
      "source": [
        "#서울_지역내총생산.txt\n",
        "%%R\n",
        "seoul_gross_raw              <- read.table(file.choose(), sep='\\t', header=T) \n",
        "head(seoul_gross_raw)"
      ],
      "execution_count": 112,
      "outputs": [
        {
          "output_type": "stream",
          "text": [
            "Enter file name:서울_지역내총생산.txt\n",
            "  기간 자치구 지역내총생산.당해년가격. 구성비 지역내총생산.2010년.기준년가격.\n",
            "1 2016 서울시                359439923  100.0                       332472757\n",
            "2 2016 종로구                 28036775    7.8                        27233729\n",
            "3 2016   중구                 48654807   13.5                        50123305\n",
            "4 2016 용산구                 10308398    2.9                         9057554\n",
            "5 2016 성동구                 10503045    2.9                         9272615\n",
            "6 2016 광진구                  5970256    1.7                         5259460\n",
            "  전년대비.증감률\n",
            "1             2.7\n",
            "2            -0.2\n",
            "3             0.8\n",
            "4             2.0\n",
            "5             6.4\n",
            "6             4.6\n"
          ],
          "name": "stdout"
        }
      ]
    },
    {
      "cell_type": "code",
      "metadata": {
        "id": "iBB6567Zkby5",
        "colab_type": "code",
        "colab": {
          "base_uri": "https://localhost:8080/",
          "height": 334
        },
        "outputId": "c2c0c63d-90f5-4551-d34b-2d119ffb1abc"
      },
      "source": [
        "#시도별행정구별사설학원현황.xlsx\n",
        "%%R\n",
        "academy_raw                  <- read_xlsx(file.choose())\n",
        "head(academy_raw)"
      ],
      "execution_count": 83,
      "outputs": [
        {
          "output_type": "stream",
          "text": [
            "Enter file name:시도별행정구별사설학원현황.xlsx\n"
          ],
          "name": "stdout"
        },
        {
          "output_type": "stream",
          "text": [
            "R[write to console]: New names:\n",
            "* `` -> ...1\n",
            "* `` -> ...2\n",
            "* `` -> ...4\n",
            "* `` -> ...5\n",
            "* `` -> ...6\n",
            "* ...\n",
            "\n"
          ],
          "name": "stderr"
        },
        {
          "output_type": "stream",
          "text": [
            "# A tibble: 6 x 11\n",
            "  ...1   ...2  `2019년 사설학원 현황(시… ...4  ...5  ...6  ...7  ...8  ...9  ...10 ...11\n",
            "  <chr>  <chr> <chr>             <chr> <chr> <chr> <chr> <chr> <chr> <chr> <chr>\n",
            "1 <NA>   <NA>  <NA>              <NA>  <NA>  <NA>   <NA> <NA>  <NA>  <NA>   <NA>\n",
            "2 조사기준일… <NA>  <NA>              <NA>  <NA>  <NA>   <NA> <NA>  <NA>  <NA>   <NA>\n",
            "3 조사연도… 시도  행정구역          종류  분야  학원수… \"정원\\… 강사수… 강의실수… 월평균교… \"월평균…\n",
            "4 2019   서울  종로구            학교교과… 입시검정… 63    \"232… 421   300   29    \"253…\n",
            "5 2019   서울  종로구            학교교과… 국제화… 5     \"557… 38    34    36    \"334…\n",
            "6 2019   서울  종로구            학교교과… 예능  13    \"887\" 92    1     19    \"172…\n"
          ],
          "name": "stdout"
        }
      ]
    },
    {
      "cell_type": "code",
      "metadata": {
        "id": "myxVdXFbka46",
        "colab_type": "code",
        "colab": {
          "base_uri": "https://localhost:8080/",
          "height": 228
        },
        "outputId": "76e11f46-5f59-4284-a5c5-221c65fd9378"
      },
      "source": [
        "#재정운용상황개요.xlsx\n",
        "%%R\n",
        "fin_raw                      <- read_xlsx(file.choose()) \n",
        "head(fin_raw)"
      ],
      "execution_count": 80,
      "outputs": [
        {
          "output_type": "stream",
          "text": [
            "Enter file name:재정운용상황개요.xlsx\n",
            "# A tibble: 6 x 10\n",
            "  회계연도 자치단체코드 지역명 자치단체명 재정자립도 재정자주도 `사회복지분야\\n\\n예산비율…\n",
            "  <chr>    <chr>        <chr>  <chr>           <dbl>      <dbl>            <dbl>\n",
            "1 2019     1100000      서울   서울본청         80.1       80.9             36.8\n",
            "2 2019     1111000      서울   서울종로구       53.6       69.7             36.3\n",
            "3 2019     1112000      서울   서울중구         66.0       72.2             38.4\n",
            "4 2019     1113000      서울   서울용산구       46.4       62.8             41.6\n",
            "5 2019     1114000      서울   서울성동구       39.2       61.4             47.7\n",
            "6 2019     1115000      서울   서울광진구       33.3       58.6             50.5\n",
            "# … with 3 more variables: `자체사업\\n\\n비율` <dbl>, `보조사업\\n\\n비율` <dbl>,\n",
            "#   `지방세와 \\n\\n세외수입의\\n\\n총액 중\\n\\n인건비 비율` <dbl>\n"
          ],
          "name": "stdout"
        }
      ]
    },
    {
      "cell_type": "code",
      "metadata": {
        "id": "BfuSKfJ4kawN",
        "colab_type": "code",
        "colab": {
          "base_uri": "https://localhost:8080/",
          "height": 158
        },
        "outputId": "8550092f-5e5d-4577-e15f-367702e7e25c"
      },
      "source": [
        "#서울_도서관 현황.txt\n",
        "%%R\n",
        "seoul_lib_raw                <- read.table(file.choose(), sep='\\t', header=T)\n",
        "head(seoul_lib_raw)"
      ],
      "execution_count": 107,
      "outputs": [
        {
          "output_type": "stream",
          "text": [
            "Enter file name:서울_도서관 현황.txt\n",
            "  기간 자치구  계 국립도서관 공공도서관 대학도서관 전문도서관\n",
            "1 2018   합계 526          3        173         88        262\n",
            "2 2018 종로구  50          -          7          7         36\n",
            "3 2018   중구  57          -          5          2         50\n",
            "4 2018 용산구  21          -          4          3         14\n",
            "5 2018 성동구   8          -          6          2          -\n",
            "6 2018 광진구  10          -          4          3          3\n"
          ],
          "name": "stdout"
        }
      ]
    },
    {
      "cell_type": "code",
      "metadata": {
        "id": "6f8rz8A7kp7D",
        "colab_type": "code",
        "colab": {
          "base_uri": "https://localhost:8080/",
          "height": 334
        },
        "outputId": "8a1cc6c8-1b48-43be-ce0e-9780f23cf2dd"
      },
      "source": [
        "#작은도서관현황.xls  \n",
        "%%R\n",
        "little_lib_raw               <- read_xls(file.choose()) \n",
        "head(little_lib_raw)"
      ],
      "execution_count": 105,
      "outputs": [
        {
          "output_type": "stream",
          "text": [
            "Enter file name:작은도서관현황.xls\n"
          ],
          "name": "stdout"
        },
        {
          "output_type": "stream",
          "text": [
            "R[write to console]: New names:\n",
            "* `` -> ...2\n",
            "* `` -> ...3\n",
            "* `` -> ...4\n",
            "* `` -> ...5\n",
            "* `` -> ...6\n",
            "* ...\n",
            "\n"
          ],
          "name": "stderr"
        },
        {
          "output_type": "stream",
          "text": [
            "# A tibble: 6 x 7\n",
            "  `도서관 기본정보`      ...2  ...3  ...4   ...5   ...6   ...7                  \n",
            "  <chr>                  <chr> <chr> <chr>  <chr>  <chr>  <chr>                 \n",
            "1 도서관명               구분  지역  시군구 설립주체… 개관년도… 주소                  \n",
            "2 BIBLIOTECA             작은  서울  강남구 사립   2017   서울특별시 강남구 도산대로25길 15-…\n",
            "3 Biblio Scentia         작은  서울  강남구 사립   2018   서울특별시 강남구 논현로67길 32, …\n",
            "4 Book積북적 작은도서관  작은  서울  송파구 사립   2016   서울특별시 송파구 위례광장로 270, …\n",
            "5 DMC래미안e편한세상아파트 1블럭작은도… 작은  서울  서대문구… 사립   2014   서울특별시 서대문구 수색로 100(DM…\n",
            "6 EL영어작은도서관       작은  서울  양천구 사립   2016   서울특별시 양천구 남부순환로57길 2,…\n"
          ],
          "name": "stdout"
        }
      ]
    },
    {
      "cell_type": "code",
      "metadata": {
        "id": "9ksTdJY7kqvC",
        "colab_type": "code",
        "colab": {
          "base_uri": "https://localhost:8080/",
          "height": 193
        },
        "outputId": "20087a5e-44ce-4cc9-8d75-134cac1233e4"
      },
      "source": [
        "#서울_살림규모.xlsx \n",
        "%%R\n",
        "seoul_scale_raw              <- read_xlsx(file.choose()) \n",
        "head(seoul_scale_raw)"
      ],
      "execution_count": 104,
      "outputs": [
        {
          "output_type": "stream",
          "text": [
            "Enter file name:서울_살림규모.xlsx\n",
            "# A tibble: 6 x 2\n",
            "  자치구 살림규모\n",
            "  <chr>     <dbl>\n",
            "1 강남구    16794\n",
            "2 강동구    10759\n",
            "3 강북구     8538\n",
            "4 강서구    11862\n",
            "5 관악구     9055\n",
            "6 광진구     7986\n"
          ],
          "name": "stdout"
        }
      ]
    },
    {
      "cell_type": "code",
      "metadata": {
        "id": "2LrqBbt_kq9L",
        "colab_type": "code",
        "colab": {
          "base_uri": "https://localhost:8080/",
          "height": 193
        },
        "outputId": "b6dedf1a-604f-4090-bd9b-6d5502e226d9"
      },
      "source": [
        "#교육관련지원예산현황.xlsx\n",
        "%%R\n",
        "edubud_raw                   <- read_xlsx(file.choose()) \n",
        "head(edubud_raw)"
      ],
      "execution_count": 72,
      "outputs": [
        {
          "output_type": "stream",
          "text": [
            "Enter file name:교육관련지원예산현황.xlsx\n",
            "# A tibble: 6 x 8\n",
            "  회계연도 지역명 자치단체코드 자치단체명 구분     상세코드 상세코드명    예산액\n",
            "  <chr>    <chr>  <chr>        <chr>      <chr>    <chr>    <chr>          <dbl>\n",
            "1 2019     서울   1100000      서울본청   법정부담금… 1        시도세       1.27e12\n",
            "2 2019     서울   1100000      서울본청   법정부담금… 2        담배소비세   2.54e11\n",
            "3 2019     서울   1100000      서울본청   법정부담금… 3        지방교육세   1.49e12\n",
            "4 2019     서울   1100000      서울본청   비법정부담금… 4        비법정부담금…  5.33e10\n",
            "5 2019     서울   1100000      서울본청   학교용지매입비… 5        학교용지부담금…  6.06e 9\n",
            "6 2019     서울   1100000      서울본청   학교용지매입비… 6        취등록세     0.     \n"
          ],
          "name": "stdout"
        }
      ]
    },
    {
      "cell_type": "code",
      "metadata": {
        "id": "rWRN3vfukqTE",
        "colab_type": "code",
        "colab": {
          "base_uri": "https://localhost:8080/",
          "height": 298
        },
        "outputId": "76e63649-0446-4263-ba79-8264f830af27"
      },
      "source": [
        "#서울_나라살림리포트전처리.xlsx파일\n",
        "%%R\n",
        "seoul_budget_raw             <- read_xlsx(file.choose()) \n",
        "head(seoul_budget)"
      ],
      "execution_count": 69,
      "outputs": [
        {
          "output_type": "stream",
          "text": [
            "Enter file name:서울_나라살림리포트전처리.xlsx\n"
          ],
          "name": "stdout"
        },
        {
          "output_type": "stream",
          "text": [
            "R[write to console]: New names:\n",
            "* `` -> ...2\n",
            "* `` -> ...3\n",
            "* `` -> ...4\n",
            "* `` -> ...5\n",
            "\n"
          ],
          "name": "stderr"
        },
        {
          "output_type": "stream",
          "text": [
            "# A tibble: 6 x 5\n",
            "  `[나라살림 리포트 2020 - 제 22 호]지방자치단체 교육경… ...2      ...3    ...4          ...5     \n",
            "  <chr>                                <chr>     <chr>   <chr>         <chr>    \n",
            "1 <NA>                                 <NA>      <NA>    <NA>          <NA>     \n",
            "2 자치구                               교육경비보조금… 세출예산… 예산대비교육경비보조금 … 교육경비보조금순…\n",
            "3 서울시총계                           197363.0  4.1984… 0.0047        <NA>     \n",
            "4 서울강남구                           14800.0   135234… 0.0109        2.0      \n",
            "5 서울강동구                           3516.0    847729… 0.0041        21.0     \n",
            "6 서울강북구                           3346.0    817265… 0.0041        22.0     \n"
          ],
          "name": "stdout"
        }
      ]
    },
    {
      "cell_type": "code",
      "metadata": {
        "id": "KtU1Cquukpt1",
        "colab_type": "code",
        "colab": {
          "base_uri": "https://localhost:8080/",
          "height": 316
        },
        "outputId": "3a1f9212-5237-4737-a2e0-2225eb8e36eb"
      },
      "source": [
        "#간호사및간호조무사현황.xls \n",
        "%%R\n",
        "medical_raw                  <- read_xls(file.choose()) \n",
        "head(medical_raw)"
      ],
      "execution_count": 67,
      "outputs": [
        {
          "output_type": "stream",
          "text": [
            "Enter file name:간호사및간호조무사현황.xls\n"
          ],
          "name": "stdout"
        },
        {
          "output_type": "stream",
          "text": [
            "R[write to console]: New names:\n",
            "* `` -> ...2\n",
            "* `` -> ...3\n",
            "* `` -> ...4\n",
            "* `` -> ...5\n",
            "* `` -> ...6\n",
            "\n"
          ],
          "name": "stderr"
        },
        {
          "output_type": "stream",
          "text": [
            "# A tibble: 6 x 6\n",
            "  `01.간호사 및 간호조무사 현황`    ...2   ...3   ...4       ...5    ...6       \n",
            "  <chr>                             <chr>  <chr>  <chr>      <chr>   <chr>      \n",
            "1  <NA>                             <NA>   <NA>   <NA>       <NA>    <NA>       \n",
            "2 \"간호사 및 간호조무사 현황(단위:명)\"… <NA>   <NA>   <NA>       <NA>    <NA>       \n",
            "3  <NA>                             <NA>   <NA>   <NA>       <NA>    <NA>       \n",
            "4 \"police_div  ('police_main')\\nSH… <NA>   <NA>   <NA>       <NA>    <NA>       \n",
            "5  <NA>                             <NA>   <NA>   <NA>       <NA>    <NA>       \n",
            "6 \"구분\"                            시군구명… 간호사수… 인구천명당<br/… 간호사조무사… 인구천명당<br/>…\n"
          ],
          "name": "stdout"
        }
      ]
    },
    {
      "cell_type": "code",
      "metadata": {
        "id": "D3dtcRPDkzwq",
        "colab_type": "code",
        "colab": {
          "base_uri": "https://localhost:8080/",
          "height": 193
        },
        "outputId": "76979cb3-1972-43ad-e8f6-610f0fcea2b0"
      },
      "source": [
        "#전국_학교돌봄현황.xlsx\n",
        "%%R\n",
        "nationwide_total_raw         <- read_xlsx(file.choose()) \n",
        "head(nationwide_total_raw)"
      ],
      "execution_count": 103,
      "outputs": [
        {
          "output_type": "stream",
          "text": [
            "Enter file name:전국_학교돌봄현황.xlsx\n",
            "# A tibble: 6 x 3\n",
            "  regname sch_dolbom schools\n",
            "  <chr>        <dbl>   <dbl>\n",
            "1 서울          1963     607\n",
            "2 부산           557     304\n",
            "3 대구           464     229\n",
            "4 인천           799     283\n",
            "5 광주           279     155\n",
            "6 대전           425     150\n"
          ],
          "name": "stdout"
        }
      ]
    },
    {
      "cell_type": "code",
      "metadata": {
        "id": "sOeBpRXHk0gJ",
        "colab_type": "code",
        "colab": {
          "base_uri": "https://localhost:8080/",
          "height": 193
        },
        "outputId": "54f87c89-e76e-4d8b-b301-457d26dd1f86"
      },
      "source": [
        "#전국_마을돌봄현황.xlsx \n",
        "%%R\n",
        "nationwide_vil_dolbom_raw    <- read_xlsx(file.choose())\n",
        "head(nationwide_vil_dolbom_raw)"
      ],
      "execution_count": 102,
      "outputs": [
        {
          "output_type": "stream",
          "text": [
            "Enter file name:전국_마을돌봄현황.xlsx\n",
            "# A tibble: 6 x 4\n",
            "  지역    지역아동센터수 다함께돌봄센터수 초등청소년방과후아카데미수\n",
            "  <chr>   <chr>          <chr>            <chr>                     \n",
            "1 regname villiage_fac   together_dolbom  aftsch_academy            \n",
            "2 서울    457            87               12                        \n",
            "3 부산    217            19               10                        \n",
            "4 대구    205            1                10                        \n",
            "5 인천    186            5                4                         \n",
            "6 광주    317            3                5                         \n"
          ],
          "name": "stdout"
        }
      ]
    },
    {
      "cell_type": "code",
      "metadata": {
        "id": "IhU3k5oNk0Sh",
        "colab_type": "code",
        "colab": {
          "base_uri": "https://localhost:8080/",
          "height": 246
        },
        "outputId": "5fa3d164-2f54-482f-9295-4fc187569719"
      },
      "source": [
        "#전국_저소득및한부모가구수.xlsx\n",
        "%%R\n",
        "nationwide_hanbumobase_raw   <- read_xlsx(file.choose())\n",
        "head(nationwide_hanbumobase_raw)"
      ],
      "execution_count": 100,
      "outputs": [
        {
          "output_type": "stream",
          "text": [
            "Enter file name:전국_저소득및한부모가구수.xlsx\n"
          ],
          "name": "stdout"
        },
        {
          "output_type": "stream",
          "text": [
            "R[write to console]: New names:\n",
            "* `` -> ...1\n",
            "\n"
          ],
          "name": "stderr"
        },
        {
          "output_type": "stream",
          "text": [
            "# A tibble: 6 x 4\n",
            "  ...1  hanbumo hanbumo_only hanbumo_19\n",
            "  <chr>   <dbl>        <dbl>      <dbl>\n",
            "1 부산    16690         4642      14877\n",
            "2 대구    12998         2835      11329\n",
            "3 인천     2852          693      13259\n",
            "4 광주     9070         2060       7433\n",
            "5 대전     7106         1552       6743\n",
            "6 울산     4626          592       3156\n"
          ],
          "name": "stdout"
        }
      ]
    },
    {
      "cell_type": "code",
      "metadata": {
        "id": "-asvz882kzVm",
        "colab_type": "code",
        "colab": {
          "base_uri": "https://localhost:8080/",
          "height": 193
        },
        "outputId": "9de16b65-df0b-464d-dd71-b49f1724521b"
      },
      "source": [
        "#전국_학생수현황.xlsx\n",
        "%%R\n",
        "nationwide_students_raw      <- read_xlsx(file.choose()) \n",
        "head(nationwide_students_raw)"
      ],
      "execution_count": 99,
      "outputs": [
        {
          "output_type": "stream",
          "text": [
            "Enter file name:전국_학생수현황.xlsx\n",
            "# A tibble: 6 x 3\n",
            "  지역    학생수   다문화학생수     \n",
            "  <chr>   <chr>    <chr>            \n",
            "1 regname students multicul_students\n",
            "2 서울    422293   13067            \n",
            "3 부산    155589   4509             \n",
            "4 대구    126122   3516             \n",
            "5 인천    160853   5866             \n",
            "6 광주    88990    2739             \n"
          ],
          "name": "stdout"
        }
      ]
    },
    {
      "cell_type": "code",
      "metadata": {
        "id": "bNUegRJDk7Nr",
        "colab_type": "code",
        "colab": {
          "base_uri": "https://localhost:8080/",
          "height": 281
        },
        "outputId": "8b1d8ab9-4a55-4344-9572-15435ba8b541"
      },
      "source": [
        "#서울_미세먼지.txt\n",
        "%%R\n",
        "seoul_air_raw                <- read.table(file.choose(), sep='\\t', header=T) \n",
        "head(seoul_air_raw)"
      ],
      "execution_count": 65,
      "outputs": [
        {
          "output_type": "stream",
          "text": [
            "Enter file name:서울_미세먼지.txt\n",
            "  기간         구분 아황산가스.ppm. 일산화탄소.ppm. 이산화질소.ppm.\n",
            "1 2018 국가환경기준           0.020             9.0           0.030\n",
            "2 2018   서울시기준           0.010             9.0           0.030\n",
            "3 2018        평 균           0.004             0.5           0.028\n",
            "4 2018       종로구           0.005             0.6           0.032\n",
            "5 2018         중구           0.003             0.5           0.031\n",
            "6 2018       용산구           0.004             0.4           0.030\n",
            "  미세먼지..... 초미세먼지..... 오존.ppm.\n",
            "1            50              15     0.060\n",
            "2            50              15     0.060\n",
            "3            40              23     0.023\n",
            "4            35              21     0.025\n",
            "5            36              22     0.025\n",
            "6            34              23     0.022\n"
          ],
          "name": "stdout"
        }
      ]
    },
    {
      "cell_type": "markdown",
      "metadata": {
        "id": "lwVXCyJIuJao",
        "colab_type": "text"
      },
      "source": [
        "## 데이터 전처리 "
      ]
    },
    {
      "cell_type": "code",
      "metadata": {
        "id": "cOCT-LMRxhYK",
        "colab_type": "code",
        "colab": {
          "base_uri": "https://localhost:8080/",
          "height": 175
        },
        "outputId": "4ee08c86-b1c0-4455-d392-390018da0704"
      },
      "source": [
        "#서울_학교돌봄현황.xlsx 파일에서 서울시 구별 학교돌봄교실개수(sch_dolbom) 변수 돌봄운영학교수(schools) 변수 만들기 \n",
        "%%R\n",
        "seoul_total <- seoul_total_raw[-c(26),]\n",
        "names(seoul_total) <- c(\"gu\", \"sch_dolbom\", \"schools\")\n",
        "head(seoul_total)"
      ],
      "execution_count": 56,
      "outputs": [
        {
          "output_type": "stream",
          "text": [
            "# A tibble: 6 x 3\n",
            "  gu     sch_dolbom schools\n",
            "  <chr>       <dbl>   <dbl>\n",
            "1 강남구        117      33\n",
            "2 강동구        108      27\n",
            "3 강북구         43      14\n",
            "4 강서구        121      36\n",
            "5 관악구         89      22\n",
            "6 광진구         69      22\n"
          ],
          "name": "stdout"
        }
      ]
    },
    {
      "cell_type": "code",
      "metadata": {
        "id": "KiSwSzC69Mkt",
        "colab_type": "code",
        "colab": {
          "base_uri": "https://localhost:8080/",
          "height": 175
        },
        "outputId": "d7f65faf-a46f-4278-b2b4-1eac85bc2650"
      },
      "source": [
        "#서울_마을돌봄현황.xlsx 파일에서 서울시 구별 마을돌봄개수(vil_dolbom) 변수 만들기 \n",
        "%%R\n",
        "seoul_vil_dolbom <- seoul_vil_dolbom_raw[-c(1,27),]\n",
        "seoul_vil_dolbom$지역아동센터수 <- as.numeric(seoul_vil_dolbom$지역아동센터수)\n",
        "seoul_vil_dolbom$다함께돌봄센터수<- as.numeric(seoul_vil_dolbom$다함께돌봄센터수)\n",
        "seoul_vil_dolbom$초등청소년방과후아카데미수<- as.numeric(seoul_vil_dolbom$초등청소년방과후아카데미수)\n",
        "seoul_vil_dolbom$vil_dolbom <- seoul_vil_dolbom$지역아동센터수+ seoul_vil_dolbom$다함께돌봄센터수+seoul_vil_dolbom$초등청소년방과후아카데미수\n",
        "head(seoul_vil_dolbom)"
      ],
      "execution_count": 108,
      "outputs": [
        {
          "output_type": "stream",
          "text": [
            "# A tibble: 6 x 5\n",
            "  지역구 지역아동센터수 다함께돌봄센터수 초등청소년방과후아카데미수 vil_dolbom\n",
            "  <chr>           <dbl>            <dbl>                      <dbl>      <dbl>\n",
            "1 강남구              4                4                          1          9\n",
            "2 강동구             23                1                          1         25\n",
            "3 강북구             22                0                          1         23\n",
            "4 강서구             21                2                          1         24\n",
            "5 관악구             30                0                          0         30\n",
            "6 광진구             16                2                          0         18\n"
          ],
          "name": "stdout"
        }
      ]
    },
    {
      "cell_type": "code",
      "metadata": {
        "id": "ESWM439a9Wp4",
        "colab_type": "code",
        "colab": {
          "base_uri": "https://localhost:8080/",
          "height": 175
        },
        "outputId": "16846892-2984-46f8-85c1-83930531a0f4"
      },
      "source": [
        "#학교돌봄교실개수(sch_dolbom)와 마을돌봄개수(vil_dolbom)를 활용해 종속변수(dolbomplus) 만들기 \n",
        "%%R\n",
        "seoul_total$dolbomplus <- seoul_total$sch_dolbom + seoul_vil_dolbom$vil_dolbom\n",
        "head(seoul_total)"
      ],
      "execution_count": 109,
      "outputs": [
        {
          "output_type": "stream",
          "text": [
            "# A tibble: 6 x 4\n",
            "  gu     sch_dolbom schools dolbomplus\n",
            "  <chr>       <dbl>   <dbl>      <dbl>\n",
            "1 강남구        117      33        126\n",
            "2 강동구        108      27        133\n",
            "3 강북구         43      14         66\n",
            "4 강서구        121      36        145\n",
            "5 관악구         89      22        119\n",
            "6 광진구         69      22         87\n"
          ],
          "name": "stdout"
        }
      ]
    },
    {
      "cell_type": "code",
      "metadata": {
        "id": "8fsxD_bc9fkH",
        "colab_type": "code",
        "colab": {
          "base_uri": "https://localhost:8080/",
          "height": 210
        },
        "outputId": "8111b65e-3d23-4ae7-f8cf-7090b096de06"
      },
      "source": [
        "#학생체력증진현황.xlsx 파일에서 서울시 구별 비만지수(bmi) 변수 만들기 \n",
        "%%R\n",
        "bmi <- bmi_raw[ ,c(1,3,5,10,11,22)]\n",
        "names(bmi) <- c(\"시도교육청명\", \"지역\", \"학교명\",\"학년\",\"성별\",\"비만지수\")\n",
        "bmi <- bmi %>% filter(시도교육청명 == \"서울특별시교육청\")\n",
        "bmi <- na.omit(bmi)\n",
        "bmi <- bmi %>%  group_by(지역) %>% summarise(비만지수평균 = mean(비만지수))\n",
        "names(bmi) <- c(\"gu\", \"bmi\")\n",
        "bmi$gu <- substr(bmi$gu, 7 , nchar(bmi$gu))\n",
        "head(bmi)"
      ],
      "execution_count": 110,
      "outputs": [
        {
          "output_type": "stream",
          "text": [
            "R[write to console]: `summarise()` ungrouping output (override with `.groups` argument)\n",
            "\n"
          ],
          "name": "stderr"
        },
        {
          "output_type": "stream",
          "text": [
            "# A tibble: 6 x 2\n",
            "  gu       bmi\n",
            "  <chr>  <dbl>\n",
            "1 강남구  19.4\n",
            "2 강동구  19.8\n",
            "3 강북구  20.1\n",
            "4 강서구  19.8\n",
            "5 관악구  19.9\n",
            "6 광진구  19.8\n"
          ],
          "name": "stdout"
        }
      ]
    },
    {
      "cell_type": "code",
      "metadata": {
        "id": "FcjhkY8i5f7R",
        "colab_type": "code",
        "colab": {
          "base_uri": "https://localhost:8080/",
          "height": 140
        },
        "outputId": "b39d3544-5155-418d-9e5e-563c19c9339a"
      },
      "source": [
        "#서울_저소득및한부모가구수.txt 파일에서 서울시 구별 한부모가구수(hanbumo), 저소득가구(base) 변수 만들기 \n",
        "%%R\n",
        "hanbumo_base <- hanbumo_base_raw[-1 ,c(1,4,6)]\n",
        "names(hanbumo_base) <- c(\"gu\", \"base\", \"hanbumo\")\n",
        "hanbumo_base$base <- gsub(\",\",\"\",hanbumo_base$base)\n",
        "head(hanbumo_base)"
      ],
      "execution_count": 95,
      "outputs": [
        {
          "output_type": "stream",
          "text": [
            "      gu base hanbumo\n",
            "2 강남구  804     254\n",
            "3 강동구  947     407\n",
            "4 강북구 1610     551\n",
            "5 강서구 1556     800\n",
            "6 관악구 1065     508\n",
            "7 광진구  976     359\n"
          ],
          "name": "stdout"
        }
      ]
    },
    {
      "cell_type": "code",
      "metadata": {
        "id": "nKK0DbCq415_",
        "colab_type": "code",
        "colab": {
          "base_uri": "https://localhost:8080/",
          "height": 175
        },
        "outputId": "78ebcc4c-0f2a-464b-e744-7e23c86d7fe2"
      },
      "source": [
        "#행정구역별주요교육통계자료.xlsx 파일에서 서울시 구별 학생수(students), 다문화학생수(multicul) 변수 만들기\n",
        "#학생수(students)당 다문화학생수(multicul)비율로 파생변수(multiculper) 만들기  \n",
        "%%R\n",
        "students <- students_raw %>% filter(...2 == \"서울\" & ...4 == '초등학교')\n",
        "students <- students[-26,c(3,13,29)]\n",
        "names(students) <- c(\"gu\", \"students\", \"multicul\")\n",
        "students$multiculper<-  as.numeric(students$multicul) / as.numeric(students$students) \n",
        "students <- students %>% arrange(gu)\n",
        "head(students)"
      ],
      "execution_count": 88,
      "outputs": [
        {
          "output_type": "stream",
          "text": [
            "# A tibble: 6 x 4\n",
            "  gu     students multicul multiculper\n",
            "  <chr>  <chr>    <chr>          <dbl>\n",
            "1 강남구 25484    203          0.00797\n",
            "2 강동구 19622    431          0.0220 \n",
            "3 강북구 10392    370          0.0356 \n",
            "4 강서구 27134    667          0.0246 \n",
            "5 관악구 15246    766          0.0502 \n",
            "6 광진구 14977    444          0.0296 \n"
          ],
          "name": "stdout"
        }
      ]
    },
    {
      "cell_type": "code",
      "metadata": {
        "id": "jo-1jh_e4sNr",
        "colab_type": "code",
        "colab": {
          "base_uri": "https://localhost:8080/",
          "height": 140
        },
        "outputId": "5b8f2c1f-a069-4f1e-b466-30b8807d601e"
      },
      "source": [
        "#서울_지역내총생산.txt 파일에서 서울시 구별 지역내총생산(gross) 변수 만들기 \n",
        "%%R\n",
        "seoul_gross <- seoul_gross_raw[-1,c(2,3)]\n",
        "names(seoul_gross) <- c(\"gu\", \"gross\")\n",
        "seoul_gross <- seoul_gross %>% arrange(gu)\n",
        "head(seoul_gross)"
      ],
      "execution_count": 113,
      "outputs": [
        {
          "output_type": "stream",
          "text": [
            "      gu    gross\n",
            "1 강남구 59981514\n",
            "2 강동구  7424711\n",
            "3 강북구  2830150\n",
            "4 강서구 10739720\n",
            "5 관악구  5358231\n",
            "6 광진구  5970256\n"
          ],
          "name": "stdout"
        }
      ]
    },
    {
      "cell_type": "code",
      "metadata": {
        "id": "atfk-PHg4M-v",
        "colab_type": "code",
        "colab": {
          "base_uri": "https://localhost:8080/",
          "height": 175
        },
        "outputId": "f2fc7a2a-a520-4a51-f8a7-63630bc61c90"
      },
      "source": [
        "#시도별행정구별사설학원현황.xlsx 파일에서 서울시 구별 사설학원수(academy) 변수 만들기 \n",
        "%%R\n",
        "academy <- academy_raw\n",
        "academy <- academy %>% filter(...2 ==\"서울\" & ...4 == \"합계\")\n",
        "academy <- academy[,c(3,6)]\n",
        "names(academy) <- c(\"gu\", \"academy\")\n",
        "academy <- academy %>% arrange(gu)\n",
        "head(academy)"
      ],
      "execution_count": 84,
      "outputs": [
        {
          "output_type": "stream",
          "text": [
            "# A tibble: 6 x 2\n",
            "  gu     academy\n",
            "  <chr>  <chr>  \n",
            "1 강남구 2279   \n",
            "2 강동구 672    \n",
            "3 강북구 209    \n",
            "4 강서구 693    \n",
            "5 관악구 443    \n",
            "6 광진구 406    \n"
          ],
          "name": "stdout"
        }
      ]
    },
    {
      "cell_type": "code",
      "metadata": {
        "id": "nQGPmfaJ3yF6",
        "colab_type": "code",
        "colab": {
          "base_uri": "https://localhost:8080/",
          "height": 175
        },
        "outputId": "162675ee-6686-49a7-fbc2-4a3a2ce72752"
      },
      "source": [
        "#재정운용상황개요.xlsx 파일에서 서울시 구별 재정자립도(fin01), 재정자주도(fin02), 사회복지예산비율(socialbud) 변수 만들기\n",
        "%%R\n",
        "fin <- fin_raw\n",
        "fin <- fin %>% filter(지역명 ==\"서울\")\n",
        "fin <- fin[-1,c(4,5,6,7)]\n",
        "names(fin) <- c(\"gu\", \"fin01\", \"fin02\",\"socialbud\")\n",
        "fin$gu <- substr(fin$gu, 3 , length(fin$gu))\n",
        "fin <- fin %>% arrange(gu)\n",
        "head(fin)"
      ],
      "execution_count": 82,
      "outputs": [
        {
          "output_type": "stream",
          "text": [
            "# A tibble: 6 x 4\n",
            "  gu     fin01 fin02 socialbud\n",
            "  <chr>  <dbl> <dbl>     <dbl>\n",
            "1 강남구  66.2  67.6      42.9\n",
            "2 강동구  41.1  59.7      48.3\n",
            "3 강북구  24.3  49.6      56.0\n",
            "4 강서구  28.2  46.7      60.9\n",
            "5 관악구  25.4  50.2      57.5\n",
            "6 광진구  33.3  58.6      50.5\n"
          ],
          "name": "stdout"
        }
      ]
    },
    {
      "cell_type": "code",
      "metadata": {
        "id": "-mdIDFR115q_",
        "colab_type": "code",
        "colab": {
          "base_uri": "https://localhost:8080/",
          "height": 140
        },
        "outputId": "95f737a0-9599-47fe-9ac2-c101bcc532b5"
      },
      "source": [
        "#서울_도서관 현황.txt 파일에서 서울시 구별 도서관(lib)변수 만들기 \n",
        "%%R\n",
        "seoul_lib <- seoul_lib_raw[-1,c(2,3)]\n",
        "names(seoul_lib) <- c(\"gu\", \"lib\")\n",
        "seoul_lib <-seoul_lib %>% arrange(gu)\n",
        "head(seoul_lib)"
      ],
      "execution_count": 120,
      "outputs": [
        {
          "output_type": "stream",
          "text": [
            "      gu lib\n",
            "1 강남구  39\n",
            "2 강동구  12\n",
            "3 강북구  12\n",
            "4 강서구  16\n",
            "5 관악구  10\n",
            "6 광진구  10\n"
          ],
          "name": "stdout"
        }
      ]
    },
    {
      "cell_type": "code",
      "metadata": {
        "id": "0saOSeRd25x5",
        "colab_type": "code",
        "colab": {
          "base_uri": "https://localhost:8080/",
          "height": 210
        },
        "outputId": "7707a8ce-5ab9-434b-dbb3-84d2c77c84d7"
      },
      "source": [
        "#작은도서관현황.xlsx 파일에서 서울시 구별 작은 도서관(little_lib) 변수 만들기  \n",
        "%%R\n",
        "little_lib <- little_lib_raw %>% filter(...3 ==\"서울\")\n",
        "little_lib <-little_lib %>% group_by(...4) %>% summarise(n=n())\n",
        "names(little_lib) <- c(\"gu\", \"little_lib\")\n",
        "head(little_lib)"
      ],
      "execution_count": 115,
      "outputs": [
        {
          "output_type": "stream",
          "text": [
            "R[write to console]: `summarise()` ungrouping output (override with `.groups` argument)\n",
            "\n"
          ],
          "name": "stderr"
        },
        {
          "output_type": "stream",
          "text": [
            "# A tibble: 6 x 2\n",
            "  gu     little_lib\n",
            "  <chr>       <int>\n",
            "1 강남구         40\n",
            "2 강동구         40\n",
            "3 강북구         40\n",
            "4 강서구         70\n",
            "5 관악구         51\n",
            "6 광진구         32\n"
          ],
          "name": "stdout"
        }
      ]
    },
    {
      "cell_type": "code",
      "metadata": {
        "id": "hJhKIyvO_pYu",
        "colab_type": "code",
        "colab": {
          "base_uri": "https://localhost:8080/",
          "height": 140
        },
        "outputId": "9877c490-f065-4d06-d17d-9f5c5c18fbfd"
      },
      "source": [
        "#서울_도서관 현황.txt 파일에서 공공도서관 변수(publib)만들기\n",
        "%%R\n",
        "seoul_publib <- seoul_lib_raw[-1, c(2,5)]\n",
        "names(seoul_publib) <- c(\"gu\", \"publib\")\n",
        "seoul_publib <- seoul_publib %>% arrange(gu)\n",
        "head(seoul_publib)"
      ],
      "execution_count": 124,
      "outputs": [
        {
          "output_type": "stream",
          "text": [
            "      gu publib\n",
            "1 강남구     13\n",
            "2 강동구      8\n",
            "3 강북구      7\n",
            "4 강서구      9\n",
            "5 관악구      5\n",
            "6 광진구      4\n"
          ],
          "name": "stdout"
        }
      ]
    },
    {
      "cell_type": "code",
      "metadata": {
        "id": "ywFi2s6n3FVQ",
        "colab_type": "code",
        "colab": {
          "base_uri": "https://localhost:8080/",
          "height": 140
        },
        "outputId": "71559ab0-de74-45b4-abb2-712168b0852b"
      },
      "source": [
        "#서울_도서관 현황.txt 파일의 공공도서관수 변수와 작은도서관(little_lib)변수 합계로 파생변수(Slibpub)만들기 \n",
        "%%R\n",
        "seoul_lib$Slibpub <- seoul_publib$publib + little_lib$little_lib\n",
        "head(seoul_lib)"
      ],
      "execution_count": 125,
      "outputs": [
        {
          "output_type": "stream",
          "text": [
            "      gu lib Slibpub\n",
            "1 강남구  39      53\n",
            "2 강동구  12      48\n",
            "3 강북구  12      47\n",
            "4 강서구  16      79\n",
            "5 관악구  10      56\n",
            "6 광진구  10      36\n"
          ],
          "name": "stdout"
        }
      ]
    },
    {
      "cell_type": "code",
      "metadata": {
        "id": "-otnF3S711cN",
        "colab_type": "code",
        "colab": {
          "base_uri": "https://localhost:8080/",
          "height": 140
        },
        "outputId": "95e0c73a-9dd2-4079-88ba-e531e26dd317"
      },
      "source": [
        "#서울_도서관현황.txt 파일에서 서울시 구별 도서관(lib)변수에 작은도서관(little_lib)수 합계로 총도서관수(libtotal)변수만들기 \n",
        "%%R\n",
        "seoul_lib$libtotal <- seoul_lib$lib + little_lib$little_lib\n",
        "head(seoul_lib)"
      ],
      "execution_count": 126,
      "outputs": [
        {
          "output_type": "stream",
          "text": [
            "      gu lib Slibpub libtotal\n",
            "1 강남구  39      53       79\n",
            "2 강동구  12      48       52\n",
            "3 강북구  12      47       52\n",
            "4 강서구  16      79       86\n",
            "5 관악구  10      56       61\n",
            "6 광진구  10      36       42\n"
          ],
          "name": "stdout"
        }
      ]
    },
    {
      "cell_type": "code",
      "metadata": {
        "id": "1aV4B38O1mJH",
        "colab_type": "code",
        "colab": {
          "base_uri": "https://localhost:8080/",
          "height": 175
        },
        "outputId": "6e78cece-4a60-4e85-e394-d26c0e58ace0"
      },
      "source": [
        "#서울_살림규모.xlsx 파일에서 서울시 구별 살림규모(scale) 변수 만들기\n",
        "%%R\n",
        "seoul_scale <- seoul_scale_raw\n",
        "names(seoul_scale) <- c(\"gu\", \"scale\")\n",
        "head(seoul_scale)"
      ],
      "execution_count": 127,
      "outputs": [
        {
          "output_type": "stream",
          "text": [
            "# A tibble: 6 x 2\n",
            "  gu     scale\n",
            "  <chr>  <dbl>\n",
            "1 강남구 16794\n",
            "2 강동구 10759\n",
            "3 강북구  8538\n",
            "4 강서구 11862\n",
            "5 관악구  9055\n",
            "6 광진구  7986\n"
          ],
          "name": "stdout"
        }
      ]
    },
    {
      "cell_type": "code",
      "metadata": {
        "id": "wiDBPVtP1DAI",
        "colab_type": "code",
        "colab": {
          "base_uri": "https://localhost:8080/",
          "height": 210
        },
        "outputId": "29b44f92-55b8-426a-c4fb-af77e3b4e916"
      },
      "source": [
        "#교육관련지원예산현황.xlsx 파일에서 서울시 구별 교육경비보조금(edubud) 변수 만들기 \n",
        "%%R\n",
        "edubud <- edubud_raw\n",
        "edubud <- edubud %>% filter(지역명 ==\"서울\")\n",
        "edubud <- edubud %>% filter(구분 ==\"교육경비보조금\") \n",
        "edubud <- edubud %>% group_by(자치단체명)  %>%  summarise(예산액합 = sum(예산액)) \n",
        "edubud <- edubud[-14,]\n",
        "names(edubud) <- c(\"gu\", \"edubud\")\n",
        "edubud$gu <- substr(edubud$gu, 3 , nchar(edubud$gu))\n",
        "edubud$edubud <- substr(edubud$edubud, 1, nchar(edubud$edubud)-6)      #세입예산(bud)변수와 동일하게 단위 백만원으로 통일\n",
        "head(edubud)"
      ],
      "execution_count": 128,
      "outputs": [
        {
          "output_type": "stream",
          "text": [
            "R[write to console]: `summarise()` ungrouping output (override with `.groups` argument)\n",
            "\n"
          ],
          "name": "stderr"
        },
        {
          "output_type": "stream",
          "text": [
            "# A tibble: 6 x 2\n",
            "  gu     edubud\n",
            "  <chr>  <chr> \n",
            "1 강남구 13851 \n",
            "2 강동구 4103  \n",
            "3 강북구 3276  \n",
            "4 강서구 2821  \n",
            "5 관악구 3764  \n",
            "6 광진구 3743  \n"
          ],
          "name": "stdout"
        }
      ]
    },
    {
      "cell_type": "code",
      "metadata": {
        "id": "tcOc1csJx03G",
        "colab_type": "code",
        "colab": {
          "base_uri": "https://localhost:8080/",
          "height": 175
        },
        "outputId": "774e0cf8-9427-49b2-e5d3-6c6d3c4be14e"
      },
      "source": [
        "#서울_나라살림리포트전처리.xlsx파일에서 세입예산(bud)변수, 예산대비 교육경비보조금 비율(eduper) 변수 만들기\n",
        "%%R\n",
        "seoul_budget <- seoul_budget_raw[-c(1,2,3),c(1,3,4)]\n",
        "names(seoul_budget) <- c(\"gu\", \"bud\", \"edubudper\")\n",
        "seoul_budget$gu <- substr(seoul_budget$gu, 3, nchar(seoul_budget$gu))\n",
        "head(seoul_budget)"
      ],
      "execution_count": 129,
      "outputs": [
        {
          "output_type": "stream",
          "text": [
            "# A tibble: 6 x 3\n",
            "  gu     bud       edubudper\n",
            "  <chr>  <chr>     <chr>    \n",
            "1 강남구 1352340.0 0.0109   \n",
            "2 강동구 847729.0  0.0041   \n",
            "3 강북구 817265.0  0.0041   \n",
            "4 강서구 1126120.0 0.0029   \n",
            "5 관악구 810904.0  0.0059   \n",
            "6 광진구 684269.0  0.0067   \n"
          ],
          "name": "stdout"
        }
      ]
    },
    {
      "cell_type": "code",
      "metadata": {
        "id": "oAywWgvux06r",
        "colab_type": "code",
        "colab": {
          "base_uri": "https://localhost:8080/",
          "height": 175
        },
        "outputId": "c7a05087-ee5c-42a3-8373-fee457ac61e0"
      },
      "source": [
        "#간호사및간호조무사현황.xls 파일에서 서울시 구별 의료인력(medical) 변수 만들기  \n",
        "%%R\n",
        "medical <- medical_raw[-(1:7),c(1,2,3,5)] \n",
        "medical$...3 <- gsub(\",\",\"\",medical$...3)\n",
        "medical$...5 <- gsub(\",\",\"\",medical$...5)\n",
        "medical <- medical %>% filter(medical[,1]== \"서울특별시\")\n",
        "medical$medical <- as.numeric(medical$...3) + as.numeric(medical$...5)\n",
        "medical <- medical[-1,c(2,5)]\n",
        "names(medical) <- c(\"gu\", \"medical\")\n",
        "medical <- medical %>% arrange(gu)\n",
        "head(medical)"
      ],
      "execution_count": 130,
      "outputs": [
        {
          "output_type": "stream",
          "text": [
            "# A tibble: 6 x 2\n",
            "  gu     medical\n",
            "  <chr>    <dbl>\n",
            "1 강남구   11429\n",
            "2 강동구    4399\n",
            "3 강북구    1634\n",
            "4 강서구    3833\n",
            "5 관악구    1988\n",
            "6 광진구    2445\n"
          ],
          "name": "stdout"
        }
      ]
    },
    {
      "cell_type": "code",
      "metadata": {
        "id": "HbE748wMx0l_",
        "colab_type": "code",
        "colab": {
          "base_uri": "https://localhost:8080/",
          "height": 140
        },
        "outputId": "54f78aa5-b0bc-4d5f-b8f6-f6f59da32da3"
      },
      "source": [
        "#서울_미세먼지.txt 파일에서 서울시 구별 미세먼지(air) 변수 만들기\n",
        "%%R\n",
        "seoul_air <- seoul_air_raw[-c(1,2,3),c(2,6)]\n",
        "names(seoul_air) <- c(\"gu\",\"air\")\n",
        "seoul_air <- seoul_air %>% arrange(gu)\n",
        "head(seoul_air)"
      ],
      "execution_count": 131,
      "outputs": [
        {
          "output_type": "stream",
          "text": [
            "      gu air\n",
            "1 강남구  35\n",
            "2 강동구  44\n",
            "3 강북구  35\n",
            "4 강서구  39\n",
            "5 관악구  44\n",
            "6 광진구  40\n"
          ],
          "name": "stdout"
        }
      ]
    },
    {
      "cell_type": "code",
      "metadata": {
        "id": "ra-syKWcX_rB",
        "colab_type": "code",
        "colab": {}
      },
      "source": [
        ""
      ],
      "execution_count": null,
      "outputs": []
    },
    {
      "cell_type": "markdown",
      "metadata": {
        "id": "li5BbJgYCvHn",
        "colab_type": "text"
      },
      "source": [
        "## Train 테이블 생성 "
      ]
    },
    {
      "cell_type": "code",
      "metadata": {
        "id": "klwu2LVlC5zi",
        "colab_type": "code",
        "colab": {
          "base_uri": "https://localhost:8080/",
          "height": 386
        },
        "outputId": "0c68da3b-1ac9-4e57-bf3c-d81926efad4a"
      },
      "source": [
        "# Train 테이블(서울) 만들기\n",
        "%%R\n",
        "seoul_table <- cbind(seoul_total, bmi$bmi, hanbumo_base$hanbumo, hanbumo_base$base, students$students, \n",
        "                     students$multicul,students$multiculper, seoul_gross$gross, academy$academy, fin$fin01, \n",
        "                     fin$fin02, fin$socialbud, seoul_lib$libtotal, little_lib$little_lib, seoul_lib$Slibpub, \n",
        "                     seoul_scale$scale, edubud$edubud, seoul_budget$bud, seoul_budget$edubudper, medical$medical, \n",
        "                     seoul_air$air)\n",
        "\n",
        "colnames(seoul_table) <- c(\"gu\",\"sch_dolbom\",\"schools\",\"dolbomplus\",\"bmi\",\n",
        "                           \"hanbumo\",\"base\",\"students\",\"multicul\",\"multiculper\",\n",
        "                           \"gross\",\"academy\",\"fin01\",\"fin02\",\"socialbud\",\n",
        "                           \"libtotal\",\"little_lib\",\"Slibpub\",\"scale\",\"edubud\",\n",
        "                           \"bud\",\"edubudper\",\"medical\",\"air\")\n",
        "head(seoul_table)"
      ],
      "execution_count": 133,
      "outputs": [
        {
          "output_type": "stream",
          "text": [
            "      gu sch_dolbom schools dolbomplus      bmi hanbumo base students multicul\n",
            "1 강남구        117      33        126 19.43920     254  804    25484      203\n",
            "2 강동구        108      27        133 19.81522     407  947    19622      431\n",
            "3 강북구         43      14         66 20.10714     551 1610    10392      370\n",
            "4 강서구        121      36        145 19.84444     800 1556    27134      667\n",
            "5 관악구         89      22        119 19.88764     508 1065    15246      766\n",
            "6 광진구         69      22         87 19.83933     359  976    14977      444\n",
            "  multiculper    gross academy fin01 fin02 socialbud libtotal little_lib\n",
            "1 0.007965782 59981514    2279 66.23 67.64     42.92       79         40\n",
            "2 0.021965141  7424711     672 41.12 59.66     48.29       52         40\n",
            "3 0.035604311  2830150     209 24.29 49.58     55.98       52         40\n",
            "4 0.024581706 10739720     693 28.23 46.69     60.94       86         70\n",
            "5 0.050242687  5358231     443 25.37 50.24     57.50       61         51\n",
            "6 0.029645456  5970256     406 33.34 58.60     50.52       42         32\n",
            "  Slibpub scale edubud       bud edubudper medical air\n",
            "1      53 16794  13851 1352340.0    0.0109   11429  35\n",
            "2      48 10759   4103  847729.0    0.0041    4399  44\n",
            "3      47  8538   3276  817265.0    0.0041    1634  35\n",
            "4      79 11862   2821 1126120.0    0.0029    3833  39\n",
            "5      56  9055   3764  810904.0    0.0059    1988  44\n",
            "6      36  7986   3743  684269.0    0.0067    2445  40\n"
          ],
          "name": "stdout"
        }
      ]
    },
    {
      "cell_type": "code",
      "metadata": {
        "id": "BAWgnpRzC6FB",
        "colab_type": "code",
        "colab": {
          "base_uri": "https://localhost:8080/",
          "height": 862
        },
        "outputId": "01c87e4c-3570-4249-dfde-3ca9a27c1916"
      },
      "source": [
        "# Train 테이블(서울) 변수 타입 확인\n",
        "%%R\n",
        "summary(seoul_table)"
      ],
      "execution_count": 135,
      "outputs": [
        {
          "output_type": "stream",
          "text": [
            "      gu              sch_dolbom        schools        dolbomplus   \n",
            " Length:25          Min.   : 31.00   Min.   :12.00   Min.   : 42.0  \n",
            " Class :character   1st Qu.: 69.00   1st Qu.:21.00   1st Qu.: 87.0  \n",
            " Mode  :character   Median : 83.00   Median :23.00   Median :108.0  \n",
            "                    Mean   : 82.92   Mean   :24.28   Mean   :105.4  \n",
            "                    3rd Qu.:104.00   3rd Qu.:29.00   3rd Qu.:127.0  \n",
            "                    Max.   :146.00   Max.   :42.00   Max.   :172.0  \n",
            "                                                                    \n",
            "      bmi           hanbumo        base       students     multicul \n",
            " Min.   :19.42   369    : 2   1065   : 1   10392  : 1   390    : 2  \n",
            " 1st Qu.:19.74   103    : 1   1115   : 1   11789  : 1   444    : 2  \n",
            " Median :19.89   154    : 1   1164   : 1   12993  : 1   1322   : 1  \n",
            " Mean   :19.88   176    : 1   1319   : 1   13684  : 1   1463   : 1  \n",
            " 3rd Qu.:20.04   191    : 1   1394   : 1   13891  : 1   166    : 1  \n",
            " Max.   :20.30   197    : 1   1556   : 1   14977  : 1   171    : 1  \n",
            "                 (Other):18   (Other):19   (Other):19   (Other):17  \n",
            "  multiculper           gross             academy       fin01      \n",
            " Min.   :0.007197   Min.   : 2816851   406    : 2   Min.   :20.58  \n",
            " 1st Qu.:0.021965   1st Qu.: 5292768   1037   : 1   1st Qu.:25.80  \n",
            " Median :0.028972   Median : 7452206   1115   : 1   Median :31.44  \n",
            " Mean   :0.036032   Mean   :14377597   1119   : 1   Mean   :36.43  \n",
            " 3rd Qu.:0.039868   3rd Qu.:16355733   118    : 1   3rd Qu.:42.61  \n",
            " Max.   :0.100676   Max.   :59981514   155    : 1   Max.   :66.23  \n",
            "                                       (Other):18                  \n",
            "     fin02         socialbud        libtotal       little_lib   \n",
            " Min.   :46.18   Min.   :36.28   Min.   :25.00   Min.   :16.00  \n",
            " 1st Qu.:51.18   1st Qu.:48.29   1st Qu.:49.00   1st Qu.:31.00  \n",
            " Median :54.21   Median :53.75   Median :58.00   Median :40.00  \n",
            " Mean   :56.23   Mean   :51.79   Mean   :60.28   Mean   :39.24  \n",
            " 3rd Qu.:59.66   3rd Qu.:56.13   3rd Qu.:74.00   3rd Qu.:43.00  \n",
            " Max.   :72.21   Max.   :62.89   Max.   :92.00   Max.   :70.00  \n",
            "                                                                \n",
            "    Slibpub          scale           edubud          bud       edubudper \n",
            " Min.   :21.00   Min.   : 6258   1187   : 1   1000272.0: 1   0.0041 : 2  \n",
            " 1st Qu.:35.00   1st Qu.: 7557   13851  : 1   1126120.0: 1   0.0067 : 2  \n",
            " Median :46.00   Median : 8309   1734   : 1   1352340.0: 1   0.0029 : 1  \n",
            " Mean   :46.16   Mean   : 8968   1832   : 1   549937.0 : 1   0.0031 : 1  \n",
            " 3rd Qu.:53.00   3rd Qu.: 9829   2367   : 1   557679.0 : 1   0.0035 : 1  \n",
            " Max.   :79.00   Max.   :16794   2821   : 1   571695.0 : 1   0.0042 : 1  \n",
            "                                 (Other):19   (Other)  :19   (Other):17  \n",
            "    medical           air      \n",
            " Min.   : 1308   Min.   :34.0  \n",
            " 1st Qu.: 1988   1st Qu.:36.0  \n",
            " Median : 2847   Median :40.0  \n",
            " Mean   : 3466   Mean   :39.8  \n",
            " 3rd Qu.: 4399   3rd Qu.:42.0  \n",
            " Max.   :11429   Max.   :48.0  \n",
            "                               \n"
          ],
          "name": "stdout"
        }
      ]
    },
    {
      "cell_type": "code",
      "metadata": {
        "id": "c6Z3xUVFC5k8",
        "colab_type": "code",
        "colab": {
          "base_uri": "https://localhost:8080/",
          "height": 756
        },
        "outputId": "f0d3142b-6e43-405c-b94a-ba926424f4b8"
      },
      "source": [
        "# Train 테이블(서울) 변수 타입 수정\n",
        "%%R\n",
        "seoul_table$hanbumo   <- as.numeric(seoul_table$hanbumo)\n",
        "seoul_table$base      <- as.numeric(seoul_table$base)\n",
        "seoul_table$students  <- as.numeric(seoul_table$students)\n",
        "seoul_table$multicul  <- as.numeric(seoul_table$multicul)\n",
        "seoul_table$academy   <- as.numeric(seoul_table$academy)\n",
        "seoul_table$edubud    <- as.numeric(seoul_table$edubud)\n",
        "seoul_table$edubudper <- as.numeric(seoul_table$edubudper)\n",
        "seoul_table$bud       <- as.numeric(seoul_table$bud)\n",
        "\n",
        "summary(seoul_table)"
      ],
      "execution_count": 137,
      "outputs": [
        {
          "output_type": "stream",
          "text": [
            "      gu              sch_dolbom        schools        dolbomplus   \n",
            " Length:25          Min.   : 31.00   Min.   :12.00   Min.   : 42.0  \n",
            " Class :character   1st Qu.: 69.00   1st Qu.:21.00   1st Qu.: 87.0  \n",
            " Mode  :character   Median : 83.00   Median :23.00   Median :108.0  \n",
            "                    Mean   : 82.92   Mean   :24.28   Mean   :105.4  \n",
            "                    3rd Qu.:104.00   3rd Qu.:29.00   3rd Qu.:127.0  \n",
            "                    Max.   :146.00   Max.   :42.00   Max.   :172.0  \n",
            "      bmi           hanbumo           base       students     multicul    \n",
            " Min.   :19.42   Min.   : 1.00   Min.   : 1   Min.   : 1   Min.   : 1.00  \n",
            " 1st Qu.:19.74   1st Qu.: 7.00   1st Qu.: 7   1st Qu.: 7   1st Qu.: 7.00  \n",
            " Median :19.89   Median :12.00   Median :13   Median :13   Median :12.00  \n",
            " Mean   :19.88   Mean   :12.48   Mean   :13   Mean   :13   Mean   :11.92  \n",
            " 3rd Qu.:20.04   3rd Qu.:18.00   3rd Qu.:19   3rd Qu.:19   3rd Qu.:17.00  \n",
            " Max.   :20.30   Max.   :24.00   Max.   :25   Max.   :25   Max.   :23.00  \n",
            "  multiculper           gross             academy         fin01      \n",
            " Min.   :0.007197   Min.   : 2816851   Min.   : 1.0   Min.   :20.58  \n",
            " 1st Qu.:0.021965   1st Qu.: 5292768   1st Qu.: 7.0   1st Qu.:25.80  \n",
            " Median :0.028972   Median : 7452206   Median :13.0   Median :31.44  \n",
            " Mean   :0.036032   Mean   :14377597   Mean   :12.6   Mean   :36.43  \n",
            " 3rd Qu.:0.039868   3rd Qu.:16355733   3rd Qu.:18.0   3rd Qu.:42.61  \n",
            " Max.   :0.100676   Max.   :59981514   Max.   :24.0   Max.   :66.23  \n",
            "     fin02         socialbud        libtotal       little_lib   \n",
            " Min.   :46.18   Min.   :36.28   Min.   :25.00   Min.   :16.00  \n",
            " 1st Qu.:51.18   1st Qu.:48.29   1st Qu.:49.00   1st Qu.:31.00  \n",
            " Median :54.21   Median :53.75   Median :58.00   Median :40.00  \n",
            " Mean   :56.23   Mean   :51.79   Mean   :60.28   Mean   :39.24  \n",
            " 3rd Qu.:59.66   3rd Qu.:56.13   3rd Qu.:74.00   3rd Qu.:43.00  \n",
            " Max.   :72.21   Max.   :62.89   Max.   :92.00   Max.   :70.00  \n",
            "    Slibpub          scale           edubud        bud       edubudper    \n",
            " Min.   :21.00   Min.   : 6258   Min.   : 1   Min.   : 1   Min.   : 1.00  \n",
            " 1st Qu.:35.00   1st Qu.: 7557   1st Qu.: 7   1st Qu.: 7   1st Qu.: 6.00  \n",
            " Median :46.00   Median : 8309   Median :13   Median :13   Median :12.00  \n",
            " Mean   :46.16   Mean   : 8968   Mean   :13   Mean   :13   Mean   :11.76  \n",
            " 3rd Qu.:53.00   3rd Qu.: 9829   3rd Qu.:19   3rd Qu.:19   3rd Qu.:17.00  \n",
            " Max.   :79.00   Max.   :16794   Max.   :25   Max.   :25   Max.   :23.00  \n",
            "    medical           air      \n",
            " Min.   : 1308   Min.   :34.0  \n",
            " 1st Qu.: 1988   1st Qu.:36.0  \n",
            " Median : 2847   Median :40.0  \n",
            " Mean   : 3466   Mean   :39.8  \n",
            " 3rd Qu.: 4399   3rd Qu.:42.0  \n",
            " Max.   :11429   Max.   :48.0  \n"
          ],
          "name": "stdout"
        }
      ]
    },
    {
      "cell_type": "code",
      "metadata": {
        "id": "xvQhHT39G6yD",
        "colab_type": "code",
        "colab": {
          "base_uri": "https://localhost:8080/",
          "height": 386
        },
        "outputId": "3916ed85-32f8-4775-c729-2ef6a33c6c5a"
      },
      "source": [
        "## 최종 트레인 테이블 \n",
        "%%R\n",
        "seoul_data <- seoul_table[,-c(1,2)]\n",
        "head(seoul_data)"
      ],
      "execution_count": 151,
      "outputs": [
        {
          "output_type": "stream",
          "text": [
            "  schools dolbomplus      bmi hanbumo base students multicul multiculper\n",
            "1      33        126 19.43920       8   19       18        5 0.007965782\n",
            "2      27        133 19.81522      13   22       13       11 0.021965141\n",
            "3      14         66 20.10714      21    7        1        9 0.035604311\n",
            "4      36        145 19.84444      24    6       20       21 0.024581706\n",
            "5      22        119 19.88764      19    1        8       22 0.050242687\n",
            "6      22         87 19.83933      11   24        6       12 0.029645456\n",
            "     gross academy fin01 fin02 socialbud libtotal little_lib Slibpub scale\n",
            "1 59981514       8 66.23 67.64     42.92       79         40      53 16794\n",
            "2  7424711      21 41.12 59.66     48.29       52         40      48 10759\n",
            "3  2830150       6 24.29 49.58     55.98       52         40      47  8538\n",
            "4 10739720      23 28.23 46.69     60.94       86         70      79 11862\n",
            "5  5358231      16 25.37 50.24     57.50       61         51      56  9055\n",
            "6  5970256      15 33.34 58.60     50.52       42         32      36  7986\n",
            "  edubud bud edubudper medical air\n",
            "1      2   3        22   11429  35\n",
            "2     15  22         4    4399  44\n",
            "3     11  21         4    1634  35\n",
            "4      6   2         1    3833  39\n",
            "5     13  19        10    1988  44\n",
            "6     12  12        14    2445  40\n"
          ],
          "name": "stdout"
        }
      ]
    },
    {
      "cell_type": "markdown",
      "metadata": {
        "id": "4_UTU5qbGPCj",
        "colab_type": "text"
      },
      "source": [
        "## 예측변수 선택 "
      ]
    },
    {
      "cell_type": "markdown",
      "metadata": {
        "id": "N6NERe6jGhpx",
        "colab_type": "text"
      },
      "source": [
        "서울시를 통해 만든 회귀모델에서 사용할 가장 좋은 예측변수 선택과정(유의미한 모델을 만들기 위한 과정)\n",
        "\n",
        "변수선택 2가지 방법을 이용하여 최적의 예측변수를 구해 회귀분석식을 구한다.\n"
      ]
    },
    {
      "cell_type": "code",
      "metadata": {
        "id": "ATojOtp0Dyez",
        "colab_type": "code",
        "colab": {}
      },
      "source": [
        "# 첫번째 방법 :  단계적 변수 선택(stepwise regression - forward/backward/both)\n",
        "%%R\n",
        "seoul_steplm.null <- lm(dolbomplus ~ 1,   data = seoul_data)      #null model\n",
        "seoul_steplm      <- lm(dolbomplus ~ . ,  data = seoul_data)      #full model "
      ],
      "execution_count": 190,
      "outputs": []
    },
    {
      "cell_type": "code",
      "metadata": {
        "id": "2NHVC4AUD8RS",
        "colab_type": "code",
        "colab": {
          "base_uri": "https://localhost:8080/",
          "height": 1000
        },
        "outputId": "d7c4b7d5-0f52-4c97-9c32-2257d0a15e3d"
      },
      "source": [
        "# 1-(1) forward\n",
        "%%R\n",
        "step(seoul_steplm.null , scope=list(lower = seoul_steplm.null, upper= seoul_steplm), direction = \"forward\")"
      ],
      "execution_count": 191,
      "outputs": [
        {
          "output_type": "stream",
          "text": [
            "Start:  AIC=178.74\n",
            "dolbomplus ~ 1\n",
            "\n",
            "              Df Sum of Sq     RSS    AIC\n",
            "+ schools      1   24775.2  4618.8 134.47\n",
            "+ Slibpub      1   17326.5 12067.5 158.49\n",
            "+ little_lib   1   15591.2 13802.8 161.84\n",
            "+ socialbud    1   12875.4 16518.6 166.33\n",
            "+ hanbumo      1   11845.3 17548.7 167.85\n",
            "+ scale        1   11157.0 18237.0 168.81\n",
            "+ fin02        1    9148.4 20245.6 171.42\n",
            "+ multicul     1    3508.2 25885.8 177.56\n",
            "+ academy      1    3436.0 25958.0 177.63\n",
            "+ air          1    3410.9 25983.1 177.66\n",
            "+ fin01        1    3397.8 25996.2 177.67\n",
            "+ medical      1    2983.2 26410.8 178.07\n",
            "+ libtotal     1    2575.4 26818.6 178.45\n",
            "+ edubudper    1    2474.3 26919.7 178.54\n",
            "<none>                     29394.0 178.74\n",
            "+ base         1    2011.3 27382.7 178.97\n",
            "+ bud          1    1682.6 27711.4 179.27\n",
            "+ multiculper  1    1320.0 28074.0 179.59\n",
            "+ gross        1    1091.6 28302.4 179.80\n",
            "+ bmi          1     974.4 28419.6 179.90\n",
            "+ students     1     462.0 28932.0 180.35\n",
            "+ edubud       1       0.1 29393.9 180.74\n",
            "\n",
            "Step:  AIC=134.48\n",
            "dolbomplus ~ schools\n",
            "\n",
            "              Df Sum of Sq    RSS    AIC\n",
            "+ socialbud    1    994.94 3623.8 130.41\n",
            "+ multiculper  1    946.95 3671.8 130.74\n",
            "+ fin02        1    867.07 3751.7 131.28\n",
            "+ little_lib   1    743.67 3875.1 132.09\n",
            "+ fin01        1    728.17 3890.6 132.19\n",
            "+ bmi          1    684.44 3934.3 132.47\n",
            "+ bud          1    671.34 3947.4 132.55\n",
            "+ Slibpub      1    663.63 3955.1 132.60\n",
            "+ gross        1    603.29 4015.5 132.98\n",
            "+ hanbumo      1    521.95 4096.8 133.48\n",
            "+ medical      1    502.10 4116.7 133.60\n",
            "+ multicul     1    357.96 4260.8 134.46\n",
            "<none>                     4618.8 134.47\n",
            "+ air          1    351.14 4267.6 134.50\n",
            "+ scale        1    246.70 4372.1 135.10\n",
            "+ libtotal     1    178.43 4440.3 135.49\n",
            "+ students     1    172.91 4445.9 135.52\n",
            "+ edubudper    1    165.89 4452.9 135.56\n",
            "+ edubud       1    140.78 4478.0 135.70\n",
            "+ academy      1     78.13 4540.6 136.05\n",
            "+ base         1      1.54 4617.2 136.47\n",
            "\n",
            "Step:  AIC=130.41\n",
            "dolbomplus ~ schools + socialbud\n",
            "\n",
            "              Df Sum of Sq    RSS    AIC\n",
            "+ multiculper  1    572.70 3051.1 128.11\n",
            "+ bud          1    407.30 3216.5 129.43\n",
            "<none>                     3623.8 130.41\n",
            "+ Slibpub      1    276.08 3347.8 130.43\n",
            "+ little_lib   1    268.08 3355.8 130.49\n",
            "+ air          1    198.90 3424.9 131.00\n",
            "+ edubud       1    176.34 3447.5 131.16\n",
            "+ bmi          1    100.27 3523.6 131.71\n",
            "+ base         1     53.68 3570.2 132.04\n",
            "+ fin01        1     48.21 3575.6 132.08\n",
            "+ academy      1     27.12 3596.7 132.22\n",
            "+ fin02        1     21.29 3602.5 132.26\n",
            "+ scale        1     10.46 3613.4 132.34\n",
            "+ hanbumo      1      8.29 3615.5 132.35\n",
            "+ multicul     1      7.96 3615.9 132.35\n",
            "+ students     1      5.53 3618.3 132.37\n",
            "+ medical      1      1.03 3622.8 132.40\n",
            "+ libtotal     1      0.74 3623.1 132.41\n",
            "+ edubudper    1      0.15 3623.7 132.41\n",
            "+ gross        1      0.11 3623.7 132.41\n",
            "\n",
            "Step:  AIC=128.11\n",
            "dolbomplus ~ schools + socialbud + multiculper\n",
            "\n",
            "             Df Sum of Sq    RSS    AIC\n",
            "+ bud         1    704.12 2347.0 123.55\n",
            "+ Slibpub     1    272.94 2778.2 127.77\n",
            "+ little_lib  1    259.47 2791.7 127.89\n",
            "<none>                    3051.1 128.11\n",
            "+ edubud      1    190.79 2860.3 128.50\n",
            "+ fin02       1    136.57 2914.6 128.97\n",
            "+ fin01       1     68.05 2983.1 129.55\n",
            "+ air         1     52.13 2999.0 129.68\n",
            "+ gross       1     39.09 3012.1 129.79\n",
            "+ academy     1     28.64 3022.5 129.87\n",
            "+ scale       1     17.05 3034.1 129.97\n",
            "+ students    1     14.69 3036.4 129.99\n",
            "+ medical     1     11.08 3040.1 130.02\n",
            "+ bmi         1     10.47 3040.7 130.02\n",
            "+ multicul    1      9.09 3042.0 130.03\n",
            "+ hanbumo     1      6.30 3044.8 130.06\n",
            "+ base        1      4.49 3046.6 130.07\n",
            "+ edubudper   1      3.16 3048.0 130.08\n",
            "+ libtotal    1      0.32 3050.8 130.11\n",
            "\n",
            "Step:  AIC=123.55\n",
            "dolbomplus ~ schools + socialbud + multiculper + bud\n",
            "\n",
            "             Df Sum of Sq    RSS    AIC\n",
            "<none>                    2347.0 123.55\n",
            "+ libtotal    1   122.232 2224.8 124.21\n",
            "+ fin02       1   116.112 2230.9 124.28\n",
            "+ base        1    67.290 2279.7 124.82\n",
            "+ scale       1    52.373 2294.6 124.99\n",
            "+ multicul    1    39.779 2307.2 125.12\n",
            "+ air         1    25.887 2321.1 125.27\n",
            "+ edubud      1    25.628 2321.4 125.28\n",
            "+ bmi         1    22.908 2324.1 125.31\n",
            "+ edubudper   1    11.770 2335.2 125.42\n",
            "+ fin01       1    11.692 2335.3 125.43\n",
            "+ academy     1     7.767 2339.2 125.47\n",
            "+ Slibpub     1     4.729 2342.3 125.50\n",
            "+ gross       1     3.591 2343.4 125.51\n",
            "+ medical     1     2.270 2344.8 125.53\n",
            "+ students    1     1.458 2345.6 125.53\n",
            "+ little_lib  1     0.991 2346.0 125.54\n",
            "+ hanbumo     1     0.732 2346.3 125.54\n",
            "\n",
            "Call:\n",
            "lm(formula = dolbomplus ~ schools + socialbud + multiculper + \n",
            "    bud, data = seoul_data)\n",
            "\n",
            "Coefficients:\n",
            "(Intercept)      schools    socialbud  multiculper          bud  \n",
            "   -47.4517       4.0688       0.6489     287.8968       0.7753  \n",
            "\n"
          ],
          "name": "stdout"
        }
      ]
    },
    {
      "cell_type": "code",
      "metadata": {
        "id": "2QqfPPPHEVWj",
        "colab_type": "code",
        "colab": {
          "base_uri": "https://localhost:8080/",
          "height": 422
        },
        "outputId": "7462f066-5325-4dec-9ade-d31cea1801e4"
      },
      "source": [
        "%%R\n",
        "model1 <- lm(formula = dolbomplus ~ schools + socialbud + multiculper +  bud, data = seoul_data)\n",
        "summary(model1)       "
      ],
      "execution_count": 192,
      "outputs": [
        {
          "output_type": "stream",
          "text": [
            "\n",
            "Call:\n",
            "lm(formula = dolbomplus ~ schools + socialbud + multiculper + \n",
            "    bud, data = seoul_data)\n",
            "\n",
            "Residuals:\n",
            "    Min      1Q  Median      3Q     Max \n",
            "-19.578  -5.682  -2.195   9.736  16.863 \n",
            "\n",
            "Coefficients:\n",
            "            Estimate Std. Error t value Pr(>|t|)    \n",
            "(Intercept) -47.4517    16.9056  -2.807   0.0109 *  \n",
            "schools       4.0688     0.3855  10.554 1.27e-09 ***\n",
            "socialbud     0.6489     0.3997   1.624   0.1201    \n",
            "multiculper 287.8968   105.7642   2.722   0.0131 *  \n",
            "bud           0.7753     0.3165   2.450   0.0236 *  \n",
            "---\n",
            "Signif. codes:  0 ‘***’ 0.001 ‘**’ 0.01 ‘*’ 0.05 ‘.’ 0.1 ‘ ’ 1\n",
            "\n",
            "Residual standard error: 10.83 on 20 degrees of freedom\n",
            "Multiple R-squared:  0.9202,\tAdjusted R-squared:  0.9042 \n",
            "F-statistic: 57.62 on 4 and 20 DF,  p-value: 1.075e-10\n",
            "\n"
          ],
          "name": "stdout"
        }
      ]
    },
    {
      "cell_type": "code",
      "metadata": {
        "id": "Cm1LPC4eE1Ia",
        "colab_type": "code",
        "colab": {
          "base_uri": "https://localhost:8080/",
          "height": 52
        },
        "outputId": "17beaa63-d6b6-4ce3-fb4a-a124eef74b5f"
      },
      "source": [
        "#다중공선성 확인\n",
        "%%R\n",
        "vif(model1)"
      ],
      "execution_count": 193,
      "outputs": [
        {
          "output_type": "stream",
          "text": [
            "    schools   socialbud multiculper         bud \n",
            "   1.868243    1.629724    1.347966    1.109885 \n"
          ],
          "name": "stdout"
        }
      ]
    },
    {
      "cell_type": "code",
      "metadata": {
        "id": "yeIH5l3OKMKN",
        "colab_type": "code",
        "colab": {}
      },
      "source": [
        "# backward , stepwise 한 결과값 옮겨 놓기 "
      ],
      "execution_count": 194,
      "outputs": []
    },
    {
      "cell_type": "code",
      "metadata": {
        "id": "IXbn8Kl4IyUy",
        "colab_type": "code",
        "colab": {
          "base_uri": "https://localhost:8080/",
          "height": 1000
        },
        "outputId": "8969891e-5a06-4994-d7ea-e12a094517ee"
      },
      "source": [
        "# 두번째 방법 : 부분집합회귀분석(all subset regression)\n",
        "%%R\n",
        "seoul_allsubset<- regsubsets(dolbomplus ~., data = seoul_data, nvmax = 20)\n",
        "\n",
        "summary(seoul_allsubset)"
      ],
      "execution_count": 195,
      "outputs": [
        {
          "output_type": "stream",
          "text": [
            "Subset selection object\n",
            "Call: regsubsets.formula(dolbomplus ~ ., data = seoul_data, nvmax = 20)\n",
            "21 Variables  (and intercept)\n",
            "            Forced in Forced out\n",
            "schools         FALSE      FALSE\n",
            "bmi             FALSE      FALSE\n",
            "hanbumo         FALSE      FALSE\n",
            "base            FALSE      FALSE\n",
            "students        FALSE      FALSE\n",
            "multicul        FALSE      FALSE\n",
            "multiculper     FALSE      FALSE\n",
            "gross           FALSE      FALSE\n",
            "academy         FALSE      FALSE\n",
            "fin01           FALSE      FALSE\n",
            "fin02           FALSE      FALSE\n",
            "socialbud       FALSE      FALSE\n",
            "libtotal        FALSE      FALSE\n",
            "little_lib      FALSE      FALSE\n",
            "Slibpub         FALSE      FALSE\n",
            "scale           FALSE      FALSE\n",
            "edubud          FALSE      FALSE\n",
            "bud             FALSE      FALSE\n",
            "edubudper       FALSE      FALSE\n",
            "medical         FALSE      FALSE\n",
            "air             FALSE      FALSE\n",
            "1 subsets of each size up to 20\n",
            "Selection Algorithm: exhaustive\n",
            "          schools bmi hanbumo base students multicul multiculper gross academy\n",
            "1  ( 1 )  \"*\"     \" \" \" \"     \" \"  \" \"      \" \"      \" \"         \" \"   \" \"    \n",
            "2  ( 1 )  \"*\"     \" \" \" \"     \" \"  \" \"      \" \"      \" \"         \" \"   \" \"    \n",
            "3  ( 1 )  \"*\"     \" \" \" \"     \" \"  \" \"      \" \"      \"*\"         \" \"   \" \"    \n",
            "4  ( 1 )  \"*\"     \" \" \" \"     \" \"  \" \"      \" \"      \"*\"         \" \"   \" \"    \n",
            "5  ( 1 )  \"*\"     \" \" \" \"     \" \"  \" \"      \" \"      \"*\"         \" \"   \" \"    \n",
            "6  ( 1 )  \"*\"     \" \" \" \"     \" \"  \"*\"      \" \"      \"*\"         \" \"   \" \"    \n",
            "7  ( 1 )  \"*\"     \" \" \" \"     \" \"  \"*\"      \" \"      \"*\"         \" \"   \" \"    \n",
            "8  ( 1 )  \"*\"     \" \" \" \"     \" \"  \"*\"      \" \"      \"*\"         \" \"   \" \"    \n",
            "9  ( 1 )  \"*\"     \" \" \" \"     \" \"  \"*\"      \" \"      \"*\"         \" \"   \"*\"    \n",
            "10  ( 1 ) \"*\"     \" \" \" \"     \"*\"  \"*\"      \" \"      \"*\"         \" \"   \"*\"    \n",
            "11  ( 1 ) \"*\"     \" \" \" \"     \" \"  \"*\"      \" \"      \"*\"         \"*\"   \" \"    \n",
            "12  ( 1 ) \"*\"     \"*\" \" \"     \" \"  \"*\"      \" \"      \"*\"         \"*\"   \" \"    \n",
            "13  ( 1 ) \"*\"     \" \" \" \"     \"*\"  \"*\"      \" \"      \"*\"         \"*\"   \"*\"    \n",
            "14  ( 1 ) \"*\"     \" \" \" \"     \"*\"  \"*\"      \" \"      \"*\"         \"*\"   \"*\"    \n",
            "15  ( 1 ) \"*\"     \" \" \" \"     \"*\"  \"*\"      \" \"      \"*\"         \"*\"   \"*\"    \n",
            "16  ( 1 ) \"*\"     \"*\" \" \"     \"*\"  \"*\"      \" \"      \"*\"         \"*\"   \"*\"    \n",
            "17  ( 1 ) \"*\"     \"*\" \" \"     \"*\"  \"*\"      \" \"      \"*\"         \"*\"   \"*\"    \n",
            "18  ( 1 ) \"*\"     \"*\" \" \"     \"*\"  \"*\"      \" \"      \"*\"         \"*\"   \"*\"    \n",
            "19  ( 1 ) \"*\"     \"*\" \"*\"     \"*\"  \"*\"      \" \"      \"*\"         \"*\"   \"*\"    \n",
            "20  ( 1 ) \"*\"     \"*\" \"*\"     \"*\"  \"*\"      \" \"      \"*\"         \"*\"   \"*\"    \n",
            "          fin01 fin02 socialbud libtotal little_lib Slibpub scale edubud bud\n",
            "1  ( 1 )  \" \"   \" \"   \" \"       \" \"      \" \"        \" \"     \" \"   \" \"    \" \"\n",
            "2  ( 1 )  \" \"   \" \"   \"*\"       \" \"      \" \"        \" \"     \" \"   \" \"    \" \"\n",
            "3  ( 1 )  \" \"   \" \"   \" \"       \" \"      \" \"        \" \"     \" \"   \" \"    \"*\"\n",
            "4  ( 1 )  \" \"   \" \"   \" \"       \"*\"      \" \"        \" \"     \" \"   \" \"    \"*\"\n",
            "5  ( 1 )  \" \"   \" \"   \" \"       \"*\"      \" \"        \"*\"     \" \"   \"*\"    \" \"\n",
            "6  ( 1 )  \" \"   \" \"   \" \"       \"*\"      \" \"        \"*\"     \" \"   \"*\"    \" \"\n",
            "7  ( 1 )  \" \"   \" \"   \" \"       \"*\"      \" \"        \"*\"     \"*\"   \"*\"    \" \"\n",
            "8  ( 1 )  \" \"   \" \"   \" \"       \"*\"      \" \"        \"*\"     \"*\"   \"*\"    \" \"\n",
            "9  ( 1 )  \" \"   \" \"   \" \"       \"*\"      \" \"        \"*\"     \"*\"   \"*\"    \"*\"\n",
            "10  ( 1 ) \" \"   \" \"   \" \"       \"*\"      \" \"        \"*\"     \" \"   \"*\"    \"*\"\n",
            "11  ( 1 ) \" \"   \"*\"   \"*\"       \"*\"      \" \"        \"*\"     \"*\"   \"*\"    \" \"\n",
            "12  ( 1 ) \" \"   \"*\"   \"*\"       \"*\"      \"*\"        \" \"     \"*\"   \"*\"    \" \"\n",
            "13  ( 1 ) \" \"   \"*\"   \"*\"       \"*\"      \" \"        \"*\"     \"*\"   \"*\"    \" \"\n",
            "14  ( 1 ) \" \"   \"*\"   \"*\"       \"*\"      \"*\"        \" \"     \" \"   \"*\"    \"*\"\n",
            "15  ( 1 ) \"*\"   \"*\"   \"*\"       \"*\"      \" \"        \"*\"     \" \"   \"*\"    \"*\"\n",
            "16  ( 1 ) \"*\"   \"*\"   \"*\"       \"*\"      \" \"        \"*\"     \" \"   \" \"    \"*\"\n",
            "17  ( 1 ) \"*\"   \"*\"   \"*\"       \"*\"      \" \"        \"*\"     \" \"   \"*\"    \"*\"\n",
            "18  ( 1 ) \"*\"   \"*\"   \"*\"       \"*\"      \" \"        \"*\"     \"*\"   \"*\"    \"*\"\n",
            "19  ( 1 ) \"*\"   \"*\"   \"*\"       \"*\"      \" \"        \"*\"     \"*\"   \"*\"    \"*\"\n",
            "20  ( 1 ) \"*\"   \"*\"   \"*\"       \"*\"      \"*\"        \"*\"     \"*\"   \"*\"    \"*\"\n",
            "          edubudper medical air\n",
            "1  ( 1 )  \" \"       \" \"     \" \"\n",
            "2  ( 1 )  \" \"       \" \"     \" \"\n",
            "3  ( 1 )  \" \"       \" \"     \" \"\n",
            "4  ( 1 )  \" \"       \" \"     \" \"\n",
            "5  ( 1 )  \" \"       \" \"     \" \"\n",
            "6  ( 1 )  \" \"       \" \"     \" \"\n",
            "7  ( 1 )  \" \"       \" \"     \" \"\n",
            "8  ( 1 )  \" \"       \" \"     \"*\"\n",
            "9  ( 1 )  \" \"       \" \"     \" \"\n",
            "10  ( 1 ) \" \"       \"*\"     \" \"\n",
            "11  ( 1 ) \" \"       \"*\"     \" \"\n",
            "12  ( 1 ) \" \"       \"*\"     \" \"\n",
            "13  ( 1 ) \" \"       \"*\"     \" \"\n",
            "14  ( 1 ) \" \"       \"*\"     \"*\"\n",
            "15  ( 1 ) \" \"       \"*\"     \"*\"\n",
            "16  ( 1 ) \"*\"       \"*\"     \"*\"\n",
            "17  ( 1 ) \"*\"       \"*\"     \"*\"\n",
            "18  ( 1 ) \"*\"       \"*\"     \"*\"\n",
            "19  ( 1 ) \"*\"       \"*\"     \"*\"\n",
            "20  ( 1 ) \"*\"       \"*\"     \"*\"\n"
          ],
          "name": "stdout"
        }
      ]
    },
    {
      "cell_type": "code",
      "metadata": {
        "id": "B822NPT1I-eJ",
        "colab_type": "code",
        "colab": {
          "base_uri": "https://localhost:8080/",
          "height": 70
        },
        "outputId": "1e09539f-5b48-4f6c-970d-0ec99ee3f5e5"
      },
      "source": [
        " # 수정결정계수 값 확인 \n",
        " %%R\n",
        " summary(seoul_allsubset)$adjr2"
      ],
      "execution_count": 196,
      "outputs": [
        {
          "output_type": "stream",
          "text": [
            " [1] 0.8360347 0.8655073 0.8967201 0.9048332 0.9219765 0.9252889 0.9303411\n",
            " [8] 0.9315801 0.9327157 0.9337733 0.9427549 0.9451825 0.9480921 0.9526978\n",
            "[15] 0.9520731 0.9536395 0.9534156 0.9487768 0.9385609 0.9232077\n"
          ],
          "name": "stdout"
        }
      ]
    },
    {
      "cell_type": "code",
      "metadata": {
        "id": "CO5wmun4I-Oy",
        "colab_type": "code",
        "colab": {
          "base_uri": "https://localhost:8080/",
          "height": 70
        },
        "outputId": "f1f525ec-b662-47e7-bf36-9f801301fd84"
      },
      "source": [
        " # BIC 값 확인\n",
        " %%R\n",
        " summary(seoul_allsubset)$bic "
      ],
      "execution_count": 197,
      "outputs": [
        {
          "output_type": "stream",
          "text": [
            " [1] -39.82876 -42.67480 -47.22061 -47.26676 -50.29576 -49.51310 -49.47361\n",
            " [8] -48.21904 -47.03204 -45.93405 -48.21143 -48.07692 -48.39681 -49.88355\n",
            "[15] -48.97069 -49.52710 -49.52609 -47.78780 -44.58059 -41.36387\n"
          ],
          "name": "stdout"
        }
      ]
    },
    {
      "cell_type": "code",
      "metadata": {
        "id": "r94YB9yLJKSj",
        "colab_type": "code",
        "colab": {
          "base_uri": "https://localhost:8080/",
          "height": 497
        },
        "outputId": "bf9ff0a0-c18d-4a9b-8a9f-d8e57f601190"
      },
      "source": [
        "# bic 값 시각화\n",
        "%%R\n",
        "plot(seoul_allsubset, scale=\"bic\", col = palette())"
      ],
      "execution_count": 198,
      "outputs": [
        {
          "output_type": "display_data",
          "data": {
            "image/png": "[encoded data removed]"
          },
          "metadata": {
            "tags": []
          }
        }
      ]
    },
    {
      "cell_type": "code",
      "metadata": {
        "id": "Yjs58GvHJLv-",
        "colab_type": "code",
        "colab": {
          "base_uri": "https://localhost:8080/",
          "height": 497
        },
        "outputId": "f5190547-5314-44e8-9597-cf1028f051fa"
      },
      "source": [
        "# 수정결정계수 시각화\n",
        "%%R\n",
        "plot(seoul_allsubset, scale=\"adjr2\",col=palette())"
      ],
      "execution_count": 199,
      "outputs": [
        {
          "output_type": "display_data",
          "data": {
            "image/png": "[encoded data removed]"
          },
          "metadata": {
            "tags": []
          }
        }
      ]
    },
    {
      "cell_type": "code",
      "metadata": {
        "id": "yx7BF2uoJmcB",
        "colab_type": "code",
        "colab": {
          "base_uri": "https://localhost:8080/",
          "height": 510
        },
        "outputId": "cb17ac7d-2283-43fe-9181-aeb3ba45074b"
      },
      "source": [
        "%%R\n",
        "model2 <- lm(dolbomplus~ schools+ multiculper+ edubud + libtotal+ Slibpub, data = seoul_data)\n",
        "summary(model2)"
      ],
      "execution_count": 200,
      "outputs": [
        {
          "output_type": "stream",
          "text": [
            "\n",
            "Call:\n",
            "lm(formula = dolbomplus ~ schools + multiculper + edubud + libtotal + \n",
            "    Slibpub, data = seoul_data)\n",
            "\n",
            "Residuals:\n",
            "     Min       1Q   Median       3Q      Max \n",
            "-17.6176  -6.2671  -0.7232   6.5947  17.0432 \n",
            "\n",
            "Coefficients:\n",
            "            Estimate Std. Error t value Pr(>|t|)    \n",
            "(Intercept)  -7.1418    10.9273  -0.654 0.521219    \n",
            "schools       3.5794     0.3983   8.986 2.86e-08 ***\n",
            "multiculper 214.5663    91.8746   2.335 0.030639 *  \n",
            "edubud        0.6722     0.2840   2.367 0.028709 *  \n",
            "libtotal     -0.5260     0.1550  -3.394 0.003048 ** \n",
            "Slibpub       0.8855     0.2217   3.994 0.000777 ***\n",
            "0 ‘***’ 0.001 ‘**’ 0.01 ‘*’ 0.05 ‘.’ 0.1 ‘ ’ 1\n",
            "\n",
            "Residual standard error: 9.775 on 19 degrees of freedom\n",
            "Multiple R-squared:  0.9382,\tAdjusted R-squared:  0.922 \n",
            "F-statistic: 57.72 on 5 and 19 DF,  p-value: 7.907e-11\n",
            "\n"
          ],
          "name": "stdout"
        },
        {
          "output_type": "stream",
          "text": [
            "From cffi callback <function _consolewrite_ex at 0x7f6275d8aea0>:\n",
            "Traceback (most recent call last):\n",
            "  File \"/usr/local/lib/python3.6/dist-packages/rpy2/rinterface_lib/callbacks.py\", line 125, in _consolewrite_ex\n",
            "    @ffi_proxy.callback(ffi_proxy._consolewrite_ex_def,\n",
            "KeyboardInterrupt\n"
          ],
          "name": "stderr"
        }
      ]
    },
    {
      "cell_type": "code",
      "metadata": {
        "id": "aoJfb3f4Ju_Z",
        "colab_type": "code",
        "colab": {
          "base_uri": "https://localhost:8080/",
          "height": 52
        },
        "outputId": "28a7fbd4-20bc-47e0-cf75-75a8a224420b"
      },
      "source": [
        "%%R\n",
        "vif(model2)"
      ],
      "execution_count": 201,
      "outputs": [
        {
          "output_type": "stream",
          "text": [
            "    schools multiculper      edubud    libtotal     Slibpub \n",
            "   2.448974    1.249125    1.097220    1.888568    3.197004 \n"
          ],
          "name": "stdout"
        }
      ]
    },
    {
      "cell_type": "markdown",
      "metadata": {
        "id": "sCmizLpBLRfj",
        "colab_type": "text"
      },
      "source": [
        "### 모델 결과\n",
        "\n",
        ">   모델1    92.02%      신뢰수준 미달 변수 개수 : 1     VIF : 안정       총예측변수:  4\n",
        "\n",
        "   모델2    93.82%      신뢰수준 미달 변수 개수 : 0     VIF : 안정       총예측변수:  5\n",
        "\n",
        "\n",
        "\n",
        "\n",
        "### 최종모델선정\n",
        "> 신뢰수준,결정계수,수정결정계수, AIC, BIC를 모두 고려한 결과\n",
        " 예측변수 5개일때의 모델2가 가장 최적의 모델로 드러났다.\n"
      ]
    },
    {
      "cell_type": "code",
      "metadata": {
        "id": "aEueekBFL8co",
        "colab_type": "code",
        "colab": {
          "base_uri": "https://localhost:8080/",
          "height": 1000
        },
        "outputId": "d8172fbd-fa31-4d95-e311-5d2af78da035"
      },
      "source": [
        "# 선정된 모델에 대한 회귀진단\n",
        "%%R\n",
        "plot(model2, col = palette(),bg = palette())"
      ],
      "execution_count": 202,
      "outputs": [
        {
          "output_type": "display_data",
          "data": {
            "image/png": "[encoded data removed]"
          },
          "metadata": {
            "tags": []
          }
        },
        {
          "output_type": "display_data",
          "data": {
            "image/png": "[encoded data removed]"
          },
          "metadata": {
            "tags": []
          }
        },
        {
          "output_type": "display_data",
          "data": {
            "image/png": "[encoded data removed]"
          },
          "metadata": {
            "tags": []
          }
        },
        {
          "output_type": "display_data",
          "data": {
            "image/png": "[encoded data removed]"
          },
          "metadata": {
            "tags": []
          }
        }
      ]
    },
    {
      "cell_type": "code",
      "metadata": {
        "id": "pNXnRZ49QH-N",
        "colab_type": "code",
        "colab": {
          "base_uri": "https://localhost:8080/",
          "height": 439
        },
        "outputId": "0a87b06f-dec5-45aa-8241-b5304efd8ad5"
      },
      "source": [
        "#정규화\n",
        "%%R\n",
        "seoul_norm <- transform(seoul_data, \n",
        "                        z.schools = scale(schools),\n",
        "                        z.multiculper = scale(multiculper),\n",
        "                        z.libtotal = scale(libtotal),\n",
        "                        z.Slibpub = scale(Slibpub),\n",
        "                        z.edubud = scale(edubud))\n",
        "head(seoul_norm)\n",
        "\n",
        "seoul_norm <- lm(dolbomplus ~ z.schools + z.multiculper + z.libtotal + z.Slibpub + z.edubud , data = seoul_norm)    \n",
        "summary(seoul_norm)\n"
      ],
      "execution_count": 203,
      "outputs": [
        {
          "output_type": "stream",
          "text": [
            "\n",
            "Call:\n",
            "lm(formula = dolbomplus ~ z.schools + z.multiculper + z.libtotal + \n",
            "    z.Slibpub + z.edubud, data = seoul_norm)\n",
            "\n",
            "Residuals:\n",
            "     Min       1Q   Median       3Q      Max \n",
            "-17.6176  -6.2671  -0.7232   6.5947  17.0432 \n",
            "\n",
            "Coefficients:\n",
            "              Estimate Std. Error t value Pr(>|t|)    \n",
            "(Intercept)    105.400      1.955  53.911  < 2e-16 ***\n",
            "z.schools       28.061      3.123   8.986 2.86e-08 ***\n",
            "z.multiculper    5.208      2.230   2.335 0.030639 *  \n",
            "z.libtotal      -9.306      2.742  -3.394 0.003048 ** \n",
            "z.Slibpub       14.250      3.568   3.994 0.000777 ***\n",
            "z.edubud         4.947      2.090   2.367 0.028709 *  \n",
            "---\n",
            "Signif. codes:  0 ‘***’ 0.001 ‘**’ 0.01 ‘*’ 0.05 ‘.’ 0.1 ‘ ’ 1\n",
            "\n",
            "Residual standard error: 9.775 on 19 degrees of freedom\n",
            "Multiple R-squared:  0.9382,\tAdjusted R-squared:  0.922 \n",
            "F-statistic: 57.72 on 5 and 19 DF,  p-value: 7.907e-11\n",
            "\n"
          ],
          "name": "stdout"
        }
      ]
    },
    {
      "cell_type": "code",
      "metadata": {
        "id": "jUdMDn1SR9E2",
        "colab_type": "code",
        "colab": {}
      },
      "source": [
        "%%R\n",
        "relweights <- function(fit,...){\n",
        "  \n",
        "  R <- cor(fit$model)\n",
        "  nvar <- ncol(R)\n",
        "  rxx <- R[2:nvar, 2:nvar]\n",
        "  rxy <- R[2:nvar, 1]\n",
        "  svd <- eigen(rxx)\n",
        "  evec <- svd$vectors\n",
        "  ev <- svd$values\n",
        "  delta <- diag(sqrt(ev))\n",
        "  lambda <- evec %*% delta %*% t(evec)\n",
        "  lambdasq <- lambda ^ 2\n",
        "  beta <- solve(lambda) %*% rxy\n",
        "  rsquare <- colSums(beta ^ 2)\n",
        "  rawwgt <- lambdasq %*% beta ^ 2\n",
        "  import <- (rawwgt / rsquare) * 100\n",
        "  import <- as.data.frame(import)\n",
        "  row.names(import) <- names(fit$model[2:nvar])\n",
        "  names(import) <- \"Weights\"\n",
        "  import <- import[order(import),1, drop=FALSE]\n",
        "  dotchart(import$Weights, labels=row.names(import),\n",
        "           xlab=\"% of R-Square\", pch=19,\n",
        "           main=\"Relative Importance of Predictor Variables\",\n",
        "           sub=paste(\"Total R-Square=\", round(rsquare, digits=3)),\n",
        "           ...)\n",
        "  return(import)\n",
        "}"
      ],
      "execution_count": 204,
      "outputs": []
    },
    {
      "cell_type": "code",
      "metadata": {
        "id": "ZmtL5SECSAdN",
        "colab_type": "code",
        "colab": {
          "base_uri": "https://localhost:8080/",
          "height": 602
        },
        "outputId": "6c039825-0f0f-4892-d2a9-d905b6f04052"
      },
      "source": [
        "#변수 간 중요도 시각화 \n",
        "%%R\n",
        "result = relweights(model2, col=palette())\n",
        "result"
      ],
      "execution_count": 205,
      "outputs": [
        {
          "output_type": "stream",
          "text": [
            "               Weights\n",
            "edubud       0.6166512\n",
            "multiculper  2.8061121\n",
            "libtotal     4.7130338\n",
            "Slibpub     33.2943594\n",
            "schools     58.5698434\n"
          ],
          "name": "stdout"
        },
        {
          "output_type": "display_data",
          "data": {
            "image/png": "[encoded data removed]"
          },
          "metadata": {
            "tags": []
          }
        }
      ]
    },
    {
      "cell_type": "markdown",
      "metadata": {
        "id": "OJMygeHTSm92",
        "colab_type": "text"
      },
      "source": [
        "## 결론 1"
      ]
    },
    {
      "cell_type": "markdown",
      "metadata": {
        "id": "NPqX_7xJSq7u",
        "colab_type": "text"
      },
      "source": [
        "돌봄센터수란, 현재 학교에서 운영중인 초등돌봄교실의 수, 지역에서 운영중인 지역아동센터수, 방과후아카데미 수, 다함께 돌봄센터 수를 전부 합한 총계이다.\n",
        "\n",
        "\n",
        "현재 서울시 구별 돌봄센터수 예측에 채택된 변수는 (1)학교 수, (2)공공도서관+작은도서관 수, (3)도서관 수(국립,대학,전문,작은 총합), (4)다문화 학생수비율, (5)교육재정보조금 이다. 돌봄센터수는 서울시 구별 인프라와 재정에 따라 영향을 많이 받는 것으로 판단된다. 이를 지역 데이터에 적용해 지역별 현재 돌봄센터수와 예측한 돌봄센터 수 차이를 통해 가장 부족한 지역을 찾아내도록 한다. "
      ]
    },
    {
      "cell_type": "markdown",
      "metadata": {
        "id": "7FyToFqzXMsm",
        "colab_type": "text"
      },
      "source": [
        "##Test 데이터 전처리"
      ]
    },
    {
      "cell_type": "markdown",
      "metadata": {
        "id": "GFE6hX9mXQVU",
        "colab_type": "text"
      },
      "source": [
        "## Test 테이블 생성  "
      ]
    },
    {
      "cell_type": "markdown",
      "metadata": {
        "id": "wXn2J97GXoSv",
        "colab_type": "text"
      },
      "source": [
        "## Test 테이블에 모델적용"
      ]
    },
    {
      "cell_type": "markdown",
      "metadata": {
        "id": "BI-jA-0dX3gW",
        "colab_type": "text"
      },
      "source": [
        "##결론 2"
      ]
    }
  ]
}